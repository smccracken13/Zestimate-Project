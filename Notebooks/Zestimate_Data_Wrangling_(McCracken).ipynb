{
  "nbformat": 4,
  "nbformat_minor": 0,
  "metadata": {
    "colab": {
      "provenance": [],
      "authorship_tag": "ABX9TyN3Q+iAnIl6b1uyfnTrdNpS",
      "include_colab_link": true
    },
    "kernelspec": {
      "name": "python3",
      "display_name": "Python 3"
    },
    "language_info": {
      "name": "python"
    }
  },
  "cells": [
    {
      "cell_type": "markdown",
      "metadata": {
        "id": "view-in-github",
        "colab_type": "text"
      },
      "source": [
        "<a href=\"https://colab.research.google.com/github/smccracken13/Zestimate-Project/blob/main/Zestimate_Data_Wrangling_(McCracken).ipynb\" target=\"_parent\"><img src=\"https://colab.research.google.com/assets/colab-badge.svg\" alt=\"Open In Colab\"/></a>"
      ]
    },
    {
      "cell_type": "markdown",
      "source": [
        "##Zestimate Data Wrangling\n",
        "https://www.kaggle.com/competitions/zillow-prize-1\n",
        "\n",
        "Scott McCracken"
      ],
      "metadata": {
        "id": "nFhfS3RwyFZf"
      }
    },
    {
      "cell_type": "code",
      "execution_count": 1,
      "metadata": {
        "id": "sWy4uuTQx2tW"
      },
      "outputs": [],
      "source": [
        "import pandas as pd\n",
        "import numpy as np\n",
        "import seaborn as sns\n",
        "import matplotlib.pyplot as plt\n",
        "from google.colab import files"
      ]
    },
    {
      "cell_type": "markdown",
      "source": [
        "# Load the data sets from Kaggle\n",
        "There is data from two home selling seasons: 2016 and 2017. Each season has a train.csv that includes transaction dates and log error (the error that the Zestimate had) and a properties.csv that contains home features. Eventually, we will need to predict logerror.\n",
        "\n",
        "# File descriptions\n",
        "prop16 - all the properties with their home features for 2016.\n",
        "\n",
        "train16 - the training set with transactions from 1/1/2016 to 12/31/2016\n",
        "\n",
        "sample_submission.csv - a sample submission file in the correct format"
      ],
      "metadata": {
        "id": "81maAEOH1B2x"
      }
    },
    {
      "cell_type": "code",
      "source": [
        "files.upload()"
      ],
      "metadata": {
        "colab": {
          "base_uri": "https://localhost:8080/",
          "height": 92
        },
        "id": "4wfMrRzhyYfK",
        "outputId": "42237935-1188-41b1-dd90-1c56fe1d98c3"
      },
      "execution_count": 2,
      "outputs": [
        {
          "output_type": "display_data",
          "data": {
            "text/plain": [
              "<IPython.core.display.HTML object>"
            ],
            "text/html": [
              "\n",
              "     <input type=\"file\" id=\"files-9717fe55-fd48-41b1-bf50-a8094133e292\" name=\"files[]\" multiple disabled\n",
              "        style=\"border:none\" />\n",
              "     <output id=\"result-9717fe55-fd48-41b1-bf50-a8094133e292\">\n",
              "      Upload widget is only available when the cell has been executed in the\n",
              "      current browser session. Please rerun this cell to enable.\n",
              "      </output>\n",
              "      <script>// Copyright 2017 Google LLC\n",
              "//\n",
              "// Licensed under the Apache License, Version 2.0 (the \"License\");\n",
              "// you may not use this file except in compliance with the License.\n",
              "// You may obtain a copy of the License at\n",
              "//\n",
              "//      http://www.apache.org/licenses/LICENSE-2.0\n",
              "//\n",
              "// Unless required by applicable law or agreed to in writing, software\n",
              "// distributed under the License is distributed on an \"AS IS\" BASIS,\n",
              "// WITHOUT WARRANTIES OR CONDITIONS OF ANY KIND, either express or implied.\n",
              "// See the License for the specific language governing permissions and\n",
              "// limitations under the License.\n",
              "\n",
              "/**\n",
              " * @fileoverview Helpers for google.colab Python module.\n",
              " */\n",
              "(function(scope) {\n",
              "function span(text, styleAttributes = {}) {\n",
              "  const element = document.createElement('span');\n",
              "  element.textContent = text;\n",
              "  for (const key of Object.keys(styleAttributes)) {\n",
              "    element.style[key] = styleAttributes[key];\n",
              "  }\n",
              "  return element;\n",
              "}\n",
              "\n",
              "// Max number of bytes which will be uploaded at a time.\n",
              "const MAX_PAYLOAD_SIZE = 100 * 1024;\n",
              "\n",
              "function _uploadFiles(inputId, outputId) {\n",
              "  const steps = uploadFilesStep(inputId, outputId);\n",
              "  const outputElement = document.getElementById(outputId);\n",
              "  // Cache steps on the outputElement to make it available for the next call\n",
              "  // to uploadFilesContinue from Python.\n",
              "  outputElement.steps = steps;\n",
              "\n",
              "  return _uploadFilesContinue(outputId);\n",
              "}\n",
              "\n",
              "// This is roughly an async generator (not supported in the browser yet),\n",
              "// where there are multiple asynchronous steps and the Python side is going\n",
              "// to poll for completion of each step.\n",
              "// This uses a Promise to block the python side on completion of each step,\n",
              "// then passes the result of the previous step as the input to the next step.\n",
              "function _uploadFilesContinue(outputId) {\n",
              "  const outputElement = document.getElementById(outputId);\n",
              "  const steps = outputElement.steps;\n",
              "\n",
              "  const next = steps.next(outputElement.lastPromiseValue);\n",
              "  return Promise.resolve(next.value.promise).then((value) => {\n",
              "    // Cache the last promise value to make it available to the next\n",
              "    // step of the generator.\n",
              "    outputElement.lastPromiseValue = value;\n",
              "    return next.value.response;\n",
              "  });\n",
              "}\n",
              "\n",
              "/**\n",
              " * Generator function which is called between each async step of the upload\n",
              " * process.\n",
              " * @param {string} inputId Element ID of the input file picker element.\n",
              " * @param {string} outputId Element ID of the output display.\n",
              " * @return {!Iterable<!Object>} Iterable of next steps.\n",
              " */\n",
              "function* uploadFilesStep(inputId, outputId) {\n",
              "  const inputElement = document.getElementById(inputId);\n",
              "  inputElement.disabled = false;\n",
              "\n",
              "  const outputElement = document.getElementById(outputId);\n",
              "  outputElement.innerHTML = '';\n",
              "\n",
              "  const pickedPromise = new Promise((resolve) => {\n",
              "    inputElement.addEventListener('change', (e) => {\n",
              "      resolve(e.target.files);\n",
              "    });\n",
              "  });\n",
              "\n",
              "  const cancel = document.createElement('button');\n",
              "  inputElement.parentElement.appendChild(cancel);\n",
              "  cancel.textContent = 'Cancel upload';\n",
              "  const cancelPromise = new Promise((resolve) => {\n",
              "    cancel.onclick = () => {\n",
              "      resolve(null);\n",
              "    };\n",
              "  });\n",
              "\n",
              "  // Wait for the user to pick the files.\n",
              "  const files = yield {\n",
              "    promise: Promise.race([pickedPromise, cancelPromise]),\n",
              "    response: {\n",
              "      action: 'starting',\n",
              "    }\n",
              "  };\n",
              "\n",
              "  cancel.remove();\n",
              "\n",
              "  // Disable the input element since further picks are not allowed.\n",
              "  inputElement.disabled = true;\n",
              "\n",
              "  if (!files) {\n",
              "    return {\n",
              "      response: {\n",
              "        action: 'complete',\n",
              "      }\n",
              "    };\n",
              "  }\n",
              "\n",
              "  for (const file of files) {\n",
              "    const li = document.createElement('li');\n",
              "    li.append(span(file.name, {fontWeight: 'bold'}));\n",
              "    li.append(span(\n",
              "        `(${file.type || 'n/a'}) - ${file.size} bytes, ` +\n",
              "        `last modified: ${\n",
              "            file.lastModifiedDate ? file.lastModifiedDate.toLocaleDateString() :\n",
              "                                    'n/a'} - `));\n",
              "    const percent = span('0% done');\n",
              "    li.appendChild(percent);\n",
              "\n",
              "    outputElement.appendChild(li);\n",
              "\n",
              "    const fileDataPromise = new Promise((resolve) => {\n",
              "      const reader = new FileReader();\n",
              "      reader.onload = (e) => {\n",
              "        resolve(e.target.result);\n",
              "      };\n",
              "      reader.readAsArrayBuffer(file);\n",
              "    });\n",
              "    // Wait for the data to be ready.\n",
              "    let fileData = yield {\n",
              "      promise: fileDataPromise,\n",
              "      response: {\n",
              "        action: 'continue',\n",
              "      }\n",
              "    };\n",
              "\n",
              "    // Use a chunked sending to avoid message size limits. See b/62115660.\n",
              "    let position = 0;\n",
              "    do {\n",
              "      const length = Math.min(fileData.byteLength - position, MAX_PAYLOAD_SIZE);\n",
              "      const chunk = new Uint8Array(fileData, position, length);\n",
              "      position += length;\n",
              "\n",
              "      const base64 = btoa(String.fromCharCode.apply(null, chunk));\n",
              "      yield {\n",
              "        response: {\n",
              "          action: 'append',\n",
              "          file: file.name,\n",
              "          data: base64,\n",
              "        },\n",
              "      };\n",
              "\n",
              "      let percentDone = fileData.byteLength === 0 ?\n",
              "          100 :\n",
              "          Math.round((position / fileData.byteLength) * 100);\n",
              "      percent.textContent = `${percentDone}% done`;\n",
              "\n",
              "    } while (position < fileData.byteLength);\n",
              "  }\n",
              "\n",
              "  // All done.\n",
              "  yield {\n",
              "    response: {\n",
              "      action: 'complete',\n",
              "    }\n",
              "  };\n",
              "}\n",
              "\n",
              "scope.google = scope.google || {};\n",
              "scope.google.colab = scope.google.colab || {};\n",
              "scope.google.colab._files = {\n",
              "  _uploadFiles,\n",
              "  _uploadFilesContinue,\n",
              "};\n",
              "})(self);\n",
              "</script> "
            ]
          },
          "metadata": {}
        },
        {
          "output_type": "stream",
          "name": "stdout",
          "text": [
            "Saving kaggle.json to kaggle (1).json\n"
          ]
        },
        {
          "output_type": "execute_result",
          "data": {
            "text/plain": [
              "{'kaggle.json': b'{\"username\":\"getitcracken\",\"key\":\"1738535d0942e470367a3e2f5eab5c24\"}'}"
            ]
          },
          "metadata": {},
          "execution_count": 2
        }
      ]
    },
    {
      "cell_type": "code",
      "source": [
        "# I will load the datasets directly from Kaggle\n",
        "!pip install -U -q kaggle\n",
        "!mkdir -p ~/.kaggle\n",
        "!cp kaggle.json ~/.kaggle/\n",
        "!chmod 600 ~/.kaggle/kaggle.json"
      ],
      "metadata": {
        "id": "_F-Le3BVyhPy"
      },
      "execution_count": 3,
      "outputs": []
    },
    {
      "cell_type": "code",
      "source": [
        "# prop16 contains property features for most of 2016\n",
        "!kaggle competitions download -c zillow-prize-1 -f properties_2016.csv\n",
        "!unzip properties_2016.csv.zip\n",
        "prop16 = pd.read_csv('properties_2016.csv', low_memory=False)"
      ],
      "metadata": {
        "colab": {
          "base_uri": "https://localhost:8080/"
        },
        "id": "We69XqVjyqJI",
        "outputId": "ba4b8e34-8982-4999-eddc-d0276fc30880"
      },
      "execution_count": 4,
      "outputs": [
        {
          "output_type": "stream",
          "name": "stdout",
          "text": [
            "properties_2016.csv.zip: Skipping, found more recently modified local copy (use --force to force download)\n",
            "Archive:  properties_2016.csv.zip\n",
            "replace properties_2016.csv? [y]es, [n]o, [A]ll, [N]one, [r]ename: n\n"
          ]
        }
      ]
    },
    {
      "cell_type": "code",
      "source": [
        "# train16 contains parcel_id, transaction dates, and logerror for most of 2016\n",
        "!kaggle competitions download -c zillow-prize-1 -f train_2016_v2.csv\n",
        "!unzip train_2016_v2.csv.zip\n",
        "train16 = pd.read_csv('train_2016_v2.csv', parse_dates=['transactiondate'], low_memory=False)"
      ],
      "metadata": {
        "colab": {
          "base_uri": "https://localhost:8080/"
        },
        "id": "XE-zeG3_zlEC",
        "outputId": "d46a20c7-ea7c-4755-d6a8-a921ee23b151"
      },
      "execution_count": 5,
      "outputs": [
        {
          "output_type": "stream",
          "name": "stdout",
          "text": [
            "train_2016_v2.csv.zip: Skipping, found more recently modified local copy (use --force to force download)\n",
            "Archive:  train_2016_v2.csv.zip\n",
            "replace train_2016_v2.csv? [y]es, [n]o, [A]ll, [N]one, [r]ename: n\n"
          ]
        }
      ]
    },
    {
      "cell_type": "markdown",
      "source": [
        "# Shape of each dataframe"
      ],
      "metadata": {
        "id": "sb9-ozqnA-ct"
      }
    },
    {
      "cell_type": "code",
      "source": [
        "print(\"Prop16 shape:\", prop16.shape)\n",
        "print(\"Train16 shape:\", train16.shape)"
      ],
      "metadata": {
        "colab": {
          "base_uri": "https://localhost:8080/"
        },
        "id": "rdGi8CnZBB4c",
        "outputId": "134b1286-18ed-4a6a-a310-e8a29ea08d69"
      },
      "execution_count": 6,
      "outputs": [
        {
          "output_type": "stream",
          "name": "stdout",
          "text": [
            "Prop16 shape: (2985217, 58)\n",
            "Train16 shape: (90275, 3)\n"
          ]
        }
      ]
    },
    {
      "cell_type": "markdown",
      "source": [
        "# Peek at train16"
      ],
      "metadata": {
        "id": "P39jtnjZDOis"
      }
    },
    {
      "cell_type": "code",
      "source": [
        "train16.head()"
      ],
      "metadata": {
        "colab": {
          "base_uri": "https://localhost:8080/",
          "height": 206
        },
        "id": "2JM3c_b1DduQ",
        "outputId": "9bdf8c58-8eb9-41da-fc60-dbafab1f77a2"
      },
      "execution_count": 7,
      "outputs": [
        {
          "output_type": "execute_result",
          "data": {
            "text/plain": [
              "   parcelid  logerror transactiondate\n",
              "0  11016594    0.0276      2016-01-01\n",
              "1  14366692   -0.1684      2016-01-01\n",
              "2  12098116   -0.0040      2016-01-01\n",
              "3  12643413    0.0218      2016-01-02\n",
              "4  14432541   -0.0050      2016-01-02"
            ],
            "text/html": [
              "\n",
              "  <div id=\"df-edefa599-bf1c-4208-b4e1-a069bd489913\">\n",
              "    <div class=\"colab-df-container\">\n",
              "      <div>\n",
              "<style scoped>\n",
              "    .dataframe tbody tr th:only-of-type {\n",
              "        vertical-align: middle;\n",
              "    }\n",
              "\n",
              "    .dataframe tbody tr th {\n",
              "        vertical-align: top;\n",
              "    }\n",
              "\n",
              "    .dataframe thead th {\n",
              "        text-align: right;\n",
              "    }\n",
              "</style>\n",
              "<table border=\"1\" class=\"dataframe\">\n",
              "  <thead>\n",
              "    <tr style=\"text-align: right;\">\n",
              "      <th></th>\n",
              "      <th>parcelid</th>\n",
              "      <th>logerror</th>\n",
              "      <th>transactiondate</th>\n",
              "    </tr>\n",
              "  </thead>\n",
              "  <tbody>\n",
              "    <tr>\n",
              "      <th>0</th>\n",
              "      <td>11016594</td>\n",
              "      <td>0.0276</td>\n",
              "      <td>2016-01-01</td>\n",
              "    </tr>\n",
              "    <tr>\n",
              "      <th>1</th>\n",
              "      <td>14366692</td>\n",
              "      <td>-0.1684</td>\n",
              "      <td>2016-01-01</td>\n",
              "    </tr>\n",
              "    <tr>\n",
              "      <th>2</th>\n",
              "      <td>12098116</td>\n",
              "      <td>-0.0040</td>\n",
              "      <td>2016-01-01</td>\n",
              "    </tr>\n",
              "    <tr>\n",
              "      <th>3</th>\n",
              "      <td>12643413</td>\n",
              "      <td>0.0218</td>\n",
              "      <td>2016-01-02</td>\n",
              "    </tr>\n",
              "    <tr>\n",
              "      <th>4</th>\n",
              "      <td>14432541</td>\n",
              "      <td>-0.0050</td>\n",
              "      <td>2016-01-02</td>\n",
              "    </tr>\n",
              "  </tbody>\n",
              "</table>\n",
              "</div>\n",
              "      <button class=\"colab-df-convert\" onclick=\"convertToInteractive('df-edefa599-bf1c-4208-b4e1-a069bd489913')\"\n",
              "              title=\"Convert this dataframe to an interactive table.\"\n",
              "              style=\"display:none;\">\n",
              "        \n",
              "  <svg xmlns=\"http://www.w3.org/2000/svg\" height=\"24px\"viewBox=\"0 0 24 24\"\n",
              "       width=\"24px\">\n",
              "    <path d=\"M0 0h24v24H0V0z\" fill=\"none\"/>\n",
              "    <path d=\"M18.56 5.44l.94 2.06.94-2.06 2.06-.94-2.06-.94-.94-2.06-.94 2.06-2.06.94zm-11 1L8.5 8.5l.94-2.06 2.06-.94-2.06-.94L8.5 2.5l-.94 2.06-2.06.94zm10 10l.94 2.06.94-2.06 2.06-.94-2.06-.94-.94-2.06-.94 2.06-2.06.94z\"/><path d=\"M17.41 7.96l-1.37-1.37c-.4-.4-.92-.59-1.43-.59-.52 0-1.04.2-1.43.59L10.3 9.45l-7.72 7.72c-.78.78-.78 2.05 0 2.83L4 21.41c.39.39.9.59 1.41.59.51 0 1.02-.2 1.41-.59l7.78-7.78 2.81-2.81c.8-.78.8-2.07 0-2.86zM5.41 20L4 18.59l7.72-7.72 1.47 1.35L5.41 20z\"/>\n",
              "  </svg>\n",
              "      </button>\n",
              "      \n",
              "  <style>\n",
              "    .colab-df-container {\n",
              "      display:flex;\n",
              "      flex-wrap:wrap;\n",
              "      gap: 12px;\n",
              "    }\n",
              "\n",
              "    .colab-df-convert {\n",
              "      background-color: #E8F0FE;\n",
              "      border: none;\n",
              "      border-radius: 50%;\n",
              "      cursor: pointer;\n",
              "      display: none;\n",
              "      fill: #1967D2;\n",
              "      height: 32px;\n",
              "      padding: 0 0 0 0;\n",
              "      width: 32px;\n",
              "    }\n",
              "\n",
              "    .colab-df-convert:hover {\n",
              "      background-color: #E2EBFA;\n",
              "      box-shadow: 0px 1px 2px rgba(60, 64, 67, 0.3), 0px 1px 3px 1px rgba(60, 64, 67, 0.15);\n",
              "      fill: #174EA6;\n",
              "    }\n",
              "\n",
              "    [theme=dark] .colab-df-convert {\n",
              "      background-color: #3B4455;\n",
              "      fill: #D2E3FC;\n",
              "    }\n",
              "\n",
              "    [theme=dark] .colab-df-convert:hover {\n",
              "      background-color: #434B5C;\n",
              "      box-shadow: 0px 1px 3px 1px rgba(0, 0, 0, 0.15);\n",
              "      filter: drop-shadow(0px 1px 2px rgba(0, 0, 0, 0.3));\n",
              "      fill: #FFFFFF;\n",
              "    }\n",
              "  </style>\n",
              "\n",
              "      <script>\n",
              "        const buttonEl =\n",
              "          document.querySelector('#df-edefa599-bf1c-4208-b4e1-a069bd489913 button.colab-df-convert');\n",
              "        buttonEl.style.display =\n",
              "          google.colab.kernel.accessAllowed ? 'block' : 'none';\n",
              "\n",
              "        async function convertToInteractive(key) {\n",
              "          const element = document.querySelector('#df-edefa599-bf1c-4208-b4e1-a069bd489913');\n",
              "          const dataTable =\n",
              "            await google.colab.kernel.invokeFunction('convertToInteractive',\n",
              "                                                     [key], {});\n",
              "          if (!dataTable) return;\n",
              "\n",
              "          const docLinkHtml = 'Like what you see? Visit the ' +\n",
              "            '<a target=\"_blank\" href=https://colab.research.google.com/notebooks/data_table.ipynb>data table notebook</a>'\n",
              "            + ' to learn more about interactive tables.';\n",
              "          element.innerHTML = '';\n",
              "          dataTable['output_type'] = 'display_data';\n",
              "          await google.colab.output.renderOutput(dataTable, element);\n",
              "          const docLink = document.createElement('div');\n",
              "          docLink.innerHTML = docLinkHtml;\n",
              "          element.appendChild(docLink);\n",
              "        }\n",
              "      </script>\n",
              "    </div>\n",
              "  </div>\n",
              "  "
            ]
          },
          "metadata": {},
          "execution_count": 7
        }
      ]
    },
    {
      "cell_type": "code",
      "source": [
        "print('Non unique parcelid rows for 2016:', 90275 - train16['parcelid'].nunique())\n",
        "(train16['parcelid'].value_counts().reset_index())['parcelid'].value_counts()"
      ],
      "metadata": {
        "colab": {
          "base_uri": "https://localhost:8080/"
        },
        "id": "N36ANiGjDqB_",
        "outputId": "9402799e-8b6b-44c2-bb58-1dd09592b97d"
      },
      "execution_count": 8,
      "outputs": [
        {
          "output_type": "stream",
          "name": "stdout",
          "text": [
            "Non unique parcelid rows for 2016: 125\n"
          ]
        },
        {
          "output_type": "execute_result",
          "data": {
            "text/plain": [
              "1    90026\n",
              "2      123\n",
              "3        1\n",
              "Name: parcelid, dtype: int64"
            ]
          },
          "metadata": {},
          "execution_count": 8
        }
      ]
    },
    {
      "cell_type": "code",
      "source": [
        "# First and last tranaction dates\n",
        "print(\"First Transaction 2016:\", train16['transactiondate'].min())\n",
        "print(\"Last Transaction 2016:\", train16['transactiondate'].max())"
      ],
      "metadata": {
        "colab": {
          "base_uri": "https://localhost:8080/"
        },
        "id": "dS8-mSNdFX_R",
        "outputId": "9cf46e4c-6cba-4f93-df9f-41a38357bed2"
      },
      "execution_count": 9,
      "outputs": [
        {
          "output_type": "stream",
          "name": "stdout",
          "text": [
            "First Transaction 2016: 2016-01-01 00:00:00\n",
            "Last Transaction 2016: 2016-12-30 00:00:00\n"
          ]
        }
      ]
    },
    {
      "cell_type": "code",
      "source": [
        "plt.figure(figsize=(8,4))\n",
        "sns.histplot(train16.logerror.values, bins=300, kde=False)\n",
        "plt.xlabel('logerror', fontsize=12)\n",
        "plt.title('Histogram of Log Error')\n",
        "plt.show()"
      ],
      "metadata": {
        "colab": {
          "base_uri": "https://localhost:8080/",
          "height": 414
        },
        "id": "9td4yzC9KFgc",
        "outputId": "bf2019ba-9cd7-43b5-cc34-c597e764fca9"
      },
      "execution_count": 10,
      "outputs": [
        {
          "output_type": "display_data",
          "data": {
            "text/plain": [
              "<Figure size 800x400 with 1 Axes>"
            ],
            "image/png": "[encoded data removed]"
          },
          "metadata": {}
        }
      ]
    },
    {
      "cell_type": "code",
      "source": [
        "print(\"Worst negative logerror:\", train16['logerror'].min())\n",
        "print(\"Worst positive logerror:\", train16['logerror'].max())"
      ],
      "metadata": {
        "colab": {
          "base_uri": "https://localhost:8080/"
        },
        "id": "QeMB_9xXKrRn",
        "outputId": "6e0da168-9999-420d-b8e9-2182c0d07bde"
      },
      "execution_count": 11,
      "outputs": [
        {
          "output_type": "stream",
          "name": "stdout",
          "text": [
            "Worst negative logerror: -4.605\n",
            "Worst positive logerror: 4.737\n"
          ]
        }
      ]
    },
    {
      "cell_type": "markdown",
      "source": [
        "Check for null in transaction data"
      ],
      "metadata": {
        "id": "ywN7JBW6LV1x"
      }
    },
    {
      "cell_type": "code",
      "source": [
        "missing = pd.concat([train16.isnull().sum(), 100 * train16.isnull().mean()], axis=1)\n",
        "missing.columns=['null count', '% null']\n",
        "missing.sort_values(by=['null count'], ascending=False)"
      ],
      "metadata": {
        "colab": {
          "base_uri": "https://localhost:8080/",
          "height": 143
        },
        "id": "WreUH3nsLZUr",
        "outputId": "a270c42a-a9ba-4d81-e4db-225503d75559"
      },
      "execution_count": 12,
      "outputs": [
        {
          "output_type": "execute_result",
          "data": {
            "text/plain": [
              "                 null count  % null\n",
              "parcelid                  0     0.0\n",
              "logerror                  0     0.0\n",
              "transactiondate           0     0.0"
            ],
            "text/html": [
              "\n",
              "  <div id=\"df-edb89bd8-8d6d-496a-b43e-98bf095807e5\">\n",
              "    <div class=\"colab-df-container\">\n",
              "      <div>\n",
              "<style scoped>\n",
              "    .dataframe tbody tr th:only-of-type {\n",
              "        vertical-align: middle;\n",
              "    }\n",
              "\n",
              "    .dataframe tbody tr th {\n",
              "        vertical-align: top;\n",
              "    }\n",
              "\n",
              "    .dataframe thead th {\n",
              "        text-align: right;\n",
              "    }\n",
              "</style>\n",
              "<table border=\"1\" class=\"dataframe\">\n",
              "  <thead>\n",
              "    <tr style=\"text-align: right;\">\n",
              "      <th></th>\n",
              "      <th>null count</th>\n",
              "      <th>% null</th>\n",
              "    </tr>\n",
              "  </thead>\n",
              "  <tbody>\n",
              "    <tr>\n",
              "      <th>parcelid</th>\n",
              "      <td>0</td>\n",
              "      <td>0.0</td>\n",
              "    </tr>\n",
              "    <tr>\n",
              "      <th>logerror</th>\n",
              "      <td>0</td>\n",
              "      <td>0.0</td>\n",
              "    </tr>\n",
              "    <tr>\n",
              "      <th>transactiondate</th>\n",
              "      <td>0</td>\n",
              "      <td>0.0</td>\n",
              "    </tr>\n",
              "  </tbody>\n",
              "</table>\n",
              "</div>\n",
              "      <button class=\"colab-df-convert\" onclick=\"convertToInteractive('df-edb89bd8-8d6d-496a-b43e-98bf095807e5')\"\n",
              "              title=\"Convert this dataframe to an interactive table.\"\n",
              "              style=\"display:none;\">\n",
              "        \n",
              "  <svg xmlns=\"http://www.w3.org/2000/svg\" height=\"24px\"viewBox=\"0 0 24 24\"\n",
              "       width=\"24px\">\n",
              "    <path d=\"M0 0h24v24H0V0z\" fill=\"none\"/>\n",
              "    <path d=\"M18.56 5.44l.94 2.06.94-2.06 2.06-.94-2.06-.94-.94-2.06-.94 2.06-2.06.94zm-11 1L8.5 8.5l.94-2.06 2.06-.94-2.06-.94L8.5 2.5l-.94 2.06-2.06.94zm10 10l.94 2.06.94-2.06 2.06-.94-2.06-.94-.94-2.06-.94 2.06-2.06.94z\"/><path d=\"M17.41 7.96l-1.37-1.37c-.4-.4-.92-.59-1.43-.59-.52 0-1.04.2-1.43.59L10.3 9.45l-7.72 7.72c-.78.78-.78 2.05 0 2.83L4 21.41c.39.39.9.59 1.41.59.51 0 1.02-.2 1.41-.59l7.78-7.78 2.81-2.81c.8-.78.8-2.07 0-2.86zM5.41 20L4 18.59l7.72-7.72 1.47 1.35L5.41 20z\"/>\n",
              "  </svg>\n",
              "      </button>\n",
              "      \n",
              "  <style>\n",
              "    .colab-df-container {\n",
              "      display:flex;\n",
              "      flex-wrap:wrap;\n",
              "      gap: 12px;\n",
              "    }\n",
              "\n",
              "    .colab-df-convert {\n",
              "      background-color: #E8F0FE;\n",
              "      border: none;\n",
              "      border-radius: 50%;\n",
              "      cursor: pointer;\n",
              "      display: none;\n",
              "      fill: #1967D2;\n",
              "      height: 32px;\n",
              "      padding: 0 0 0 0;\n",
              "      width: 32px;\n",
              "    }\n",
              "\n",
              "    .colab-df-convert:hover {\n",
              "      background-color: #E2EBFA;\n",
              "      box-shadow: 0px 1px 2px rgba(60, 64, 67, 0.3), 0px 1px 3px 1px rgba(60, 64, 67, 0.15);\n",
              "      fill: #174EA6;\n",
              "    }\n",
              "\n",
              "    [theme=dark] .colab-df-convert {\n",
              "      background-color: #3B4455;\n",
              "      fill: #D2E3FC;\n",
              "    }\n",
              "\n",
              "    [theme=dark] .colab-df-convert:hover {\n",
              "      background-color: #434B5C;\n",
              "      box-shadow: 0px 1px 3px 1px rgba(0, 0, 0, 0.15);\n",
              "      filter: drop-shadow(0px 1px 2px rgba(0, 0, 0, 0.3));\n",
              "      fill: #FFFFFF;\n",
              "    }\n",
              "  </style>\n",
              "\n",
              "      <script>\n",
              "        const buttonEl =\n",
              "          document.querySelector('#df-edb89bd8-8d6d-496a-b43e-98bf095807e5 button.colab-df-convert');\n",
              "        buttonEl.style.display =\n",
              "          google.colab.kernel.accessAllowed ? 'block' : 'none';\n",
              "\n",
              "        async function convertToInteractive(key) {\n",
              "          const element = document.querySelector('#df-edb89bd8-8d6d-496a-b43e-98bf095807e5');\n",
              "          const dataTable =\n",
              "            await google.colab.kernel.invokeFunction('convertToInteractive',\n",
              "                                                     [key], {});\n",
              "          if (!dataTable) return;\n",
              "\n",
              "          const docLinkHtml = 'Like what you see? Visit the ' +\n",
              "            '<a target=\"_blank\" href=https://colab.research.google.com/notebooks/data_table.ipynb>data table notebook</a>'\n",
              "            + ' to learn more about interactive tables.';\n",
              "          element.innerHTML = '';\n",
              "          dataTable['output_type'] = 'display_data';\n",
              "          await google.colab.output.renderOutput(dataTable, element);\n",
              "          const docLink = document.createElement('div');\n",
              "          docLink.innerHTML = docLinkHtml;\n",
              "          element.appendChild(docLink);\n",
              "        }\n",
              "      </script>\n",
              "    </div>\n",
              "  </div>\n",
              "  "
            ]
          },
          "metadata": {},
          "execution_count": 12
        }
      ]
    },
    {
      "cell_type": "markdown",
      "source": [
        "# Prep datetime data for modeling"
      ],
      "metadata": {
        "id": "CN4N1UwLyjyg"
      }
    },
    {
      "cell_type": "code",
      "source": [
        "# All dates are from 2016, let's extract month, day, and quarter\n",
        "train16[\"transaction_month\"] = train16[\"transactiondate\"].dt.month\n",
        "train16[\"transaction_day\"] = train16[\"transactiondate\"].dt.day\n",
        "train16[\"transaction_quarter\"] = train16[\"transactiondate\"].dt.quarter\n",
        "train16.drop(columns=['transactiondate'], inplace=True)\n",
        "\n",
        "# Label months with names\n",
        "month_dict = dict(zip(list(range(1,13)), ['Jan', 'Feb', 'Mar', 'Apr', 'May', 'Jun', 'Jul', 'Aug', 'Sep', 'Oct', 'Nov', 'Dec']))\n",
        "train16['transaction_month'].replace(month_dict, inplace=True)\n",
        "\n",
        "# Label quarters\n",
        "quarter_dict = {1:'1st', 2:'2nd', 3:'3rd', 4:'4th'}\n",
        "train16['transaction_quarter'].replace(quarter_dict, inplace=True)\n",
        "\n",
        "train16"
      ],
      "metadata": {
        "id": "Y7Xr7oK2-AKg",
        "colab": {
          "base_uri": "https://localhost:8080/",
          "height": 424
        },
        "outputId": "fe96fcc6-ca23-4888-896a-d2837b9b7536"
      },
      "execution_count": 13,
      "outputs": [
        {
          "output_type": "execute_result",
          "data": {
            "text/plain": [
              "       parcelid  logerror transaction_month  transaction_day  \\\n",
              "0      11016594    0.0276               Jan                1   \n",
              "1      14366692   -0.1684               Jan                1   \n",
              "2      12098116   -0.0040               Jan                1   \n",
              "3      12643413    0.0218               Jan                2   \n",
              "4      14432541   -0.0050               Jan                2   \n",
              "...         ...       ...               ...              ...   \n",
              "90270  10774160   -0.0356               Dec               30   \n",
              "90271  12046695    0.0070               Dec               30   \n",
              "90272  12995401   -0.2679               Dec               30   \n",
              "90273  11402105    0.0602               Dec               30   \n",
              "90274  12566293    0.4207               Dec               30   \n",
              "\n",
              "      transaction_quarter  \n",
              "0                     1st  \n",
              "1                     1st  \n",
              "2                     1st  \n",
              "3                     1st  \n",
              "4                     1st  \n",
              "...                   ...  \n",
              "90270                 4th  \n",
              "90271                 4th  \n",
              "90272                 4th  \n",
              "90273                 4th  \n",
              "90274                 4th  \n",
              "\n",
              "[90275 rows x 5 columns]"
            ],
            "text/html": [
              "\n",
              "  <div id=\"df-e5c7981c-4f06-4cfe-a437-b93282e693ef\">\n",
              "    <div class=\"colab-df-container\">\n",
              "      <div>\n",
              "<style scoped>\n",
              "    .dataframe tbody tr th:only-of-type {\n",
              "        vertical-align: middle;\n",
              "    }\n",
              "\n",
              "    .dataframe tbody tr th {\n",
              "        vertical-align: top;\n",
              "    }\n",
              "\n",
              "    .dataframe thead th {\n",
              "        text-align: right;\n",
              "    }\n",
              "</style>\n",
              "<table border=\"1\" class=\"dataframe\">\n",
              "  <thead>\n",
              "    <tr style=\"text-align: right;\">\n",
              "      <th></th>\n",
              "      <th>parcelid</th>\n",
              "      <th>logerror</th>\n",
              "      <th>transaction_month</th>\n",
              "      <th>transaction_day</th>\n",
              "      <th>transaction_quarter</th>\n",
              "    </tr>\n",
              "  </thead>\n",
              "  <tbody>\n",
              "    <tr>\n",
              "      <th>0</th>\n",
              "      <td>11016594</td>\n",
              "      <td>0.0276</td>\n",
              "      <td>Jan</td>\n",
              "      <td>1</td>\n",
              "      <td>1st</td>\n",
              "    </tr>\n",
              "    <tr>\n",
              "      <th>1</th>\n",
              "      <td>14366692</td>\n",
              "      <td>-0.1684</td>\n",
              "      <td>Jan</td>\n",
              "      <td>1</td>\n",
              "      <td>1st</td>\n",
              "    </tr>\n",
              "    <tr>\n",
              "      <th>2</th>\n",
              "      <td>12098116</td>\n",
              "      <td>-0.0040</td>\n",
              "      <td>Jan</td>\n",
              "      <td>1</td>\n",
              "      <td>1st</td>\n",
              "    </tr>\n",
              "    <tr>\n",
              "      <th>3</th>\n",
              "      <td>12643413</td>\n",
              "      <td>0.0218</td>\n",
              "      <td>Jan</td>\n",
              "      <td>2</td>\n",
              "      <td>1st</td>\n",
              "    </tr>\n",
              "    <tr>\n",
              "      <th>4</th>\n",
              "      <td>14432541</td>\n",
              "      <td>-0.0050</td>\n",
              "      <td>Jan</td>\n",
              "      <td>2</td>\n",
              "      <td>1st</td>\n",
              "    </tr>\n",
              "    <tr>\n",
              "      <th>...</th>\n",
              "      <td>...</td>\n",
              "      <td>...</td>\n",
              "      <td>...</td>\n",
              "      <td>...</td>\n",
              "      <td>...</td>\n",
              "    </tr>\n",
              "    <tr>\n",
              "      <th>90270</th>\n",
              "      <td>10774160</td>\n",
              "      <td>-0.0356</td>\n",
              "      <td>Dec</td>\n",
              "      <td>30</td>\n",
              "      <td>4th</td>\n",
              "    </tr>\n",
              "    <tr>\n",
              "      <th>90271</th>\n",
              "      <td>12046695</td>\n",
              "      <td>0.0070</td>\n",
              "      <td>Dec</td>\n",
              "      <td>30</td>\n",
              "      <td>4th</td>\n",
              "    </tr>\n",
              "    <tr>\n",
              "      <th>90272</th>\n",
              "      <td>12995401</td>\n",
              "      <td>-0.2679</td>\n",
              "      <td>Dec</td>\n",
              "      <td>30</td>\n",
              "      <td>4th</td>\n",
              "    </tr>\n",
              "    <tr>\n",
              "      <th>90273</th>\n",
              "      <td>11402105</td>\n",
              "      <td>0.0602</td>\n",
              "      <td>Dec</td>\n",
              "      <td>30</td>\n",
              "      <td>4th</td>\n",
              "    </tr>\n",
              "    <tr>\n",
              "      <th>90274</th>\n",
              "      <td>12566293</td>\n",
              "      <td>0.4207</td>\n",
              "      <td>Dec</td>\n",
              "      <td>30</td>\n",
              "      <td>4th</td>\n",
              "    </tr>\n",
              "  </tbody>\n",
              "</table>\n",
              "<p>90275 rows × 5 columns</p>\n",
              "</div>\n",
              "      <button class=\"colab-df-convert\" onclick=\"convertToInteractive('df-e5c7981c-4f06-4cfe-a437-b93282e693ef')\"\n",
              "              title=\"Convert this dataframe to an interactive table.\"\n",
              "              style=\"display:none;\">\n",
              "        \n",
              "  <svg xmlns=\"http://www.w3.org/2000/svg\" height=\"24px\"viewBox=\"0 0 24 24\"\n",
              "       width=\"24px\">\n",
              "    <path d=\"M0 0h24v24H0V0z\" fill=\"none\"/>\n",
              "    <path d=\"M18.56 5.44l.94 2.06.94-2.06 2.06-.94-2.06-.94-.94-2.06-.94 2.06-2.06.94zm-11 1L8.5 8.5l.94-2.06 2.06-.94-2.06-.94L8.5 2.5l-.94 2.06-2.06.94zm10 10l.94 2.06.94-2.06 2.06-.94-2.06-.94-.94-2.06-.94 2.06-2.06.94z\"/><path d=\"M17.41 7.96l-1.37-1.37c-.4-.4-.92-.59-1.43-.59-.52 0-1.04.2-1.43.59L10.3 9.45l-7.72 7.72c-.78.78-.78 2.05 0 2.83L4 21.41c.39.39.9.59 1.41.59.51 0 1.02-.2 1.41-.59l7.78-7.78 2.81-2.81c.8-.78.8-2.07 0-2.86zM5.41 20L4 18.59l7.72-7.72 1.47 1.35L5.41 20z\"/>\n",
              "  </svg>\n",
              "      </button>\n",
              "      \n",
              "  <style>\n",
              "    .colab-df-container {\n",
              "      display:flex;\n",
              "      flex-wrap:wrap;\n",
              "      gap: 12px;\n",
              "    }\n",
              "\n",
              "    .colab-df-convert {\n",
              "      background-color: #E8F0FE;\n",
              "      border: none;\n",
              "      border-radius: 50%;\n",
              "      cursor: pointer;\n",
              "      display: none;\n",
              "      fill: #1967D2;\n",
              "      height: 32px;\n",
              "      padding: 0 0 0 0;\n",
              "      width: 32px;\n",
              "    }\n",
              "\n",
              "    .colab-df-convert:hover {\n",
              "      background-color: #E2EBFA;\n",
              "      box-shadow: 0px 1px 2px rgba(60, 64, 67, 0.3), 0px 1px 3px 1px rgba(60, 64, 67, 0.15);\n",
              "      fill: #174EA6;\n",
              "    }\n",
              "\n",
              "    [theme=dark] .colab-df-convert {\n",
              "      background-color: #3B4455;\n",
              "      fill: #D2E3FC;\n",
              "    }\n",
              "\n",
              "    [theme=dark] .colab-df-convert:hover {\n",
              "      background-color: #434B5C;\n",
              "      box-shadow: 0px 1px 3px 1px rgba(0, 0, 0, 0.15);\n",
              "      filter: drop-shadow(0px 1px 2px rgba(0, 0, 0, 0.3));\n",
              "      fill: #FFFFFF;\n",
              "    }\n",
              "  </style>\n",
              "\n",
              "      <script>\n",
              "        const buttonEl =\n",
              "          document.querySelector('#df-e5c7981c-4f06-4cfe-a437-b93282e693ef button.colab-df-convert');\n",
              "        buttonEl.style.display =\n",
              "          google.colab.kernel.accessAllowed ? 'block' : 'none';\n",
              "\n",
              "        async function convertToInteractive(key) {\n",
              "          const element = document.querySelector('#df-e5c7981c-4f06-4cfe-a437-b93282e693ef');\n",
              "          const dataTable =\n",
              "            await google.colab.kernel.invokeFunction('convertToInteractive',\n",
              "                                                     [key], {});\n",
              "          if (!dataTable) return;\n",
              "\n",
              "          const docLinkHtml = 'Like what you see? Visit the ' +\n",
              "            '<a target=\"_blank\" href=https://colab.research.google.com/notebooks/data_table.ipynb>data table notebook</a>'\n",
              "            + ' to learn more about interactive tables.';\n",
              "          element.innerHTML = '';\n",
              "          dataTable['output_type'] = 'display_data';\n",
              "          await google.colab.output.renderOutput(dataTable, element);\n",
              "          const docLink = document.createElement('div');\n",
              "          docLink.innerHTML = docLinkHtml;\n",
              "          element.appendChild(docLink);\n",
              "        }\n",
              "      </script>\n",
              "    </div>\n",
              "  </div>\n",
              "  "
            ]
          },
          "metadata": {},
          "execution_count": 13
        }
      ]
    },
    {
      "cell_type": "markdown",
      "source": [
        "# Peek at properties dataframes"
      ],
      "metadata": {
        "id": "fPJUDE4iLrIm"
      }
    },
    {
      "cell_type": "code",
      "source": [
        "prop16.head()"
      ],
      "metadata": {
        "colab": {
          "base_uri": "https://localhost:8080/",
          "height": 300
        },
        "id": "xPV173hmLtOW",
        "outputId": "7adbb2f2-c786-4ba6-f828-590d21874867"
      },
      "execution_count": 14,
      "outputs": [
        {
          "output_type": "execute_result",
          "data": {
            "text/plain": [
              "   parcelid  airconditioningtypeid  architecturalstyletypeid  basementsqft  \\\n",
              "0  10754147                    NaN                       NaN           NaN   \n",
              "1  10759547                    NaN                       NaN           NaN   \n",
              "2  10843547                    NaN                       NaN           NaN   \n",
              "3  10859147                    NaN                       NaN           NaN   \n",
              "4  10879947                    NaN                       NaN           NaN   \n",
              "\n",
              "   bathroomcnt  bedroomcnt  buildingclasstypeid  buildingqualitytypeid  \\\n",
              "0          0.0         0.0                  NaN                    NaN   \n",
              "1          0.0         0.0                  NaN                    NaN   \n",
              "2          0.0         0.0                  NaN                    NaN   \n",
              "3          0.0         0.0                  3.0                    7.0   \n",
              "4          0.0         0.0                  4.0                    NaN   \n",
              "\n",
              "   calculatedbathnbr  decktypeid  ...  numberofstories  fireplaceflag  \\\n",
              "0                NaN         NaN  ...              NaN            NaN   \n",
              "1                NaN         NaN  ...              NaN            NaN   \n",
              "2                NaN         NaN  ...              NaN            NaN   \n",
              "3                NaN         NaN  ...              1.0            NaN   \n",
              "4                NaN         NaN  ...              NaN            NaN   \n",
              "\n",
              "   structuretaxvaluedollarcnt  taxvaluedollarcnt  assessmentyear  \\\n",
              "0                         NaN                9.0          2015.0   \n",
              "1                         NaN            27516.0          2015.0   \n",
              "2                    650756.0          1413387.0          2015.0   \n",
              "3                    571346.0          1156834.0          2015.0   \n",
              "4                    193796.0           433491.0          2015.0   \n",
              "\n",
              "   landtaxvaluedollarcnt  taxamount  taxdelinquencyflag  taxdelinquencyyear  \\\n",
              "0                    9.0        NaN                 NaN                 NaN   \n",
              "1                27516.0        NaN                 NaN                 NaN   \n",
              "2               762631.0   20800.37                 NaN                 NaN   \n",
              "3               585488.0   14557.57                 NaN                 NaN   \n",
              "4               239695.0    5725.17                 NaN                 NaN   \n",
              "\n",
              "   censustractandblock  \n",
              "0                  NaN  \n",
              "1                  NaN  \n",
              "2                  NaN  \n",
              "3                  NaN  \n",
              "4                  NaN  \n",
              "\n",
              "[5 rows x 58 columns]"
            ],
            "text/html": [
              "\n",
              "  <div id=\"df-35935ad0-b57a-4d10-911f-0c714c2880a5\">\n",
              "    <div class=\"colab-df-container\">\n",
              "      <div>\n",
              "<style scoped>\n",
              "    .dataframe tbody tr th:only-of-type {\n",
              "        vertical-align: middle;\n",
              "    }\n",
              "\n",
              "    .dataframe tbody tr th {\n",
              "        vertical-align: top;\n",
              "    }\n",
              "\n",
              "    .dataframe thead th {\n",
              "        text-align: right;\n",
              "    }\n",
              "</style>\n",
              "<table border=\"1\" class=\"dataframe\">\n",
              "  <thead>\n",
              "    <tr style=\"text-align: right;\">\n",
              "      <th></th>\n",
              "      <th>parcelid</th>\n",
              "      <th>airconditioningtypeid</th>\n",
              "      <th>architecturalstyletypeid</th>\n",
              "      <th>basementsqft</th>\n",
              "      <th>bathroomcnt</th>\n",
              "      <th>bedroomcnt</th>\n",
              "      <th>buildingclasstypeid</th>\n",
              "      <th>buildingqualitytypeid</th>\n",
              "      <th>calculatedbathnbr</th>\n",
              "      <th>decktypeid</th>\n",
              "      <th>...</th>\n",
              "      <th>numberofstories</th>\n",
              "      <th>fireplaceflag</th>\n",
              "      <th>structuretaxvaluedollarcnt</th>\n",
              "      <th>taxvaluedollarcnt</th>\n",
              "      <th>assessmentyear</th>\n",
              "      <th>landtaxvaluedollarcnt</th>\n",
              "      <th>taxamount</th>\n",
              "      <th>taxdelinquencyflag</th>\n",
              "      <th>taxdelinquencyyear</th>\n",
              "      <th>censustractandblock</th>\n",
              "    </tr>\n",
              "  </thead>\n",
              "  <tbody>\n",
              "    <tr>\n",
              "      <th>0</th>\n",
              "      <td>10754147</td>\n",
              "      <td>NaN</td>\n",
              "      <td>NaN</td>\n",
              "      <td>NaN</td>\n",
              "      <td>0.0</td>\n",
              "      <td>0.0</td>\n",
              "      <td>NaN</td>\n",
              "      <td>NaN</td>\n",
              "      <td>NaN</td>\n",
              "      <td>NaN</td>\n",
              "      <td>...</td>\n",
              "      <td>NaN</td>\n",
              "      <td>NaN</td>\n",
              "      <td>NaN</td>\n",
              "      <td>9.0</td>\n",
              "      <td>2015.0</td>\n",
              "      <td>9.0</td>\n",
              "      <td>NaN</td>\n",
              "      <td>NaN</td>\n",
              "      <td>NaN</td>\n",
              "      <td>NaN</td>\n",
              "    </tr>\n",
              "    <tr>\n",
              "      <th>1</th>\n",
              "      <td>10759547</td>\n",
              "      <td>NaN</td>\n",
              "      <td>NaN</td>\n",
              "      <td>NaN</td>\n",
              "      <td>0.0</td>\n",
              "      <td>0.0</td>\n",
              "      <td>NaN</td>\n",
              "      <td>NaN</td>\n",
              "      <td>NaN</td>\n",
              "      <td>NaN</td>\n",
              "      <td>...</td>\n",
              "      <td>NaN</td>\n",
              "      <td>NaN</td>\n",
              "      <td>NaN</td>\n",
              "      <td>27516.0</td>\n",
              "      <td>2015.0</td>\n",
              "      <td>27516.0</td>\n",
              "      <td>NaN</td>\n",
              "      <td>NaN</td>\n",
              "      <td>NaN</td>\n",
              "      <td>NaN</td>\n",
              "    </tr>\n",
              "    <tr>\n",
              "      <th>2</th>\n",
              "      <td>10843547</td>\n",
              "      <td>NaN</td>\n",
              "      <td>NaN</td>\n",
              "      <td>NaN</td>\n",
              "      <td>0.0</td>\n",
              "      <td>0.0</td>\n",
              "      <td>NaN</td>\n",
              "      <td>NaN</td>\n",
              "      <td>NaN</td>\n",
              "      <td>NaN</td>\n",
              "      <td>...</td>\n",
              "      <td>NaN</td>\n",
              "      <td>NaN</td>\n",
              "      <td>650756.0</td>\n",
              "      <td>1413387.0</td>\n",
              "      <td>2015.0</td>\n",
              "      <td>762631.0</td>\n",
              "      <td>20800.37</td>\n",
              "      <td>NaN</td>\n",
              "      <td>NaN</td>\n",
              "      <td>NaN</td>\n",
              "    </tr>\n",
              "    <tr>\n",
              "      <th>3</th>\n",
              "      <td>10859147</td>\n",
              "      <td>NaN</td>\n",
              "      <td>NaN</td>\n",
              "      <td>NaN</td>\n",
              "      <td>0.0</td>\n",
              "      <td>0.0</td>\n",
              "      <td>3.0</td>\n",
              "      <td>7.0</td>\n",
              "      <td>NaN</td>\n",
              "      <td>NaN</td>\n",
              "      <td>...</td>\n",
              "      <td>1.0</td>\n",
              "      <td>NaN</td>\n",
              "      <td>571346.0</td>\n",
              "      <td>1156834.0</td>\n",
              "      <td>2015.0</td>\n",
              "      <td>585488.0</td>\n",
              "      <td>14557.57</td>\n",
              "      <td>NaN</td>\n",
              "      <td>NaN</td>\n",
              "      <td>NaN</td>\n",
              "    </tr>\n",
              "    <tr>\n",
              "      <th>4</th>\n",
              "      <td>10879947</td>\n",
              "      <td>NaN</td>\n",
              "      <td>NaN</td>\n",
              "      <td>NaN</td>\n",
              "      <td>0.0</td>\n",
              "      <td>0.0</td>\n",
              "      <td>4.0</td>\n",
              "      <td>NaN</td>\n",
              "      <td>NaN</td>\n",
              "      <td>NaN</td>\n",
              "      <td>...</td>\n",
              "      <td>NaN</td>\n",
              "      <td>NaN</td>\n",
              "      <td>193796.0</td>\n",
              "      <td>433491.0</td>\n",
              "      <td>2015.0</td>\n",
              "      <td>239695.0</td>\n",
              "      <td>5725.17</td>\n",
              "      <td>NaN</td>\n",
              "      <td>NaN</td>\n",
              "      <td>NaN</td>\n",
              "    </tr>\n",
              "  </tbody>\n",
              "</table>\n",
              "<p>5 rows × 58 columns</p>\n",
              "</div>\n",
              "      <button class=\"colab-df-convert\" onclick=\"convertToInteractive('df-35935ad0-b57a-4d10-911f-0c714c2880a5')\"\n",
              "              title=\"Convert this dataframe to an interactive table.\"\n",
              "              style=\"display:none;\">\n",
              "        \n",
              "  <svg xmlns=\"http://www.w3.org/2000/svg\" height=\"24px\"viewBox=\"0 0 24 24\"\n",
              "       width=\"24px\">\n",
              "    <path d=\"M0 0h24v24H0V0z\" fill=\"none\"/>\n",
              "    <path d=\"M18.56 5.44l.94 2.06.94-2.06 2.06-.94-2.06-.94-.94-2.06-.94 2.06-2.06.94zm-11 1L8.5 8.5l.94-2.06 2.06-.94-2.06-.94L8.5 2.5l-.94 2.06-2.06.94zm10 10l.94 2.06.94-2.06 2.06-.94-2.06-.94-.94-2.06-.94 2.06-2.06.94z\"/><path d=\"M17.41 7.96l-1.37-1.37c-.4-.4-.92-.59-1.43-.59-.52 0-1.04.2-1.43.59L10.3 9.45l-7.72 7.72c-.78.78-.78 2.05 0 2.83L4 21.41c.39.39.9.59 1.41.59.51 0 1.02-.2 1.41-.59l7.78-7.78 2.81-2.81c.8-.78.8-2.07 0-2.86zM5.41 20L4 18.59l7.72-7.72 1.47 1.35L5.41 20z\"/>\n",
              "  </svg>\n",
              "      </button>\n",
              "      \n",
              "  <style>\n",
              "    .colab-df-container {\n",
              "      display:flex;\n",
              "      flex-wrap:wrap;\n",
              "      gap: 12px;\n",
              "    }\n",
              "\n",
              "    .colab-df-convert {\n",
              "      background-color: #E8F0FE;\n",
              "      border: none;\n",
              "      border-radius: 50%;\n",
              "      cursor: pointer;\n",
              "      display: none;\n",
              "      fill: #1967D2;\n",
              "      height: 32px;\n",
              "      padding: 0 0 0 0;\n",
              "      width: 32px;\n",
              "    }\n",
              "\n",
              "    .colab-df-convert:hover {\n",
              "      background-color: #E2EBFA;\n",
              "      box-shadow: 0px 1px 2px rgba(60, 64, 67, 0.3), 0px 1px 3px 1px rgba(60, 64, 67, 0.15);\n",
              "      fill: #174EA6;\n",
              "    }\n",
              "\n",
              "    [theme=dark] .colab-df-convert {\n",
              "      background-color: #3B4455;\n",
              "      fill: #D2E3FC;\n",
              "    }\n",
              "\n",
              "    [theme=dark] .colab-df-convert:hover {\n",
              "      background-color: #434B5C;\n",
              "      box-shadow: 0px 1px 3px 1px rgba(0, 0, 0, 0.15);\n",
              "      filter: drop-shadow(0px 1px 2px rgba(0, 0, 0, 0.3));\n",
              "      fill: #FFFFFF;\n",
              "    }\n",
              "  </style>\n",
              "\n",
              "      <script>\n",
              "        const buttonEl =\n",
              "          document.querySelector('#df-35935ad0-b57a-4d10-911f-0c714c2880a5 button.colab-df-convert');\n",
              "        buttonEl.style.display =\n",
              "          google.colab.kernel.accessAllowed ? 'block' : 'none';\n",
              "\n",
              "        async function convertToInteractive(key) {\n",
              "          const element = document.querySelector('#df-35935ad0-b57a-4d10-911f-0c714c2880a5');\n",
              "          const dataTable =\n",
              "            await google.colab.kernel.invokeFunction('convertToInteractive',\n",
              "                                                     [key], {});\n",
              "          if (!dataTable) return;\n",
              "\n",
              "          const docLinkHtml = 'Like what you see? Visit the ' +\n",
              "            '<a target=\"_blank\" href=https://colab.research.google.com/notebooks/data_table.ipynb>data table notebook</a>'\n",
              "            + ' to learn more about interactive tables.';\n",
              "          element.innerHTML = '';\n",
              "          dataTable['output_type'] = 'display_data';\n",
              "          await google.colab.output.renderOutput(dataTable, element);\n",
              "          const docLink = document.createElement('div');\n",
              "          docLink.innerHTML = docLinkHtml;\n",
              "          element.appendChild(docLink);\n",
              "        }\n",
              "      </script>\n",
              "    </div>\n",
              "  </div>\n",
              "  "
            ]
          },
          "metadata": {},
          "execution_count": 14
        }
      ]
    },
    {
      "cell_type": "markdown",
      "source": [
        "# Rename columns to make more sense"
      ],
      "metadata": {
        "id": "WRXKKR35bEd-"
      }
    },
    {
      "cell_type": "code",
      "source": [
        "# Create dictionary to rename columns in a way that makes more sense\n",
        "rename_col_dict = {\n",
        "    'yardbuildingsqft17' : 'patio_sqft',\n",
        "    'yardbuildingsqft26' : 'shed_sqft' ,\n",
        "    'lotsizesquarefeet' : 'lot_sqft', \n",
        "    'garagetotalsqft' : 'garage_sqft',\n",
        "    'finishedfloor1squarefeet' : 'entry_floor_sqft',\n",
        "    'calculatedfinishedsquarefeet' : 'home_sqft',\n",
        "    'finishedsquarefeet6' : 'base_sqft',\n",
        "    'finishedsquarefeet12' : 'living_sqft',\n",
        "    'finishedsquarefeet13' : 'perimeter_sqft',\n",
        "    'finishedsquarefeet15' : 'total_sqft',\n",
        "    'regionidcounty' : 'county',\n",
        "    'regionidcity' : 'city',\n",
        "    'regionidzip' : 'zipcode',\n",
        "    'regionidneighborhood' : 'neighborhood',\n",
        "    'taxvaluedollarcnt' : 'tax_assessed_value',\n",
        "    'structuretaxvaluedollarcnt' : 'tav_built',\n",
        "    'landtaxvaluedollarcnt' : 'tav_land',\n",
        "    'taxamount' : 'property_tax',\n",
        "    'propertyzoningdesc' : 'zoning_code',\n",
        "    'propertycountylandusecode' : 'county_land_use_code',\n",
        "    'propertylandusetypeid' : 'land_use_code',\n",
        "    'hashottuborspa' : 'has_spa',\n",
        "    'buildingqualitytypeid' : 'quality',\n",
        "    'buildingclasstypeid' : 'framing',\n",
        "    'typeconstructiontypeid' : 'material',\n",
        "    'decktypeid' : 'deck',\n",
        "    'heatingorsystemtypeid' : 'heating',\n",
        "    'airconditioningtypeid' : 'aircon',\n",
        "    'architecturalstyletypeid' : 'architecture',\n",
        "    'pooltypeid2' : 'pool_with_spa',\n",
        "    'pooltypeid7' : 'pool_without_spa',\n",
        "    'pooltypeid10' : 'spa_or_hot_tub',\n",
        "    'threequarterbathnbr': 'threequarterbathcnt',\n",
        "    }\n",
        "prop16.rename(columns=rename_col_dict, inplace=True, errors = 'raise')"
      ],
      "metadata": {
        "id": "FPoOWNAYbGXP"
      },
      "execution_count": 15,
      "outputs": []
    },
    {
      "cell_type": "markdown",
      "source": [
        "# What to do with the bathroom data\n",
        "There are four different bathroom columns"
      ],
      "metadata": {
        "id": "vG1ClohZ01Uj"
      }
    },
    {
      "cell_type": "code",
      "source": [
        "prop16.bathroomcnt.value_counts()\n",
        "print('Bath Count has', prop16.bathroomcnt.isna().sum(), 'NaNs')\n",
        "print('Calc Bath Count has', prop16.calculatedbathnbr.isna().sum(), 'NaNs')\n",
        "print('Full Bath Count has', prop16.fullbathcnt.isna().sum(), 'NaNs')\n",
        "print('3/4 Bath Count has', prop16.threequarterbathcnt.isna().sum(), 'NaNs')\n",
        "prop16[['bathroomcnt','calculatedbathnbr','fullbathcnt','threequarterbathcnt']]"
      ],
      "metadata": {
        "colab": {
          "base_uri": "https://localhost:8080/",
          "height": 495
        },
        "id": "aCgaiOkZzveR",
        "outputId": "3037930f-840c-49b4-9ea6-af617790cbd2"
      },
      "execution_count": 16,
      "outputs": [
        {
          "output_type": "stream",
          "name": "stdout",
          "text": [
            "Bath Count has 11462 NaNs\n",
            "Calc Bath Count has 128912 NaNs\n",
            "Full Bath Count has 128912 NaNs\n",
            "3/4 Bath Count has 2673586 NaNs\n"
          ]
        },
        {
          "output_type": "execute_result",
          "data": {
            "text/plain": [
              "         bathroomcnt  calculatedbathnbr  fullbathcnt  threequarterbathcnt\n",
              "0                0.0                NaN          NaN                  NaN\n",
              "1                0.0                NaN          NaN                  NaN\n",
              "2                0.0                NaN          NaN                  NaN\n",
              "3                0.0                NaN          NaN                  NaN\n",
              "4                0.0                NaN          NaN                  NaN\n",
              "...              ...                ...          ...                  ...\n",
              "2985212          NaN                NaN          NaN                  NaN\n",
              "2985213          NaN                NaN          NaN                  NaN\n",
              "2985214          NaN                NaN          NaN                  NaN\n",
              "2985215          NaN                NaN          NaN                  NaN\n",
              "2985216          NaN                NaN          NaN                  NaN\n",
              "\n",
              "[2985217 rows x 4 columns]"
            ],
            "text/html": [
              "\n",
              "  <div id=\"df-25704834-a067-49ec-85c1-be7a5b2e5a3b\">\n",
              "    <div class=\"colab-df-container\">\n",
              "      <div>\n",
              "<style scoped>\n",
              "    .dataframe tbody tr th:only-of-type {\n",
              "        vertical-align: middle;\n",
              "    }\n",
              "\n",
              "    .dataframe tbody tr th {\n",
              "        vertical-align: top;\n",
              "    }\n",
              "\n",
              "    .dataframe thead th {\n",
              "        text-align: right;\n",
              "    }\n",
              "</style>\n",
              "<table border=\"1\" class=\"dataframe\">\n",
              "  <thead>\n",
              "    <tr style=\"text-align: right;\">\n",
              "      <th></th>\n",
              "      <th>bathroomcnt</th>\n",
              "      <th>calculatedbathnbr</th>\n",
              "      <th>fullbathcnt</th>\n",
              "      <th>threequarterbathcnt</th>\n",
              "    </tr>\n",
              "  </thead>\n",
              "  <tbody>\n",
              "    <tr>\n",
              "      <th>0</th>\n",
              "      <td>0.0</td>\n",
              "      <td>NaN</td>\n",
              "      <td>NaN</td>\n",
              "      <td>NaN</td>\n",
              "    </tr>\n",
              "    <tr>\n",
              "      <th>1</th>\n",
              "      <td>0.0</td>\n",
              "      <td>NaN</td>\n",
              "      <td>NaN</td>\n",
              "      <td>NaN</td>\n",
              "    </tr>\n",
              "    <tr>\n",
              "      <th>2</th>\n",
              "      <td>0.0</td>\n",
              "      <td>NaN</td>\n",
              "      <td>NaN</td>\n",
              "      <td>NaN</td>\n",
              "    </tr>\n",
              "    <tr>\n",
              "      <th>3</th>\n",
              "      <td>0.0</td>\n",
              "      <td>NaN</td>\n",
              "      <td>NaN</td>\n",
              "      <td>NaN</td>\n",
              "    </tr>\n",
              "    <tr>\n",
              "      <th>4</th>\n",
              "      <td>0.0</td>\n",
              "      <td>NaN</td>\n",
              "      <td>NaN</td>\n",
              "      <td>NaN</td>\n",
              "    </tr>\n",
              "    <tr>\n",
              "      <th>...</th>\n",
              "      <td>...</td>\n",
              "      <td>...</td>\n",
              "      <td>...</td>\n",
              "      <td>...</td>\n",
              "    </tr>\n",
              "    <tr>\n",
              "      <th>2985212</th>\n",
              "      <td>NaN</td>\n",
              "      <td>NaN</td>\n",
              "      <td>NaN</td>\n",
              "      <td>NaN</td>\n",
              "    </tr>\n",
              "    <tr>\n",
              "      <th>2985213</th>\n",
              "      <td>NaN</td>\n",
              "      <td>NaN</td>\n",
              "      <td>NaN</td>\n",
              "      <td>NaN</td>\n",
              "    </tr>\n",
              "    <tr>\n",
              "      <th>2985214</th>\n",
              "      <td>NaN</td>\n",
              "      <td>NaN</td>\n",
              "      <td>NaN</td>\n",
              "      <td>NaN</td>\n",
              "    </tr>\n",
              "    <tr>\n",
              "      <th>2985215</th>\n",
              "      <td>NaN</td>\n",
              "      <td>NaN</td>\n",
              "      <td>NaN</td>\n",
              "      <td>NaN</td>\n",
              "    </tr>\n",
              "    <tr>\n",
              "      <th>2985216</th>\n",
              "      <td>NaN</td>\n",
              "      <td>NaN</td>\n",
              "      <td>NaN</td>\n",
              "      <td>NaN</td>\n",
              "    </tr>\n",
              "  </tbody>\n",
              "</table>\n",
              "<p>2985217 rows × 4 columns</p>\n",
              "</div>\n",
              "      <button class=\"colab-df-convert\" onclick=\"convertToInteractive('df-25704834-a067-49ec-85c1-be7a5b2e5a3b')\"\n",
              "              title=\"Convert this dataframe to an interactive table.\"\n",
              "              style=\"display:none;\">\n",
              "        \n",
              "  <svg xmlns=\"http://www.w3.org/2000/svg\" height=\"24px\"viewBox=\"0 0 24 24\"\n",
              "       width=\"24px\">\n",
              "    <path d=\"M0 0h24v24H0V0z\" fill=\"none\"/>\n",
              "    <path d=\"M18.56 5.44l.94 2.06.94-2.06 2.06-.94-2.06-.94-.94-2.06-.94 2.06-2.06.94zm-11 1L8.5 8.5l.94-2.06 2.06-.94-2.06-.94L8.5 2.5l-.94 2.06-2.06.94zm10 10l.94 2.06.94-2.06 2.06-.94-2.06-.94-.94-2.06-.94 2.06-2.06.94z\"/><path d=\"M17.41 7.96l-1.37-1.37c-.4-.4-.92-.59-1.43-.59-.52 0-1.04.2-1.43.59L10.3 9.45l-7.72 7.72c-.78.78-.78 2.05 0 2.83L4 21.41c.39.39.9.59 1.41.59.51 0 1.02-.2 1.41-.59l7.78-7.78 2.81-2.81c.8-.78.8-2.07 0-2.86zM5.41 20L4 18.59l7.72-7.72 1.47 1.35L5.41 20z\"/>\n",
              "  </svg>\n",
              "      </button>\n",
              "      \n",
              "  <style>\n",
              "    .colab-df-container {\n",
              "      display:flex;\n",
              "      flex-wrap:wrap;\n",
              "      gap: 12px;\n",
              "    }\n",
              "\n",
              "    .colab-df-convert {\n",
              "      background-color: #E8F0FE;\n",
              "      border: none;\n",
              "      border-radius: 50%;\n",
              "      cursor: pointer;\n",
              "      display: none;\n",
              "      fill: #1967D2;\n",
              "      height: 32px;\n",
              "      padding: 0 0 0 0;\n",
              "      width: 32px;\n",
              "    }\n",
              "\n",
              "    .colab-df-convert:hover {\n",
              "      background-color: #E2EBFA;\n",
              "      box-shadow: 0px 1px 2px rgba(60, 64, 67, 0.3), 0px 1px 3px 1px rgba(60, 64, 67, 0.15);\n",
              "      fill: #174EA6;\n",
              "    }\n",
              "\n",
              "    [theme=dark] .colab-df-convert {\n",
              "      background-color: #3B4455;\n",
              "      fill: #D2E3FC;\n",
              "    }\n",
              "\n",
              "    [theme=dark] .colab-df-convert:hover {\n",
              "      background-color: #434B5C;\n",
              "      box-shadow: 0px 1px 3px 1px rgba(0, 0, 0, 0.15);\n",
              "      filter: drop-shadow(0px 1px 2px rgba(0, 0, 0, 0.3));\n",
              "      fill: #FFFFFF;\n",
              "    }\n",
              "  </style>\n",
              "\n",
              "      <script>\n",
              "        const buttonEl =\n",
              "          document.querySelector('#df-25704834-a067-49ec-85c1-be7a5b2e5a3b button.colab-df-convert');\n",
              "        buttonEl.style.display =\n",
              "          google.colab.kernel.accessAllowed ? 'block' : 'none';\n",
              "\n",
              "        async function convertToInteractive(key) {\n",
              "          const element = document.querySelector('#df-25704834-a067-49ec-85c1-be7a5b2e5a3b');\n",
              "          const dataTable =\n",
              "            await google.colab.kernel.invokeFunction('convertToInteractive',\n",
              "                                                     [key], {});\n",
              "          if (!dataTable) return;\n",
              "\n",
              "          const docLinkHtml = 'Like what you see? Visit the ' +\n",
              "            '<a target=\"_blank\" href=https://colab.research.google.com/notebooks/data_table.ipynb>data table notebook</a>'\n",
              "            + ' to learn more about interactive tables.';\n",
              "          element.innerHTML = '';\n",
              "          dataTable['output_type'] = 'display_data';\n",
              "          await google.colab.output.renderOutput(dataTable, element);\n",
              "          const docLink = document.createElement('div');\n",
              "          docLink.innerHTML = docLinkHtml;\n",
              "          element.appendChild(docLink);\n",
              "        }\n",
              "      </script>\n",
              "    </div>\n",
              "  </div>\n",
              "  "
            ]
          },
          "metadata": {},
          "execution_count": 16
        }
      ]
    },
    {
      "cell_type": "code",
      "source": [
        "prop16.bathroomcnt.value_counts()"
      ],
      "metadata": {
        "colab": {
          "base_uri": "https://localhost:8080/"
        },
        "id": "RVn3vWY91JFN",
        "outputId": "17e431a5-b0a1-4a4b-9ab5-bca79649de86"
      },
      "execution_count": 17,
      "outputs": [
        {
          "output_type": "execute_result",
          "data": {
            "text/plain": [
              "2.00     1218664\n",
              "3.00      629351\n",
              "1.00      499330\n",
              "2.50      206856\n",
              "4.00      132076\n",
              "0.00      116614\n",
              "1.50       45885\n",
              "5.00       38241\n",
              "3.50       30755\n",
              "4.50       19017\n",
              "6.00       16252\n",
              "7.00        6149\n",
              "5.50        5747\n",
              "8.00        4537\n",
              "9.00        1329\n",
              "6.50        1217\n",
              "10.00        500\n",
              "7.50         380\n",
              "12.00        265\n",
              "11.00        207\n",
              "8.50         106\n",
              "13.00         52\n",
              "9.50          50\n",
              "14.00         45\n",
              "16.00         30\n",
              "15.00         24\n",
              "0.50          17\n",
              "18.00         15\n",
              "10.50         12\n",
              "20.00         10\n",
              "17.00          7\n",
              "1.75           5\n",
              "19.00          3\n",
              "11.50          3\n",
              "12.50          2\n",
              "19.50          1\n",
              "14.50          1\n",
              "Name: bathroomcnt, dtype: int64"
            ]
          },
          "metadata": {},
          "execution_count": 17
        }
      ]
    },
    {
      "cell_type": "code",
      "source": [
        "prop16[prop16['bathroomcnt'].isna()==True][['calculatedbathnbr', 'fullbathcnt', 'threequarterbathcnt']]"
      ],
      "metadata": {
        "colab": {
          "base_uri": "https://localhost:8080/",
          "height": 424
        },
        "id": "xap7c6uO1vDQ",
        "outputId": "2681021b-b1fb-4b9e-ac86-e08d28d11373"
      },
      "execution_count": 18,
      "outputs": [
        {
          "output_type": "execute_result",
          "data": {
            "text/plain": [
              "         calculatedbathnbr  fullbathcnt  threequarterbathcnt\n",
              "119159                 NaN          NaN                  NaN\n",
              "148887                 NaN          NaN                  NaN\n",
              "163732                 NaN          NaN                  NaN\n",
              "267876                 NaN          NaN                  NaN\n",
              "371945                 NaN          NaN                  NaN\n",
              "...                    ...          ...                  ...\n",
              "2985212                NaN          NaN                  NaN\n",
              "2985213                NaN          NaN                  NaN\n",
              "2985214                NaN          NaN                  NaN\n",
              "2985215                NaN          NaN                  NaN\n",
              "2985216                NaN          NaN                  NaN\n",
              "\n",
              "[11462 rows x 3 columns]"
            ],
            "text/html": [
              "\n",
              "  <div id=\"df-1a1fb482-f733-4ef0-a452-92f83cd7bcf8\">\n",
              "    <div class=\"colab-df-container\">\n",
              "      <div>\n",
              "<style scoped>\n",
              "    .dataframe tbody tr th:only-of-type {\n",
              "        vertical-align: middle;\n",
              "    }\n",
              "\n",
              "    .dataframe tbody tr th {\n",
              "        vertical-align: top;\n",
              "    }\n",
              "\n",
              "    .dataframe thead th {\n",
              "        text-align: right;\n",
              "    }\n",
              "</style>\n",
              "<table border=\"1\" class=\"dataframe\">\n",
              "  <thead>\n",
              "    <tr style=\"text-align: right;\">\n",
              "      <th></th>\n",
              "      <th>calculatedbathnbr</th>\n",
              "      <th>fullbathcnt</th>\n",
              "      <th>threequarterbathcnt</th>\n",
              "    </tr>\n",
              "  </thead>\n",
              "  <tbody>\n",
              "    <tr>\n",
              "      <th>119159</th>\n",
              "      <td>NaN</td>\n",
              "      <td>NaN</td>\n",
              "      <td>NaN</td>\n",
              "    </tr>\n",
              "    <tr>\n",
              "      <th>148887</th>\n",
              "      <td>NaN</td>\n",
              "      <td>NaN</td>\n",
              "      <td>NaN</td>\n",
              "    </tr>\n",
              "    <tr>\n",
              "      <th>163732</th>\n",
              "      <td>NaN</td>\n",
              "      <td>NaN</td>\n",
              "      <td>NaN</td>\n",
              "    </tr>\n",
              "    <tr>\n",
              "      <th>267876</th>\n",
              "      <td>NaN</td>\n",
              "      <td>NaN</td>\n",
              "      <td>NaN</td>\n",
              "    </tr>\n",
              "    <tr>\n",
              "      <th>371945</th>\n",
              "      <td>NaN</td>\n",
              "      <td>NaN</td>\n",
              "      <td>NaN</td>\n",
              "    </tr>\n",
              "    <tr>\n",
              "      <th>...</th>\n",
              "      <td>...</td>\n",
              "      <td>...</td>\n",
              "      <td>...</td>\n",
              "    </tr>\n",
              "    <tr>\n",
              "      <th>2985212</th>\n",
              "      <td>NaN</td>\n",
              "      <td>NaN</td>\n",
              "      <td>NaN</td>\n",
              "    </tr>\n",
              "    <tr>\n",
              "      <th>2985213</th>\n",
              "      <td>NaN</td>\n",
              "      <td>NaN</td>\n",
              "      <td>NaN</td>\n",
              "    </tr>\n",
              "    <tr>\n",
              "      <th>2985214</th>\n",
              "      <td>NaN</td>\n",
              "      <td>NaN</td>\n",
              "      <td>NaN</td>\n",
              "    </tr>\n",
              "    <tr>\n",
              "      <th>2985215</th>\n",
              "      <td>NaN</td>\n",
              "      <td>NaN</td>\n",
              "      <td>NaN</td>\n",
              "    </tr>\n",
              "    <tr>\n",
              "      <th>2985216</th>\n",
              "      <td>NaN</td>\n",
              "      <td>NaN</td>\n",
              "      <td>NaN</td>\n",
              "    </tr>\n",
              "  </tbody>\n",
              "</table>\n",
              "<p>11462 rows × 3 columns</p>\n",
              "</div>\n",
              "      <button class=\"colab-df-convert\" onclick=\"convertToInteractive('df-1a1fb482-f733-4ef0-a452-92f83cd7bcf8')\"\n",
              "              title=\"Convert this dataframe to an interactive table.\"\n",
              "              style=\"display:none;\">\n",
              "        \n",
              "  <svg xmlns=\"http://www.w3.org/2000/svg\" height=\"24px\"viewBox=\"0 0 24 24\"\n",
              "       width=\"24px\">\n",
              "    <path d=\"M0 0h24v24H0V0z\" fill=\"none\"/>\n",
              "    <path d=\"M18.56 5.44l.94 2.06.94-2.06 2.06-.94-2.06-.94-.94-2.06-.94 2.06-2.06.94zm-11 1L8.5 8.5l.94-2.06 2.06-.94-2.06-.94L8.5 2.5l-.94 2.06-2.06.94zm10 10l.94 2.06.94-2.06 2.06-.94-2.06-.94-.94-2.06-.94 2.06-2.06.94z\"/><path d=\"M17.41 7.96l-1.37-1.37c-.4-.4-.92-.59-1.43-.59-.52 0-1.04.2-1.43.59L10.3 9.45l-7.72 7.72c-.78.78-.78 2.05 0 2.83L4 21.41c.39.39.9.59 1.41.59.51 0 1.02-.2 1.41-.59l7.78-7.78 2.81-2.81c.8-.78.8-2.07 0-2.86zM5.41 20L4 18.59l7.72-7.72 1.47 1.35L5.41 20z\"/>\n",
              "  </svg>\n",
              "      </button>\n",
              "      \n",
              "  <style>\n",
              "    .colab-df-container {\n",
              "      display:flex;\n",
              "      flex-wrap:wrap;\n",
              "      gap: 12px;\n",
              "    }\n",
              "\n",
              "    .colab-df-convert {\n",
              "      background-color: #E8F0FE;\n",
              "      border: none;\n",
              "      border-radius: 50%;\n",
              "      cursor: pointer;\n",
              "      display: none;\n",
              "      fill: #1967D2;\n",
              "      height: 32px;\n",
              "      padding: 0 0 0 0;\n",
              "      width: 32px;\n",
              "    }\n",
              "\n",
              "    .colab-df-convert:hover {\n",
              "      background-color: #E2EBFA;\n",
              "      box-shadow: 0px 1px 2px rgba(60, 64, 67, 0.3), 0px 1px 3px 1px rgba(60, 64, 67, 0.15);\n",
              "      fill: #174EA6;\n",
              "    }\n",
              "\n",
              "    [theme=dark] .colab-df-convert {\n",
              "      background-color: #3B4455;\n",
              "      fill: #D2E3FC;\n",
              "    }\n",
              "\n",
              "    [theme=dark] .colab-df-convert:hover {\n",
              "      background-color: #434B5C;\n",
              "      box-shadow: 0px 1px 3px 1px rgba(0, 0, 0, 0.15);\n",
              "      filter: drop-shadow(0px 1px 2px rgba(0, 0, 0, 0.3));\n",
              "      fill: #FFFFFF;\n",
              "    }\n",
              "  </style>\n",
              "\n",
              "      <script>\n",
              "        const buttonEl =\n",
              "          document.querySelector('#df-1a1fb482-f733-4ef0-a452-92f83cd7bcf8 button.colab-df-convert');\n",
              "        buttonEl.style.display =\n",
              "          google.colab.kernel.accessAllowed ? 'block' : 'none';\n",
              "\n",
              "        async function convertToInteractive(key) {\n",
              "          const element = document.querySelector('#df-1a1fb482-f733-4ef0-a452-92f83cd7bcf8');\n",
              "          const dataTable =\n",
              "            await google.colab.kernel.invokeFunction('convertToInteractive',\n",
              "                                                     [key], {});\n",
              "          if (!dataTable) return;\n",
              "\n",
              "          const docLinkHtml = 'Like what you see? Visit the ' +\n",
              "            '<a target=\"_blank\" href=https://colab.research.google.com/notebooks/data_table.ipynb>data table notebook</a>'\n",
              "            + ' to learn more about interactive tables.';\n",
              "          element.innerHTML = '';\n",
              "          dataTable['output_type'] = 'display_data';\n",
              "          await google.colab.output.renderOutput(dataTable, element);\n",
              "          const docLink = document.createElement('div');\n",
              "          docLink.innerHTML = docLinkHtml;\n",
              "          element.appendChild(docLink);\n",
              "        }\n",
              "      </script>\n",
              "    </div>\n",
              "  </div>\n",
              "  "
            ]
          },
          "metadata": {},
          "execution_count": 18
        }
      ]
    },
    {
      "cell_type": "code",
      "source": [
        "# bathroomcnt is the most complete of the four columns.\n",
        "# It's description reads the same as calculatedbathnbr but has fewer NaNs\n",
        "# It includes full baths, half-baths, and 3/4 baths\n",
        "\n",
        "# Drop the other three bathroom columns\n",
        "prop16.drop(columns=['calculatedbathnbr', 'fullbathcnt', 'threequarterbathcnt'], inplace=True)"
      ],
      "metadata": {
        "id": "m8DvaoW91c-m"
      },
      "execution_count": 19,
      "outputs": []
    },
    {
      "cell_type": "markdown",
      "source": [
        "# Identify categorical data"
      ],
      "metadata": {
        "id": "G-DW4AiBXtgK"
      }
    },
    {
      "cell_type": "markdown",
      "source": [
        "Categorical Data that have codes in the data dictionary"
      ],
      "metadata": {
        "id": "BVYwoGqg9u71"
      }
    },
    {
      "cell_type": "code",
      "source": [
        "print('Categorical data with codes in the data dictionary.')\n",
        "print('Heating:', prop16.heating.unique())\n",
        "print('Heating codes are in the data dictionary')\n",
        "print()\n",
        "print('AirCon:', prop16.aircon.unique())\n",
        "print('AirCon codes are in the data dictionary')\n",
        "print()\n",
        "print('Framing:', prop16.framing.unique())\n",
        "print('Framing codes are in the data dictionary')\n",
        "print()\n",
        "print('Material:', prop16.material.unique())\n",
        "print('Material codes are in the data dictionary')\n",
        "print()\n",
        "print('Architecture:', prop16.architecture.unique())\n",
        "print('Architecture codes are in the data dictionary')\n",
        "print()\n",
        "print('# of uniques for land use:', prop16['land_use_code'].nunique())\n",
        "print('Land Use examples:', prop16['land_use_code'].unique())\n",
        "print('Land Use codes are in the data dictionary')\n",
        "print()\n",
        "print('The other feature in the data dicitionary is \"storytypeid,\" which is either NaN or 7 for \"basement.\"')\n",
        "print()\n",
        "print('FIPS:', prop16.fips.unique())\n",
        "print('FIPS explained here: https://en.wikipedia.org/wiki/FIPS_county_code')"
      ],
      "metadata": {
        "colab": {
          "base_uri": "https://localhost:8080/"
        },
        "id": "949Faq8B91mm",
        "outputId": "c33173bf-a4d8-4479-90ce-fccfd7e5b809"
      },
      "execution_count": 20,
      "outputs": [
        {
          "output_type": "stream",
          "name": "stdout",
          "text": [
            "Categorical data with codes in the data dictionary.\n",
            "Heating: [nan  2.  7. 20.  6. 13. 18. 24. 12. 10.  1. 14. 21. 11. 19.]\n",
            "Heating codes are in the data dictionary\n",
            "\n",
            "AirCon: [nan  1. 13.  5. 11.  9. 12.  3.]\n",
            "AirCon codes are in the data dictionary\n",
            "\n",
            "Framing: [nan  3.  4.  5.  2.  1.]\n",
            "Framing codes are in the data dictionary\n",
            "\n",
            "Material: [nan  6.  4. 10. 13. 11.]\n",
            "Material codes are in the data dictionary\n",
            "\n",
            "Architecture: [nan  7. 21.  8.  2.  3.  5. 10. 27.]\n",
            "Architecture codes are in the data dictionary\n",
            "\n",
            "# of uniques for land use: 15\n",
            "Land Use examples: [269. 261.  47.  31. 260. 266. 246. 247. 248. 263. 265. 275. 267. 264.\n",
            " 270.  nan]\n",
            "Land Use codes are in the data dictionary\n",
            "\n",
            "The other feature in the data dicitionary is \"storytypeid,\" which is either NaN or 7 for \"basement.\"\n",
            "\n",
            "FIPS: [6037. 6059. 6111.   nan]\n",
            "FIPS explained here: https://en.wikipedia.org/wiki/FIPS_county_code\n"
          ]
        }
      ]
    },
    {
      "cell_type": "code",
      "source": [
        "# Other categorical data\n",
        "print('# of uniques for zoning desc:', prop16['zoning_code'].nunique())\n",
        "print('Zoning examples:', prop16.zoning_code.unique())\n",
        "print()\n",
        "print('Quality:', prop16.quality.unique())\n",
        "print()\n",
        "print('Deck:', prop16.deck.unique())"
      ],
      "metadata": {
        "colab": {
          "base_uri": "https://localhost:8080/"
        },
        "id": "_LA3NXNihwcK",
        "outputId": "99118fba-ccf0-4254-b9eb-d2c09ed06700"
      },
      "execution_count": 21,
      "outputs": [
        {
          "output_type": "stream",
          "name": "stdout",
          "text": [
            "# of uniques for zoning desc: 5638\n",
            "Zoning examples: [nan 'LCA11*' 'LAC2' ... 'WCR1400000' 'EMPYYY' 'RMM2*']\n",
            "\n",
            "Quality: [nan  7.  4. 10.  1. 12.  8.  3.  6.  9.  5. 11.  2.]\n",
            "\n",
            "Deck: [nan 66.]\n"
          ]
        }
      ]
    },
    {
      "cell_type": "code",
      "source": [
        "# Boolean data\n",
        "print('Has Spa:', prop16.has_spa.unique()) #originally called hastuborspa\n",
        "print()\n",
        "print('Has Spa #2', prop16['spa_or_hot_tub'].unique()) #originally called pooltypeid10\n",
        "print()\n",
        "print('Pool with spa', prop16['pool_with_spa'].unique())\n",
        "print()\n",
        "print('Pool without spa', prop16['pool_without_spa'].unique())\n",
        "print()\n",
        "print('Tax Deliquency Flag:', prop16['taxdelinquencyflag'].unique())\n",
        "print()\n",
        "print('Has Fireplace', prop16['fireplaceflag'].unique())"
      ],
      "metadata": {
        "colab": {
          "base_uri": "https://localhost:8080/"
        },
        "id": "b_eMnUc7BTRi",
        "outputId": "32f4b040-1046-416a-fb2a-929308ec0d20"
      },
      "execution_count": 22,
      "outputs": [
        {
          "output_type": "stream",
          "name": "stdout",
          "text": [
            "Has Spa: [nan True]\n",
            "\n",
            "Has Spa #2 [nan  1.]\n",
            "\n",
            "Pool with spa [nan  1.]\n",
            "\n",
            "Pool without spa [nan  1.]\n",
            "\n",
            "Tax Deliquency Flag: [nan 'Y']\n",
            "\n",
            "Has Fireplace [nan True]\n"
          ]
        }
      ]
    },
    {
      "cell_type": "code",
      "source": [
        "# Tax deliquency column\n",
        "print('Percent of properties flagged as tax deliquent:', 100*prop16[prop16['taxdelinquencyflag'].notnull()]['taxdelinquencyflag'].count()/prop16.shape[0])\n",
        "print('These have a \"Y\", only other values are NaN')\n",
        "\n",
        "# Change 'Y' to 1 for tax deliquency flag column\n",
        "prop16['taxdelinquencyflag'].replace(to_replace='Y',value=1, inplace=True)"
      ],
      "metadata": {
        "colab": {
          "base_uri": "https://localhost:8080/"
        },
        "id": "sFZfLp8od_2n",
        "outputId": "ac709dc4-99ce-4bf8-94a5-339d5dcd7ccd"
      },
      "execution_count": 23,
      "outputs": [
        {
          "output_type": "stream",
          "name": "stdout",
          "text": [
            "Percent of properties flagged as tax deliquent: 1.8913867903070363\n",
            "These have a \"Y\", only other values are NaN\n"
          ]
        }
      ]
    },
    {
      "cell_type": "code",
      "source": [
        "# Change True to 1 for 'has_spa' and 'fireplaceflag' columns\n",
        "prop16['has_spa'].replace(to_replace=True,value=1, inplace=True)\n",
        "prop16['fireplaceflag'].replace(to_replace=True,value=1, inplace=True)"
      ],
      "metadata": {
        "id": "Oi9B2pQ8_3JC"
      },
      "execution_count": 24,
      "outputs": []
    },
    {
      "cell_type": "code",
      "source": [
        "# Tax Deliquency Year\n",
        "print('Tax Delinquency Year:', prop16['taxdelinquencyyear'].sort_values().unique())"
      ],
      "metadata": {
        "colab": {
          "base_uri": "https://localhost:8080/"
        },
        "id": "9kfsCspoEZvr",
        "outputId": "79666f06-80ae-473a-dc78-d62c3880b0e9"
      },
      "execution_count": 25,
      "outputs": [
        {
          "output_type": "stream",
          "name": "stdout",
          "text": [
            "Tax Delinquency Year: [ 0.  1.  2.  3.  4.  5.  6.  7.  8.  9. 10. 11. 12. 13. 14. 15. 79. 82.\n",
            " 84. 86. 87. 88. 90. 91. 92. 93. 94. 95. 96. 97. 98. 99. nan]\n"
          ]
        }
      ]
    },
    {
      "cell_type": "code",
      "source": [
        "# The description for Tax Deliquency Year in the data dictionary reads: \"Year for which the unpaid propert taxes were due.\"\n",
        "# note that values are all below 16 or much much higher\n",
        "# It seems like these values should instead be 0 = 2000, 1 = 2001, etc. and 84 = 1984, 86 = 1986, etc.\n",
        "delinq_year_dict = {0:2000, 1:2001, 2:2002, 3:2003, 4:2004, 5:2005, 6:2006, 7:2007, 8:2008, 9:2009, 10:2010, 11:2011, 12:2012, 13:2013, 14:2014, 15:2015, \\\n",
        "                    79:1979, 82:1982, 84:1984, 86:1986, 87:1987, 88:1988, 90:1990, 91:1991, 92:1992, 93:1993, 94:1994, 95:1995, 96:1996, 97:1997, 98:1998, 99:1999}\n",
        "prop16['taxdelinquencyyear'].replace(delinq_year_dict, inplace=True)\n",
        "print('Tax Delinquency Year:', prop16['taxdelinquencyyear'].sort_values().unique())"
      ],
      "metadata": {
        "colab": {
          "base_uri": "https://localhost:8080/"
        },
        "id": "7u8MQBraFbzl",
        "outputId": "33e72f5d-6eeb-403e-c8c2-daa09cd65868"
      },
      "execution_count": 26,
      "outputs": [
        {
          "output_type": "stream",
          "name": "stdout",
          "text": [
            "Tax Delinquency Year: [1979. 1982. 1984. 1986. 1987. 1988. 1990. 1991. 1992. 1993. 1994. 1995.\n",
            " 1996. 1997. 1998. 1999. 2000. 2001. 2002. 2003. 2004. 2005. 2006. 2007.\n",
            " 2008. 2009. 2010. 2011. 2012. 2013. 2014. 2015.   nan]\n"
          ]
        }
      ]
    },
    {
      "cell_type": "code",
      "source": [
        "# Year built\n",
        "print('Oldest home:', prop16.yearbuilt.min())\n",
        "print('Newest home:', prop16.yearbuilt.max())\n",
        "\n",
        "# Create age from yearbuilt and drop yearbuilt\n",
        "# This makes it ratio data\n",
        "prop16.yearbuilt.value_counts()\n",
        "prop16['age']=2016 - prop16.yearbuilt\n",
        "prop16.drop(columns=['yearbuilt'], inplace=True)"
      ],
      "metadata": {
        "colab": {
          "base_uri": "https://localhost:8080/"
        },
        "id": "sQYRKQmSC5Bi",
        "outputId": "ca7d21dd-3936-455c-a2aa-bf136bbc335d"
      },
      "execution_count": 27,
      "outputs": [
        {
          "output_type": "stream",
          "name": "stdout",
          "text": [
            "Oldest home: 1801.0\n",
            "Newest home: 2015.0\n"
          ]
        }
      ]
    },
    {
      "cell_type": "code",
      "source": [
        "# Assessment Year\n",
        "print('Assessment Year values:', prop16.assessmentyear.unique())\n",
        "print('Oldest:', prop16.assessmentyear.min())\n",
        "print('Newest:', prop16.assessmentyear.max())\n",
        "print('Assesment Year has', prop16.assessmentyear.isna().sum(), 'NaN values.')\n",
        "# Should I treat this as categorical? only 14 values"
      ],
      "metadata": {
        "colab": {
          "base_uri": "https://localhost:8080/"
        },
        "id": "E7Wnwyi2DoT9",
        "outputId": "5a6f8247-9adf-4bdf-eecb-9653bd477b2d"
      },
      "execution_count": 28,
      "outputs": [
        {
          "output_type": "stream",
          "name": "stdout",
          "text": [
            "Assessment Year values: [2015. 2014. 2003. 2012. 2001. 2011. 2013. 2016. 2010.   nan 2004. 2005.\n",
            " 2002. 2000. 2009.]\n",
            "Oldest: 2000.0\n",
            "Newest: 2016.0\n",
            "Assesment Year has 11439 NaN values.\n"
          ]
        }
      ]
    },
    {
      "cell_type": "markdown",
      "source": [
        "# Duplicate columns"
      ],
      "metadata": {
        "id": "8H44z9uqS7He"
      }
    },
    {
      "cell_type": "code",
      "source": [
        "# What is the difference between these two spa columns?\n",
        "print('Has Spa count:', prop16.has_spa.notnull().sum()) #originally called hastuborspa\n",
        "print('Has Spa #2 count:', prop16['spa_or_hot_tub'].notnull().sum()) #originally called pooltypeid10"
      ],
      "metadata": {
        "colab": {
          "base_uri": "https://localhost:8080/"
        },
        "id": "4e82aaxYPNXe",
        "outputId": "b745f88a-6ff4-49a3-ef27-50df704a154b"
      },
      "execution_count": 29,
      "outputs": [
        {
          "output_type": "stream",
          "name": "stdout",
          "text": [
            "Has Spa count: 69014\n",
            "Has Spa #2 count: 36939\n"
          ]
        }
      ]
    },
    {
      "cell_type": "code",
      "source": [
        "prop16[prop16['has_spa'].notnull()][['has_spa','spa_or_hot_tub']]"
      ],
      "metadata": {
        "colab": {
          "base_uri": "https://localhost:8080/",
          "height": 424
        },
        "id": "UKRDJmGuTgQ9",
        "outputId": "a9da4de5-8530-4f7d-b955-c4fecbaf6242"
      },
      "execution_count": 30,
      "outputs": [
        {
          "output_type": "execute_result",
          "data": {
            "text/plain": [
              "         has_spa  spa_or_hot_tub\n",
              "1340         1.0             1.0\n",
              "1341         1.0             1.0\n",
              "1497         1.0             1.0\n",
              "1691         1.0             1.0\n",
              "1694         1.0             1.0\n",
              "...          ...             ...\n",
              "2973008      1.0             NaN\n",
              "2973193      1.0             1.0\n",
              "2973636      1.0             NaN\n",
              "2973644      1.0             1.0\n",
              "2973745      1.0             1.0\n",
              "\n",
              "[69014 rows x 2 columns]"
            ],
            "text/html": [
              "\n",
              "  <div id=\"df-123009e7-e3bf-4aba-adf7-139d3929a59b\">\n",
              "    <div class=\"colab-df-container\">\n",
              "      <div>\n",
              "<style scoped>\n",
              "    .dataframe tbody tr th:only-of-type {\n",
              "        vertical-align: middle;\n",
              "    }\n",
              "\n",
              "    .dataframe tbody tr th {\n",
              "        vertical-align: top;\n",
              "    }\n",
              "\n",
              "    .dataframe thead th {\n",
              "        text-align: right;\n",
              "    }\n",
              "</style>\n",
              "<table border=\"1\" class=\"dataframe\">\n",
              "  <thead>\n",
              "    <tr style=\"text-align: right;\">\n",
              "      <th></th>\n",
              "      <th>has_spa</th>\n",
              "      <th>spa_or_hot_tub</th>\n",
              "    </tr>\n",
              "  </thead>\n",
              "  <tbody>\n",
              "    <tr>\n",
              "      <th>1340</th>\n",
              "      <td>1.0</td>\n",
              "      <td>1.0</td>\n",
              "    </tr>\n",
              "    <tr>\n",
              "      <th>1341</th>\n",
              "      <td>1.0</td>\n",
              "      <td>1.0</td>\n",
              "    </tr>\n",
              "    <tr>\n",
              "      <th>1497</th>\n",
              "      <td>1.0</td>\n",
              "      <td>1.0</td>\n",
              "    </tr>\n",
              "    <tr>\n",
              "      <th>1691</th>\n",
              "      <td>1.0</td>\n",
              "      <td>1.0</td>\n",
              "    </tr>\n",
              "    <tr>\n",
              "      <th>1694</th>\n",
              "      <td>1.0</td>\n",
              "      <td>1.0</td>\n",
              "    </tr>\n",
              "    <tr>\n",
              "      <th>...</th>\n",
              "      <td>...</td>\n",
              "      <td>...</td>\n",
              "    </tr>\n",
              "    <tr>\n",
              "      <th>2973008</th>\n",
              "      <td>1.0</td>\n",
              "      <td>NaN</td>\n",
              "    </tr>\n",
              "    <tr>\n",
              "      <th>2973193</th>\n",
              "      <td>1.0</td>\n",
              "      <td>1.0</td>\n",
              "    </tr>\n",
              "    <tr>\n",
              "      <th>2973636</th>\n",
              "      <td>1.0</td>\n",
              "      <td>NaN</td>\n",
              "    </tr>\n",
              "    <tr>\n",
              "      <th>2973644</th>\n",
              "      <td>1.0</td>\n",
              "      <td>1.0</td>\n",
              "    </tr>\n",
              "    <tr>\n",
              "      <th>2973745</th>\n",
              "      <td>1.0</td>\n",
              "      <td>1.0</td>\n",
              "    </tr>\n",
              "  </tbody>\n",
              "</table>\n",
              "<p>69014 rows × 2 columns</p>\n",
              "</div>\n",
              "      <button class=\"colab-df-convert\" onclick=\"convertToInteractive('df-123009e7-e3bf-4aba-adf7-139d3929a59b')\"\n",
              "              title=\"Convert this dataframe to an interactive table.\"\n",
              "              style=\"display:none;\">\n",
              "        \n",
              "  <svg xmlns=\"http://www.w3.org/2000/svg\" height=\"24px\"viewBox=\"0 0 24 24\"\n",
              "       width=\"24px\">\n",
              "    <path d=\"M0 0h24v24H0V0z\" fill=\"none\"/>\n",
              "    <path d=\"M18.56 5.44l.94 2.06.94-2.06 2.06-.94-2.06-.94-.94-2.06-.94 2.06-2.06.94zm-11 1L8.5 8.5l.94-2.06 2.06-.94-2.06-.94L8.5 2.5l-.94 2.06-2.06.94zm10 10l.94 2.06.94-2.06 2.06-.94-2.06-.94-.94-2.06-.94 2.06-2.06.94z\"/><path d=\"M17.41 7.96l-1.37-1.37c-.4-.4-.92-.59-1.43-.59-.52 0-1.04.2-1.43.59L10.3 9.45l-7.72 7.72c-.78.78-.78 2.05 0 2.83L4 21.41c.39.39.9.59 1.41.59.51 0 1.02-.2 1.41-.59l7.78-7.78 2.81-2.81c.8-.78.8-2.07 0-2.86zM5.41 20L4 18.59l7.72-7.72 1.47 1.35L5.41 20z\"/>\n",
              "  </svg>\n",
              "      </button>\n",
              "      \n",
              "  <style>\n",
              "    .colab-df-container {\n",
              "      display:flex;\n",
              "      flex-wrap:wrap;\n",
              "      gap: 12px;\n",
              "    }\n",
              "\n",
              "    .colab-df-convert {\n",
              "      background-color: #E8F0FE;\n",
              "      border: none;\n",
              "      border-radius: 50%;\n",
              "      cursor: pointer;\n",
              "      display: none;\n",
              "      fill: #1967D2;\n",
              "      height: 32px;\n",
              "      padding: 0 0 0 0;\n",
              "      width: 32px;\n",
              "    }\n",
              "\n",
              "    .colab-df-convert:hover {\n",
              "      background-color: #E2EBFA;\n",
              "      box-shadow: 0px 1px 2px rgba(60, 64, 67, 0.3), 0px 1px 3px 1px rgba(60, 64, 67, 0.15);\n",
              "      fill: #174EA6;\n",
              "    }\n",
              "\n",
              "    [theme=dark] .colab-df-convert {\n",
              "      background-color: #3B4455;\n",
              "      fill: #D2E3FC;\n",
              "    }\n",
              "\n",
              "    [theme=dark] .colab-df-convert:hover {\n",
              "      background-color: #434B5C;\n",
              "      box-shadow: 0px 1px 3px 1px rgba(0, 0, 0, 0.15);\n",
              "      filter: drop-shadow(0px 1px 2px rgba(0, 0, 0, 0.3));\n",
              "      fill: #FFFFFF;\n",
              "    }\n",
              "  </style>\n",
              "\n",
              "      <script>\n",
              "        const buttonEl =\n",
              "          document.querySelector('#df-123009e7-e3bf-4aba-adf7-139d3929a59b button.colab-df-convert');\n",
              "        buttonEl.style.display =\n",
              "          google.colab.kernel.accessAllowed ? 'block' : 'none';\n",
              "\n",
              "        async function convertToInteractive(key) {\n",
              "          const element = document.querySelector('#df-123009e7-e3bf-4aba-adf7-139d3929a59b');\n",
              "          const dataTable =\n",
              "            await google.colab.kernel.invokeFunction('convertToInteractive',\n",
              "                                                     [key], {});\n",
              "          if (!dataTable) return;\n",
              "\n",
              "          const docLinkHtml = 'Like what you see? Visit the ' +\n",
              "            '<a target=\"_blank\" href=https://colab.research.google.com/notebooks/data_table.ipynb>data table notebook</a>'\n",
              "            + ' to learn more about interactive tables.';\n",
              "          element.innerHTML = '';\n",
              "          dataTable['output_type'] = 'display_data';\n",
              "          await google.colab.output.renderOutput(dataTable, element);\n",
              "          const docLink = document.createElement('div');\n",
              "          docLink.innerHTML = docLinkHtml;\n",
              "          element.appendChild(docLink);\n",
              "        }\n",
              "      </script>\n",
              "    </div>\n",
              "  </div>\n",
              "  "
            ]
          },
          "metadata": {},
          "execution_count": 30
        }
      ]
    },
    {
      "cell_type": "code",
      "source": [
        "prop16[prop16['spa_or_hot_tub'].notnull()]['has_spa'].unique()\n",
        "# every record that =1 for 'spa_or_hot_tub' already has a 1 in 'has_spa'\n",
        "# 'spa_or_hot_tub' gives no new information, it can be dropped"
      ],
      "metadata": {
        "colab": {
          "base_uri": "https://localhost:8080/"
        },
        "id": "evZ62jPVTscK",
        "outputId": "043d6277-396b-4bb9-e70e-b22e0857c9fa"
      },
      "execution_count": 31,
      "outputs": [
        {
          "output_type": "execute_result",
          "data": {
            "text/plain": [
              "array([1.])"
            ]
          },
          "metadata": {},
          "execution_count": 31
        }
      ]
    },
    {
      "cell_type": "code",
      "source": [
        "prop16.drop(columns=['spa_or_hot_tub'], inplace=True)"
      ],
      "metadata": {
        "id": "rrW7jl5BUWE_"
      },
      "execution_count": 32,
      "outputs": []
    },
    {
      "cell_type": "code",
      "source": [
        "# I noticed a second duplicate column: 'finishedsquarefeet50' is the same description as 'entry_floor_sqft'\n",
        "print(prop16[prop16['entry_floor_sqft'].notnull()][['entry_floor_sqft','finishedsquarefeet50']])\n",
        "# they have equivalent values, drop finishedsqaurefeet50\n",
        "prop16.drop(columns=['finishedsquarefeet50'], inplace=True)"
      ],
      "metadata": {
        "colab": {
          "base_uri": "https://localhost:8080/"
        },
        "id": "AN7k0CsXS9If",
        "outputId": "197c1df2-efd6-4511-cfa7-c9c9aac494f1"
      },
      "execution_count": 33,
      "outputs": [
        {
          "output_type": "stream",
          "name": "stdout",
          "text": [
            "         entry_floor_sqft  finishedsquarefeet50\n",
            "295                4969.0                4969.0\n",
            "296                1080.0                1080.0\n",
            "297                 780.0                 780.0\n",
            "298                1250.0                1250.0\n",
            "299                1404.0                1404.0\n",
            "...                   ...                   ...\n",
            "2973692            1358.0                1358.0\n",
            "2973693             640.0                 640.0\n",
            "2973706             710.0                 710.0\n",
            "2973735             707.0                 707.0\n",
            "2973757            1917.0                1917.0\n",
            "\n",
            "[202717 rows x 2 columns]\n"
          ]
        }
      ]
    },
    {
      "cell_type": "code",
      "source": [
        "# total_sqft, home_sqft, and living_sqft seem to be duplicates\n",
        "# How many NaNs does each have?\n",
        "print('Living SqFt NaNs:', prop16['living_sqft'].isna().sum())\n",
        "print('Home SqFt NaNs:', prop16['home_sqft'].isna().sum())\n",
        "print('Total SqFt NaNs:', prop16['total_sqft'].isna().sum())"
      ],
      "metadata": {
        "colab": {
          "base_uri": "https://localhost:8080/"
        },
        "id": "UbYzwPaNFoRO",
        "outputId": "7c522c6a-7b83-4e42-8391-de4bce401da4"
      },
      "execution_count": 34,
      "outputs": [
        {
          "output_type": "stream",
          "name": "stdout",
          "text": [
            "Living SqFt NaNs: 276033\n",
            "Home SqFt NaNs: 55565\n",
            "Total SqFt NaNs: 2794419\n"
          ]
        }
      ]
    },
    {
      "cell_type": "code",
      "source": [
        "# When living_sqft is not NaN, does it always = home_sqft?\n",
        "# And is total sqft always NaN when living_sqft is not?\n",
        "prop16[prop16['living_sqft']>0][['total_sqft','home_sqft','living_sqft']]"
      ],
      "metadata": {
        "colab": {
          "base_uri": "https://localhost:8080/",
          "height": 424
        },
        "id": "pH4INvdTDTVV",
        "outputId": "b7032893-7fef-4dfc-c10b-1d8b589f4570"
      },
      "execution_count": 35,
      "outputs": [
        {
          "output_type": "execute_result",
          "data": {
            "text/plain": [
              "         total_sqft  home_sqft  living_sqft\n",
              "18              NaN     4000.0       4000.0\n",
              "19              NaN     3633.0       3633.0\n",
              "28              NaN     1090.0       1090.0\n",
              "29              NaN     1620.0       1620.0\n",
              "31              NaN     2077.0       2077.0\n",
              "...             ...        ...          ...\n",
              "2973772         NaN     1652.0       1652.0\n",
              "2973775         NaN      798.0        798.0\n",
              "2973776         NaN     1526.0       1526.0\n",
              "2973777         NaN     2110.0       2110.0\n",
              "2973778         NaN     1040.0       1040.0\n",
              "\n",
              "[2709184 rows x 3 columns]"
            ],
            "text/html": [
              "\n",
              "  <div id=\"df-6a380d08-d234-4103-97c3-1e813586ea96\">\n",
              "    <div class=\"colab-df-container\">\n",
              "      <div>\n",
              "<style scoped>\n",
              "    .dataframe tbody tr th:only-of-type {\n",
              "        vertical-align: middle;\n",
              "    }\n",
              "\n",
              "    .dataframe tbody tr th {\n",
              "        vertical-align: top;\n",
              "    }\n",
              "\n",
              "    .dataframe thead th {\n",
              "        text-align: right;\n",
              "    }\n",
              "</style>\n",
              "<table border=\"1\" class=\"dataframe\">\n",
              "  <thead>\n",
              "    <tr style=\"text-align: right;\">\n",
              "      <th></th>\n",
              "      <th>total_sqft</th>\n",
              "      <th>home_sqft</th>\n",
              "      <th>living_sqft</th>\n",
              "    </tr>\n",
              "  </thead>\n",
              "  <tbody>\n",
              "    <tr>\n",
              "      <th>18</th>\n",
              "      <td>NaN</td>\n",
              "      <td>4000.0</td>\n",
              "      <td>4000.0</td>\n",
              "    </tr>\n",
              "    <tr>\n",
              "      <th>19</th>\n",
              "      <td>NaN</td>\n",
              "      <td>3633.0</td>\n",
              "      <td>3633.0</td>\n",
              "    </tr>\n",
              "    <tr>\n",
              "      <th>28</th>\n",
              "      <td>NaN</td>\n",
              "      <td>1090.0</td>\n",
              "      <td>1090.0</td>\n",
              "    </tr>\n",
              "    <tr>\n",
              "      <th>29</th>\n",
              "      <td>NaN</td>\n",
              "      <td>1620.0</td>\n",
              "      <td>1620.0</td>\n",
              "    </tr>\n",
              "    <tr>\n",
              "      <th>31</th>\n",
              "      <td>NaN</td>\n",
              "      <td>2077.0</td>\n",
              "      <td>2077.0</td>\n",
              "    </tr>\n",
              "    <tr>\n",
              "      <th>...</th>\n",
              "      <td>...</td>\n",
              "      <td>...</td>\n",
              "      <td>...</td>\n",
              "    </tr>\n",
              "    <tr>\n",
              "      <th>2973772</th>\n",
              "      <td>NaN</td>\n",
              "      <td>1652.0</td>\n",
              "      <td>1652.0</td>\n",
              "    </tr>\n",
              "    <tr>\n",
              "      <th>2973775</th>\n",
              "      <td>NaN</td>\n",
              "      <td>798.0</td>\n",
              "      <td>798.0</td>\n",
              "    </tr>\n",
              "    <tr>\n",
              "      <th>2973776</th>\n",
              "      <td>NaN</td>\n",
              "      <td>1526.0</td>\n",
              "      <td>1526.0</td>\n",
              "    </tr>\n",
              "    <tr>\n",
              "      <th>2973777</th>\n",
              "      <td>NaN</td>\n",
              "      <td>2110.0</td>\n",
              "      <td>2110.0</td>\n",
              "    </tr>\n",
              "    <tr>\n",
              "      <th>2973778</th>\n",
              "      <td>NaN</td>\n",
              "      <td>1040.0</td>\n",
              "      <td>1040.0</td>\n",
              "    </tr>\n",
              "  </tbody>\n",
              "</table>\n",
              "<p>2709184 rows × 3 columns</p>\n",
              "</div>\n",
              "      <button class=\"colab-df-convert\" onclick=\"convertToInteractive('df-6a380d08-d234-4103-97c3-1e813586ea96')\"\n",
              "              title=\"Convert this dataframe to an interactive table.\"\n",
              "              style=\"display:none;\">\n",
              "        \n",
              "  <svg xmlns=\"http://www.w3.org/2000/svg\" height=\"24px\"viewBox=\"0 0 24 24\"\n",
              "       width=\"24px\">\n",
              "    <path d=\"M0 0h24v24H0V0z\" fill=\"none\"/>\n",
              "    <path d=\"M18.56 5.44l.94 2.06.94-2.06 2.06-.94-2.06-.94-.94-2.06-.94 2.06-2.06.94zm-11 1L8.5 8.5l.94-2.06 2.06-.94-2.06-.94L8.5 2.5l-.94 2.06-2.06.94zm10 10l.94 2.06.94-2.06 2.06-.94-2.06-.94-.94-2.06-.94 2.06-2.06.94z\"/><path d=\"M17.41 7.96l-1.37-1.37c-.4-.4-.92-.59-1.43-.59-.52 0-1.04.2-1.43.59L10.3 9.45l-7.72 7.72c-.78.78-.78 2.05 0 2.83L4 21.41c.39.39.9.59 1.41.59.51 0 1.02-.2 1.41-.59l7.78-7.78 2.81-2.81c.8-.78.8-2.07 0-2.86zM5.41 20L4 18.59l7.72-7.72 1.47 1.35L5.41 20z\"/>\n",
              "  </svg>\n",
              "      </button>\n",
              "      \n",
              "  <style>\n",
              "    .colab-df-container {\n",
              "      display:flex;\n",
              "      flex-wrap:wrap;\n",
              "      gap: 12px;\n",
              "    }\n",
              "\n",
              "    .colab-df-convert {\n",
              "      background-color: #E8F0FE;\n",
              "      border: none;\n",
              "      border-radius: 50%;\n",
              "      cursor: pointer;\n",
              "      display: none;\n",
              "      fill: #1967D2;\n",
              "      height: 32px;\n",
              "      padding: 0 0 0 0;\n",
              "      width: 32px;\n",
              "    }\n",
              "\n",
              "    .colab-df-convert:hover {\n",
              "      background-color: #E2EBFA;\n",
              "      box-shadow: 0px 1px 2px rgba(60, 64, 67, 0.3), 0px 1px 3px 1px rgba(60, 64, 67, 0.15);\n",
              "      fill: #174EA6;\n",
              "    }\n",
              "\n",
              "    [theme=dark] .colab-df-convert {\n",
              "      background-color: #3B4455;\n",
              "      fill: #D2E3FC;\n",
              "    }\n",
              "\n",
              "    [theme=dark] .colab-df-convert:hover {\n",
              "      background-color: #434B5C;\n",
              "      box-shadow: 0px 1px 3px 1px rgba(0, 0, 0, 0.15);\n",
              "      filter: drop-shadow(0px 1px 2px rgba(0, 0, 0, 0.3));\n",
              "      fill: #FFFFFF;\n",
              "    }\n",
              "  </style>\n",
              "\n",
              "      <script>\n",
              "        const buttonEl =\n",
              "          document.querySelector('#df-6a380d08-d234-4103-97c3-1e813586ea96 button.colab-df-convert');\n",
              "        buttonEl.style.display =\n",
              "          google.colab.kernel.accessAllowed ? 'block' : 'none';\n",
              "\n",
              "        async function convertToInteractive(key) {\n",
              "          const element = document.querySelector('#df-6a380d08-d234-4103-97c3-1e813586ea96');\n",
              "          const dataTable =\n",
              "            await google.colab.kernel.invokeFunction('convertToInteractive',\n",
              "                                                     [key], {});\n",
              "          if (!dataTable) return;\n",
              "\n",
              "          const docLinkHtml = 'Like what you see? Visit the ' +\n",
              "            '<a target=\"_blank\" href=https://colab.research.google.com/notebooks/data_table.ipynb>data table notebook</a>'\n",
              "            + ' to learn more about interactive tables.';\n",
              "          element.innerHTML = '';\n",
              "          dataTable['output_type'] = 'display_data';\n",
              "          await google.colab.output.renderOutput(dataTable, element);\n",
              "          const docLink = document.createElement('div');\n",
              "          docLink.innerHTML = docLinkHtml;\n",
              "          element.appendChild(docLink);\n",
              "        }\n",
              "      </script>\n",
              "    </div>\n",
              "  </div>\n",
              "  "
            ]
          },
          "metadata": {},
          "execution_count": 35
        }
      ]
    },
    {
      "cell_type": "code",
      "source": [
        "print('Sum of home_sqft where living_sqft non NaN:', prop16[prop16['living_sqft']>0]['home_sqft'].sum())\n",
        "print('Sum of living_sqft where living_sqft non NaN:', prop16[prop16['living_sqft']>0]['living_sqft'].sum())\n",
        "print('home_sqft NaNs where living_sft not NaN:', prop16[prop16['living_sqft']>0]['home_sqft'].isna().sum())\n",
        "# Yes, when not NaN, living_sqft is the same as home_sqft\n",
        "# Whenver living_sqft is not NaN, neither is home_sqft\n",
        "# We can drop living_sqft"
      ],
      "metadata": {
        "colab": {
          "base_uri": "https://localhost:8080/"
        },
        "id": "mqjljyOeEgBv",
        "outputId": "b54c247b-a28c-4cad-be5f-9f550f305a65"
      },
      "execution_count": 36,
      "outputs": [
        {
          "output_type": "stream",
          "name": "stdout",
          "text": [
            "Sum of home_sqft where living_sqft non NaN: 4768165487.0\n",
            "Sum of living_sqft where living_sqft non NaN: 4768165487.0\n",
            "home_sqft NaNs where living_sft not NaN: 0\n"
          ]
        }
      ]
    },
    {
      "cell_type": "code",
      "source": [
        "# When total_sqft is not NaN, does it always = home_sqft?\n",
        "print('Sum of home_sqft where total_sqft non NaN:', prop16[prop16['total_sqft']>0]['home_sqft'].sum())\n",
        "print('Sum of total_sqft where total_sqft non NaN:', prop16[prop16['total_sqft']>0]['total_sqft'].sum())\n",
        "print('home_sqft NaNs where total_sqft not NaN:', prop16[prop16['total_sqft']>0]['home_sqft'].isna().sum())\n",
        "# Whenver total_sqft is not NaN, neither is home_sqft\n",
        "# There seem to be a few cases when total_sqft != home_sqft"
      ],
      "metadata": {
        "colab": {
          "base_uri": "https://localhost:8080/"
        },
        "id": "CyqGH4aZGNPT",
        "outputId": "6175aff8-80e0-4f69-b585-9a91b166efcb"
      },
      "execution_count": 37,
      "outputs": [
        {
          "output_type": "stream",
          "name": "stdout",
          "text": [
            "Sum of home_sqft where total_sqft non NaN: 522618187.0\n",
            "Sum of total_sqft where total_sqft non NaN: 522631446.0\n",
            "home_sqft NaNs where total_sqft not NaN: 0\n"
          ]
        }
      ]
    },
    {
      "cell_type": "code",
      "source": [
        "pd.set_option('display.float_format', lambda x: f'{x:.1f}')\n",
        "#prop16[(prop16['total_sqft']!=prop16['home_sqft'])&(prop16['total_sqft'].notna())][['entry_floor_sqft','total_sqft','home_sqft','unitcnt','numberofstories']]\n",
        "prop16[(prop16['total_sqft']!=prop16['home_sqft'])&(prop16['total_sqft'].notna())].T\n",
        "# There are three cases where total_sqft != home_sqft\n",
        "# in each case total = 2xhome, exactly!\n",
        "# they are all quadruplexes\n",
        "# I can't figure out why the total_sqft would be double in these cases\n",
        "# 3 cases isn't worth keeping the column that is nearly entirely NaN\n",
        "# drop total_sqft"
      ],
      "metadata": {
        "colab": {
          "base_uri": "https://localhost:8080/",
          "height": 1000
        },
        "id": "tPmmKwN7G7kX",
        "outputId": "31988212-6bfe-4e45-a011-7d7011fedd09"
      },
      "execution_count": 38,
      "outputs": [
        {
          "output_type": "execute_result",
          "data": {
            "text/plain": [
              "                                1011473          2276060          2959851\n",
              "parcelid                       17053873         17231357         17231374\n",
              "aircon                              NaN              NaN              NaN\n",
              "architecture                        NaN              NaN              NaN\n",
              "basementsqft                        NaN              NaN              NaN\n",
              "bathroomcnt                         2.0              8.0              6.0\n",
              "bedroomcnt                          4.0             10.0              6.0\n",
              "framing                             NaN              NaN              NaN\n",
              "quality                             NaN              NaN              NaN\n",
              "deck                                NaN              NaN              NaN\n",
              "entry_floor_sqft                 2603.0           2856.0           2858.0\n",
              "home_sqft                        2603.0           5712.0           4944.0\n",
              "living_sqft                         NaN              NaN              NaN\n",
              "perimeter_sqft                      NaN              NaN              NaN\n",
              "total_sqft                       5206.0          11424.0           9888.0\n",
              "base_sqft                           NaN              NaN              NaN\n",
              "fips                             6111.0           6111.0           6111.0\n",
              "fireplacecnt                        NaN              NaN              NaN\n",
              "garagecarcnt                        2.0              6.0              6.0\n",
              "garage_sqft                         0.0              0.0              0.0\n",
              "has_spa                             NaN              NaN              NaN\n",
              "heating                             NaN              NaN              NaN\n",
              "latitude                     34437663.0       34296994.0       34296336.0\n",
              "longitude                  -119285944.0     -118718486.0     -118717577.0\n",
              "lot_sqft                       182952.0          11169.0           9429.0\n",
              "poolcnt                             NaN              NaN              NaN\n",
              "poolsizesum                         NaN              NaN              NaN\n",
              "pool_with_spa                       NaN              NaN              NaN\n",
              "pool_without_spa                    NaN              NaN              NaN\n",
              "county_land_use_code               1421             1410             1410\n",
              "land_use_code                     248.0            248.0            248.0\n",
              "zoning_code                         NaN              NaN              NaN\n",
              "rawcensustractandblock       61110010.0       61110085.0       61110085.0\n",
              "city                            13091.0          27110.0          27110.0\n",
              "county                           2061.0           2061.0           2061.0\n",
              "neighborhood                        NaN              NaN              NaN\n",
              "zipcode                         97099.0          97116.0          97116.0\n",
              "roomcnt                             8.0             30.0             18.0\n",
              "storytypeid                         NaN              NaN              NaN\n",
              "material                            NaN              NaN              NaN\n",
              "unitcnt                             4.0              4.0              4.0\n",
              "patio_sqft                          NaN           3120.0            884.0\n",
              "shed_sqft                           NaN              NaN              NaN\n",
              "numberofstories                     1.0              2.0              2.0\n",
              "fireplaceflag                       NaN              NaN              NaN\n",
              "tav_built                      133385.0         326965.0         282576.0\n",
              "tax_assessed_value             178283.0         408458.0         364069.0\n",
              "assessmentyear                   2015.0           2015.0           2015.0\n",
              "tav_land                        44898.0          81493.0          81493.0\n",
              "property_tax                     2714.5           5502.0           5020.0\n",
              "taxdelinquencyflag                  NaN              NaN              NaN\n",
              "taxdelinquencyyear                  NaN              NaN              NaN\n",
              "censustractandblock    61110010023027.0 61110085003086.0 61110085003087.0\n",
              "age                                67.0             35.0             35.0"
            ],
            "text/html": [
              "\n",
              "  <div id=\"df-625681cc-9ac2-431c-8944-88bd49588122\">\n",
              "    <div class=\"colab-df-container\">\n",
              "      <div>\n",
              "<style scoped>\n",
              "    .dataframe tbody tr th:only-of-type {\n",
              "        vertical-align: middle;\n",
              "    }\n",
              "\n",
              "    .dataframe tbody tr th {\n",
              "        vertical-align: top;\n",
              "    }\n",
              "\n",
              "    .dataframe thead th {\n",
              "        text-align: right;\n",
              "    }\n",
              "</style>\n",
              "<table border=\"1\" class=\"dataframe\">\n",
              "  <thead>\n",
              "    <tr style=\"text-align: right;\">\n",
              "      <th></th>\n",
              "      <th>1011473</th>\n",
              "      <th>2276060</th>\n",
              "      <th>2959851</th>\n",
              "    </tr>\n",
              "  </thead>\n",
              "  <tbody>\n",
              "    <tr>\n",
              "      <th>parcelid</th>\n",
              "      <td>17053873</td>\n",
              "      <td>17231357</td>\n",
              "      <td>17231374</td>\n",
              "    </tr>\n",
              "    <tr>\n",
              "      <th>aircon</th>\n",
              "      <td>NaN</td>\n",
              "      <td>NaN</td>\n",
              "      <td>NaN</td>\n",
              "    </tr>\n",
              "    <tr>\n",
              "      <th>architecture</th>\n",
              "      <td>NaN</td>\n",
              "      <td>NaN</td>\n",
              "      <td>NaN</td>\n",
              "    </tr>\n",
              "    <tr>\n",
              "      <th>basementsqft</th>\n",
              "      <td>NaN</td>\n",
              "      <td>NaN</td>\n",
              "      <td>NaN</td>\n",
              "    </tr>\n",
              "    <tr>\n",
              "      <th>bathroomcnt</th>\n",
              "      <td>2.0</td>\n",
              "      <td>8.0</td>\n",
              "      <td>6.0</td>\n",
              "    </tr>\n",
              "    <tr>\n",
              "      <th>bedroomcnt</th>\n",
              "      <td>4.0</td>\n",
              "      <td>10.0</td>\n",
              "      <td>6.0</td>\n",
              "    </tr>\n",
              "    <tr>\n",
              "      <th>framing</th>\n",
              "      <td>NaN</td>\n",
              "      <td>NaN</td>\n",
              "      <td>NaN</td>\n",
              "    </tr>\n",
              "    <tr>\n",
              "      <th>quality</th>\n",
              "      <td>NaN</td>\n",
              "      <td>NaN</td>\n",
              "      <td>NaN</td>\n",
              "    </tr>\n",
              "    <tr>\n",
              "      <th>deck</th>\n",
              "      <td>NaN</td>\n",
              "      <td>NaN</td>\n",
              "      <td>NaN</td>\n",
              "    </tr>\n",
              "    <tr>\n",
              "      <th>entry_floor_sqft</th>\n",
              "      <td>2603.0</td>\n",
              "      <td>2856.0</td>\n",
              "      <td>2858.0</td>\n",
              "    </tr>\n",
              "    <tr>\n",
              "      <th>home_sqft</th>\n",
              "      <td>2603.0</td>\n",
              "      <td>5712.0</td>\n",
              "      <td>4944.0</td>\n",
              "    </tr>\n",
              "    <tr>\n",
              "      <th>living_sqft</th>\n",
              "      <td>NaN</td>\n",
              "      <td>NaN</td>\n",
              "      <td>NaN</td>\n",
              "    </tr>\n",
              "    <tr>\n",
              "      <th>perimeter_sqft</th>\n",
              "      <td>NaN</td>\n",
              "      <td>NaN</td>\n",
              "      <td>NaN</td>\n",
              "    </tr>\n",
              "    <tr>\n",
              "      <th>total_sqft</th>\n",
              "      <td>5206.0</td>\n",
              "      <td>11424.0</td>\n",
              "      <td>9888.0</td>\n",
              "    </tr>\n",
              "    <tr>\n",
              "      <th>base_sqft</th>\n",
              "      <td>NaN</td>\n",
              "      <td>NaN</td>\n",
              "      <td>NaN</td>\n",
              "    </tr>\n",
              "    <tr>\n",
              "      <th>fips</th>\n",
              "      <td>6111.0</td>\n",
              "      <td>6111.0</td>\n",
              "      <td>6111.0</td>\n",
              "    </tr>\n",
              "    <tr>\n",
              "      <th>fireplacecnt</th>\n",
              "      <td>NaN</td>\n",
              "      <td>NaN</td>\n",
              "      <td>NaN</td>\n",
              "    </tr>\n",
              "    <tr>\n",
              "      <th>garagecarcnt</th>\n",
              "      <td>2.0</td>\n",
              "      <td>6.0</td>\n",
              "      <td>6.0</td>\n",
              "    </tr>\n",
              "    <tr>\n",
              "      <th>garage_sqft</th>\n",
              "      <td>0.0</td>\n",
              "      <td>0.0</td>\n",
              "      <td>0.0</td>\n",
              "    </tr>\n",
              "    <tr>\n",
              "      <th>has_spa</th>\n",
              "      <td>NaN</td>\n",
              "      <td>NaN</td>\n",
              "      <td>NaN</td>\n",
              "    </tr>\n",
              "    <tr>\n",
              "      <th>heating</th>\n",
              "      <td>NaN</td>\n",
              "      <td>NaN</td>\n",
              "      <td>NaN</td>\n",
              "    </tr>\n",
              "    <tr>\n",
              "      <th>latitude</th>\n",
              "      <td>34437663.0</td>\n",
              "      <td>34296994.0</td>\n",
              "      <td>34296336.0</td>\n",
              "    </tr>\n",
              "    <tr>\n",
              "      <th>longitude</th>\n",
              "      <td>-119285944.0</td>\n",
              "      <td>-118718486.0</td>\n",
              "      <td>-118717577.0</td>\n",
              "    </tr>\n",
              "    <tr>\n",
              "      <th>lot_sqft</th>\n",
              "      <td>182952.0</td>\n",
              "      <td>11169.0</td>\n",
              "      <td>9429.0</td>\n",
              "    </tr>\n",
              "    <tr>\n",
              "      <th>poolcnt</th>\n",
              "      <td>NaN</td>\n",
              "      <td>NaN</td>\n",
              "      <td>NaN</td>\n",
              "    </tr>\n",
              "    <tr>\n",
              "      <th>poolsizesum</th>\n",
              "      <td>NaN</td>\n",
              "      <td>NaN</td>\n",
              "      <td>NaN</td>\n",
              "    </tr>\n",
              "    <tr>\n",
              "      <th>pool_with_spa</th>\n",
              "      <td>NaN</td>\n",
              "      <td>NaN</td>\n",
              "      <td>NaN</td>\n",
              "    </tr>\n",
              "    <tr>\n",
              "      <th>pool_without_spa</th>\n",
              "      <td>NaN</td>\n",
              "      <td>NaN</td>\n",
              "      <td>NaN</td>\n",
              "    </tr>\n",
              "    <tr>\n",
              "      <th>county_land_use_code</th>\n",
              "      <td>1421</td>\n",
              "      <td>1410</td>\n",
              "      <td>1410</td>\n",
              "    </tr>\n",
              "    <tr>\n",
              "      <th>land_use_code</th>\n",
              "      <td>248.0</td>\n",
              "      <td>248.0</td>\n",
              "      <td>248.0</td>\n",
              "    </tr>\n",
              "    <tr>\n",
              "      <th>zoning_code</th>\n",
              "      <td>NaN</td>\n",
              "      <td>NaN</td>\n",
              "      <td>NaN</td>\n",
              "    </tr>\n",
              "    <tr>\n",
              "      <th>rawcensustractandblock</th>\n",
              "      <td>61110010.0</td>\n",
              "      <td>61110085.0</td>\n",
              "      <td>61110085.0</td>\n",
              "    </tr>\n",
              "    <tr>\n",
              "      <th>city</th>\n",
              "      <td>13091.0</td>\n",
              "      <td>27110.0</td>\n",
              "      <td>27110.0</td>\n",
              "    </tr>\n",
              "    <tr>\n",
              "      <th>county</th>\n",
              "      <td>2061.0</td>\n",
              "      <td>2061.0</td>\n",
              "      <td>2061.0</td>\n",
              "    </tr>\n",
              "    <tr>\n",
              "      <th>neighborhood</th>\n",
              "      <td>NaN</td>\n",
              "      <td>NaN</td>\n",
              "      <td>NaN</td>\n",
              "    </tr>\n",
              "    <tr>\n",
              "      <th>zipcode</th>\n",
              "      <td>97099.0</td>\n",
              "      <td>97116.0</td>\n",
              "      <td>97116.0</td>\n",
              "    </tr>\n",
              "    <tr>\n",
              "      <th>roomcnt</th>\n",
              "      <td>8.0</td>\n",
              "      <td>30.0</td>\n",
              "      <td>18.0</td>\n",
              "    </tr>\n",
              "    <tr>\n",
              "      <th>storytypeid</th>\n",
              "      <td>NaN</td>\n",
              "      <td>NaN</td>\n",
              "      <td>NaN</td>\n",
              "    </tr>\n",
              "    <tr>\n",
              "      <th>material</th>\n",
              "      <td>NaN</td>\n",
              "      <td>NaN</td>\n",
              "      <td>NaN</td>\n",
              "    </tr>\n",
              "    <tr>\n",
              "      <th>unitcnt</th>\n",
              "      <td>4.0</td>\n",
              "      <td>4.0</td>\n",
              "      <td>4.0</td>\n",
              "    </tr>\n",
              "    <tr>\n",
              "      <th>patio_sqft</th>\n",
              "      <td>NaN</td>\n",
              "      <td>3120.0</td>\n",
              "      <td>884.0</td>\n",
              "    </tr>\n",
              "    <tr>\n",
              "      <th>shed_sqft</th>\n",
              "      <td>NaN</td>\n",
              "      <td>NaN</td>\n",
              "      <td>NaN</td>\n",
              "    </tr>\n",
              "    <tr>\n",
              "      <th>numberofstories</th>\n",
              "      <td>1.0</td>\n",
              "      <td>2.0</td>\n",
              "      <td>2.0</td>\n",
              "    </tr>\n",
              "    <tr>\n",
              "      <th>fireplaceflag</th>\n",
              "      <td>NaN</td>\n",
              "      <td>NaN</td>\n",
              "      <td>NaN</td>\n",
              "    </tr>\n",
              "    <tr>\n",
              "      <th>tav_built</th>\n",
              "      <td>133385.0</td>\n",
              "      <td>326965.0</td>\n",
              "      <td>282576.0</td>\n",
              "    </tr>\n",
              "    <tr>\n",
              "      <th>tax_assessed_value</th>\n",
              "      <td>178283.0</td>\n",
              "      <td>408458.0</td>\n",
              "      <td>364069.0</td>\n",
              "    </tr>\n",
              "    <tr>\n",
              "      <th>assessmentyear</th>\n",
              "      <td>2015.0</td>\n",
              "      <td>2015.0</td>\n",
              "      <td>2015.0</td>\n",
              "    </tr>\n",
              "    <tr>\n",
              "      <th>tav_land</th>\n",
              "      <td>44898.0</td>\n",
              "      <td>81493.0</td>\n",
              "      <td>81493.0</td>\n",
              "    </tr>\n",
              "    <tr>\n",
              "      <th>property_tax</th>\n",
              "      <td>2714.5</td>\n",
              "      <td>5502.0</td>\n",
              "      <td>5020.0</td>\n",
              "    </tr>\n",
              "    <tr>\n",
              "      <th>taxdelinquencyflag</th>\n",
              "      <td>NaN</td>\n",
              "      <td>NaN</td>\n",
              "      <td>NaN</td>\n",
              "    </tr>\n",
              "    <tr>\n",
              "      <th>taxdelinquencyyear</th>\n",
              "      <td>NaN</td>\n",
              "      <td>NaN</td>\n",
              "      <td>NaN</td>\n",
              "    </tr>\n",
              "    <tr>\n",
              "      <th>censustractandblock</th>\n",
              "      <td>61110010023027.0</td>\n",
              "      <td>61110085003086.0</td>\n",
              "      <td>61110085003087.0</td>\n",
              "    </tr>\n",
              "    <tr>\n",
              "      <th>age</th>\n",
              "      <td>67.0</td>\n",
              "      <td>35.0</td>\n",
              "      <td>35.0</td>\n",
              "    </tr>\n",
              "  </tbody>\n",
              "</table>\n",
              "</div>\n",
              "      <button class=\"colab-df-convert\" onclick=\"convertToInteractive('df-625681cc-9ac2-431c-8944-88bd49588122')\"\n",
              "              title=\"Convert this dataframe to an interactive table.\"\n",
              "              style=\"display:none;\">\n",
              "        \n",
              "  <svg xmlns=\"http://www.w3.org/2000/svg\" height=\"24px\"viewBox=\"0 0 24 24\"\n",
              "       width=\"24px\">\n",
              "    <path d=\"M0 0h24v24H0V0z\" fill=\"none\"/>\n",
              "    <path d=\"M18.56 5.44l.94 2.06.94-2.06 2.06-.94-2.06-.94-.94-2.06-.94 2.06-2.06.94zm-11 1L8.5 8.5l.94-2.06 2.06-.94-2.06-.94L8.5 2.5l-.94 2.06-2.06.94zm10 10l.94 2.06.94-2.06 2.06-.94-2.06-.94-.94-2.06-.94 2.06-2.06.94z\"/><path d=\"M17.41 7.96l-1.37-1.37c-.4-.4-.92-.59-1.43-.59-.52 0-1.04.2-1.43.59L10.3 9.45l-7.72 7.72c-.78.78-.78 2.05 0 2.83L4 21.41c.39.39.9.59 1.41.59.51 0 1.02-.2 1.41-.59l7.78-7.78 2.81-2.81c.8-.78.8-2.07 0-2.86zM5.41 20L4 18.59l7.72-7.72 1.47 1.35L5.41 20z\"/>\n",
              "  </svg>\n",
              "      </button>\n",
              "      \n",
              "  <style>\n",
              "    .colab-df-container {\n",
              "      display:flex;\n",
              "      flex-wrap:wrap;\n",
              "      gap: 12px;\n",
              "    }\n",
              "\n",
              "    .colab-df-convert {\n",
              "      background-color: #E8F0FE;\n",
              "      border: none;\n",
              "      border-radius: 50%;\n",
              "      cursor: pointer;\n",
              "      display: none;\n",
              "      fill: #1967D2;\n",
              "      height: 32px;\n",
              "      padding: 0 0 0 0;\n",
              "      width: 32px;\n",
              "    }\n",
              "\n",
              "    .colab-df-convert:hover {\n",
              "      background-color: #E2EBFA;\n",
              "      box-shadow: 0px 1px 2px rgba(60, 64, 67, 0.3), 0px 1px 3px 1px rgba(60, 64, 67, 0.15);\n",
              "      fill: #174EA6;\n",
              "    }\n",
              "\n",
              "    [theme=dark] .colab-df-convert {\n",
              "      background-color: #3B4455;\n",
              "      fill: #D2E3FC;\n",
              "    }\n",
              "\n",
              "    [theme=dark] .colab-df-convert:hover {\n",
              "      background-color: #434B5C;\n",
              "      box-shadow: 0px 1px 3px 1px rgba(0, 0, 0, 0.15);\n",
              "      filter: drop-shadow(0px 1px 2px rgba(0, 0, 0, 0.3));\n",
              "      fill: #FFFFFF;\n",
              "    }\n",
              "  </style>\n",
              "\n",
              "      <script>\n",
              "        const buttonEl =\n",
              "          document.querySelector('#df-625681cc-9ac2-431c-8944-88bd49588122 button.colab-df-convert');\n",
              "        buttonEl.style.display =\n",
              "          google.colab.kernel.accessAllowed ? 'block' : 'none';\n",
              "\n",
              "        async function convertToInteractive(key) {\n",
              "          const element = document.querySelector('#df-625681cc-9ac2-431c-8944-88bd49588122');\n",
              "          const dataTable =\n",
              "            await google.colab.kernel.invokeFunction('convertToInteractive',\n",
              "                                                     [key], {});\n",
              "          if (!dataTable) return;\n",
              "\n",
              "          const docLinkHtml = 'Like what you see? Visit the ' +\n",
              "            '<a target=\"_blank\" href=https://colab.research.google.com/notebooks/data_table.ipynb>data table notebook</a>'\n",
              "            + ' to learn more about interactive tables.';\n",
              "          element.innerHTML = '';\n",
              "          dataTable['output_type'] = 'display_data';\n",
              "          await google.colab.output.renderOutput(dataTable, element);\n",
              "          const docLink = document.createElement('div');\n",
              "          docLink.innerHTML = docLinkHtml;\n",
              "          element.appendChild(docLink);\n",
              "        }\n",
              "      </script>\n",
              "    </div>\n",
              "  </div>\n",
              "  "
            ]
          },
          "metadata": {},
          "execution_count": 38
        }
      ]
    },
    {
      "cell_type": "code",
      "source": [
        "# Drop living_sqft and total_sqft\n",
        "prop16.drop(columns=['living_sqft','total_sqft'], inplace=True)"
      ],
      "metadata": {
        "id": "4Ts8k5kdFFBN"
      },
      "execution_count": 39,
      "outputs": []
    },
    {
      "cell_type": "markdown",
      "source": [
        "# Look into census, tract, county and city codes"
      ],
      "metadata": {
        "id": "dKzOJWkTGHdG"
      }
    },
    {
      "cell_type": "code",
      "source": [
        "pd.set_option('display.float_format', lambda x: f'{x:.6f}')\n",
        "print(prop16[prop16['censustractandblock'].notnull()][['rawcensustractandblock','censustractandblock']].head())"
      ],
      "metadata": {
        "colab": {
          "base_uri": "https://localhost:8080/"
        },
        "id": "a8JlTj062bTs",
        "outputId": "83bc686d-5b3b-46d5-b7b6-79e7d02e4c80"
      },
      "execution_count": 40,
      "outputs": [
        {
          "output_type": "stream",
          "name": "stdout",
          "text": [
            "     rawcensustractandblock   censustractandblock\n",
            "295         61110010.011023 61110010011023.000000\n",
            "296         61110009.032019 61110009032019.000000\n",
            "297         61110010.024015 61110010024015.000000\n",
            "298         61110010.023002 61110010023002.000000\n",
            "299         61110010.024021 61110010024021.000000\n"
          ]
        }
      ]
    },
    {
      "cell_type": "code",
      "source": [
        "print('Raw Cenus Tract and Block:', prop16.iloc[295]['rawcensustractandblock'])\n",
        "print('Cenus Tract and Block:', prop16.iloc[295]['censustractandblock'])\n",
        "print('FIPS code:', prop16.iloc[295]['fips'])\n",
        "# California 6\n",
        "# Ventura County 111\n",
        "# Tract 0010.01\n",
        "# Block 10123 ?\n",
        "# https://www.ffiec.gov/census/report.aspx?year=2016&county=111&tract=0010.01&state=06&report=demographic"
      ],
      "metadata": {
        "colab": {
          "base_uri": "https://localhost:8080/"
        },
        "id": "B2OUX5vB5qNF",
        "outputId": "10b211ed-e2c4-43d6-9a93-af090e412b10"
      },
      "execution_count": 41,
      "outputs": [
        {
          "output_type": "stream",
          "name": "stdout",
          "text": [
            "Raw Cenus Tract and Block: 61110010.011023\n",
            "Cenus Tract and Block: 61110010011023.0\n",
            "FIPS code: 6111.0\n"
          ]
        }
      ]
    },
    {
      "cell_type": "code",
      "source": [
        "prop16['fips'].unique()\n",
        "# 6037 = Los Angeles\n",
        "# 6059 = Orange\n",
        "# 6111 = Ventura"
      ],
      "metadata": {
        "colab": {
          "base_uri": "https://localhost:8080/"
        },
        "id": "Cztb0jnzENaU",
        "outputId": "81c648da-4557-4a81-c777-a4022e7faf3f"
      },
      "execution_count": 42,
      "outputs": [
        {
          "output_type": "execute_result",
          "data": {
            "text/plain": [
              "array([6037., 6059., 6111.,   nan])"
            ]
          },
          "metadata": {},
          "execution_count": 42
        }
      ]
    },
    {
      "cell_type": "code",
      "source": [
        "# Check a record we know is Ventura County\n",
        "prop16.iloc[295][['fips','county','city']]"
      ],
      "metadata": {
        "colab": {
          "base_uri": "https://localhost:8080/"
        },
        "id": "ecCDFFovEw6D",
        "outputId": "27cb0619-e830-4273-c8ba-9397364da5fc"
      },
      "execution_count": 43,
      "outputs": [
        {
          "output_type": "execute_result",
          "data": {
            "text/plain": [
              "fips      6111.000000\n",
              "county    2061.000000\n",
              "city     13091.000000\n",
              "Name: 295, dtype: object"
            ]
          },
          "metadata": {},
          "execution_count": 43
        }
      ]
    },
    {
      "cell_type": "code",
      "source": [
        "# check a record we know is Orange County\n",
        "prop16.iloc[245][['fips','county','city']]"
      ],
      "metadata": {
        "colab": {
          "base_uri": "https://localhost:8080/"
        },
        "id": "8vha9roGGpCu",
        "outputId": "408026af-1df2-4996-dcf8-c9c986db5838"
      },
      "execution_count": 44,
      "outputs": [
        {
          "output_type": "execute_result",
          "data": {
            "text/plain": [
              "fips      6059.000000\n",
              "county    1286.000000\n",
              "city     24812.000000\n",
              "Name: 245, dtype: object"
            ]
          },
          "metadata": {},
          "execution_count": 44
        }
      ]
    },
    {
      "cell_type": "code",
      "source": [
        "prop16['county'].unique()\n",
        "# county 2061 = Ventura\n",
        "# county 1286 = Orange\n",
        "# county 31031 = Los Angeles"
      ],
      "metadata": {
        "colab": {
          "base_uri": "https://localhost:8080/"
        },
        "id": "5gCokx4zF78s",
        "outputId": "325b8fad-c262-4f2e-facf-0cd295c5bb46"
      },
      "execution_count": 45,
      "outputs": [
        {
          "output_type": "execute_result",
          "data": {
            "text/plain": [
              "array([3101., 1286., 2061.,   nan])"
            ]
          },
          "metadata": {},
          "execution_count": 45
        }
      ]
    },
    {
      "cell_type": "code",
      "source": [
        "print('Number of cities:', prop16['city'].nunique())\n",
        "print('Number of neighborhoods:', prop16['neighborhood'].nunique())"
      ],
      "metadata": {
        "colab": {
          "base_uri": "https://localhost:8080/"
        },
        "id": "xG-wnn-hHGGl",
        "outputId": "fe7749df-05ec-4eaf-9aea-272aae92f927"
      },
      "execution_count": 46,
      "outputs": [
        {
          "output_type": "stream",
          "name": "stdout",
          "text": [
            "Number of cities: 186\n",
            "Number of neighborhoods: 528\n"
          ]
        }
      ]
    },
    {
      "cell_type": "markdown",
      "source": [
        "# Parse Raw Census Tract and Block Info"
      ],
      "metadata": {
        "id": "W0kIP-W66671"
      }
    },
    {
      "cell_type": "code",
      "source": [
        "# Censustractandblock and rawcensustractandblock, but raw is more useful\n",
        "# I could parse rawcensustractandblock and drop censustractandblock\n",
        "prop16.drop(columns=['censustractandblock'], inplace=True)"
      ],
      "metadata": {
        "id": "xgtGVpto6cdC"
      },
      "execution_count": 47,
      "outputs": []
    },
    {
      "cell_type": "markdown",
      "source": [],
      "metadata": {
        "id": "kKn7W7j7yLI-"
      }
    },
    {
      "cell_type": "markdown",
      "source": [
        "# Examine null values\n",
        "A lot of the columns have high percentages of null values."
      ],
      "metadata": {
        "id": "YRHPYGvazjg4"
      }
    },
    {
      "cell_type": "code",
      "source": [
        "missing = pd.concat([prop16.isnull().sum(), 100 * prop16.isnull().mean()], axis=1)\n",
        "missing.columns=['null count', '% null']\n",
        "missing.sort_values(by=['null count'], ascending=False)"
      ],
      "metadata": {
        "colab": {
          "base_uri": "https://localhost:8080/",
          "height": 1000
        },
        "id": "VJ9lnTB2zLj0",
        "outputId": "8a0db3ac-e172-442e-8eee-09fc05de6ab4"
      },
      "execution_count": 48,
      "outputs": [
        {
          "output_type": "execute_result",
          "data": {
            "text/plain": [
              "                        null count    % null\n",
              "storytypeid                2983593 99.945599\n",
              "basementsqft               2983589 99.945465\n",
              "shed_sqft                  2982570 99.911330\n",
              "fireplaceflag              2980054 99.827048\n",
              "architecture               2979156 99.796966\n",
              "material                   2978470 99.773986\n",
              "perimeter_sqft             2977545 99.743000\n",
              "framing                    2972588 99.576949\n",
              "deck                       2968121 99.427311\n",
              "base_sqft                  2963216 99.263002\n",
              "poolsizesum                2957257 99.063385\n",
              "pool_with_spa              2953142 98.925539\n",
              "taxdelinquencyflag         2928755 98.108613\n",
              "taxdelinquencyyear         2928753 98.108546\n",
              "has_spa                    2916203 97.688141\n",
              "patio_sqft                 2904862 97.308236\n",
              "entry_floor_sqft           2782500 93.209304\n",
              "fireplacecnt               2672580 89.527160\n",
              "pool_without_spa           2499758 83.737899\n",
              "poolcnt                    2467683 82.663438\n",
              "numberofstories            2303148 77.151778\n",
              "aircon                     2173698 72.815410\n",
              "garagecarcnt               2101950 70.411967\n",
              "garage_sqft                2101950 70.411967\n",
              "neighborhood               1828815 61.262381\n",
              "heating                    1178816 39.488453\n",
              "quality                    1046729 35.063749\n",
              "unitcnt                    1007727 33.757244\n",
              "zoning_code                1006588 33.719090\n",
              "lot_sqft                    276099  9.248875\n",
              "tav_land                     67733  2.268947\n",
              "city                         62845  2.105207\n",
              "age                          59928  2.007492\n",
              "home_sqft                    55565  1.861339\n",
              "tav_built                    54982  1.841809\n",
              "tax_assessed_value           42550  1.425357\n",
              "property_tax                 31250  1.046825\n",
              "zipcode                      13980  0.468308\n",
              "county_land_use_code         12277  0.411260\n",
              "roomcnt                      11475  0.384394\n",
              "bathroomcnt                  11462  0.383959\n",
              "bedroomcnt                   11450  0.383557\n",
              "assessmentyear               11439  0.383188\n",
              "fips                         11437  0.383121\n",
              "latitude                     11437  0.383121\n",
              "longitude                    11437  0.383121\n",
              "land_use_code                11437  0.383121\n",
              "rawcensustractandblock       11437  0.383121\n",
              "county                       11437  0.383121\n",
              "parcelid                         0  0.000000"
            ],
            "text/html": [
              "\n",
              "  <div id=\"df-df724f8f-9096-4b39-84e2-3f8c1fbe1008\">\n",
              "    <div class=\"colab-df-container\">\n",
              "      <div>\n",
              "<style scoped>\n",
              "    .dataframe tbody tr th:only-of-type {\n",
              "        vertical-align: middle;\n",
              "    }\n",
              "\n",
              "    .dataframe tbody tr th {\n",
              "        vertical-align: top;\n",
              "    }\n",
              "\n",
              "    .dataframe thead th {\n",
              "        text-align: right;\n",
              "    }\n",
              "</style>\n",
              "<table border=\"1\" class=\"dataframe\">\n",
              "  <thead>\n",
              "    <tr style=\"text-align: right;\">\n",
              "      <th></th>\n",
              "      <th>null count</th>\n",
              "      <th>% null</th>\n",
              "    </tr>\n",
              "  </thead>\n",
              "  <tbody>\n",
              "    <tr>\n",
              "      <th>storytypeid</th>\n",
              "      <td>2983593</td>\n",
              "      <td>99.945599</td>\n",
              "    </tr>\n",
              "    <tr>\n",
              "      <th>basementsqft</th>\n",
              "      <td>2983589</td>\n",
              "      <td>99.945465</td>\n",
              "    </tr>\n",
              "    <tr>\n",
              "      <th>shed_sqft</th>\n",
              "      <td>2982570</td>\n",
              "      <td>99.911330</td>\n",
              "    </tr>\n",
              "    <tr>\n",
              "      <th>fireplaceflag</th>\n",
              "      <td>2980054</td>\n",
              "      <td>99.827048</td>\n",
              "    </tr>\n",
              "    <tr>\n",
              "      <th>architecture</th>\n",
              "      <td>2979156</td>\n",
              "      <td>99.796966</td>\n",
              "    </tr>\n",
              "    <tr>\n",
              "      <th>material</th>\n",
              "      <td>2978470</td>\n",
              "      <td>99.773986</td>\n",
              "    </tr>\n",
              "    <tr>\n",
              "      <th>perimeter_sqft</th>\n",
              "      <td>2977545</td>\n",
              "      <td>99.743000</td>\n",
              "    </tr>\n",
              "    <tr>\n",
              "      <th>framing</th>\n",
              "      <td>2972588</td>\n",
              "      <td>99.576949</td>\n",
              "    </tr>\n",
              "    <tr>\n",
              "      <th>deck</th>\n",
              "      <td>2968121</td>\n",
              "      <td>99.427311</td>\n",
              "    </tr>\n",
              "    <tr>\n",
              "      <th>base_sqft</th>\n",
              "      <td>2963216</td>\n",
              "      <td>99.263002</td>\n",
              "    </tr>\n",
              "    <tr>\n",
              "      <th>poolsizesum</th>\n",
              "      <td>2957257</td>\n",
              "      <td>99.063385</td>\n",
              "    </tr>\n",
              "    <tr>\n",
              "      <th>pool_with_spa</th>\n",
              "      <td>2953142</td>\n",
              "      <td>98.925539</td>\n",
              "    </tr>\n",
              "    <tr>\n",
              "      <th>taxdelinquencyflag</th>\n",
              "      <td>2928755</td>\n",
              "      <td>98.108613</td>\n",
              "    </tr>\n",
              "    <tr>\n",
              "      <th>taxdelinquencyyear</th>\n",
              "      <td>2928753</td>\n",
              "      <td>98.108546</td>\n",
              "    </tr>\n",
              "    <tr>\n",
              "      <th>has_spa</th>\n",
              "      <td>2916203</td>\n",
              "      <td>97.688141</td>\n",
              "    </tr>\n",
              "    <tr>\n",
              "      <th>patio_sqft</th>\n",
              "      <td>2904862</td>\n",
              "      <td>97.308236</td>\n",
              "    </tr>\n",
              "    <tr>\n",
              "      <th>entry_floor_sqft</th>\n",
              "      <td>2782500</td>\n",
              "      <td>93.209304</td>\n",
              "    </tr>\n",
              "    <tr>\n",
              "      <th>fireplacecnt</th>\n",
              "      <td>2672580</td>\n",
              "      <td>89.527160</td>\n",
              "    </tr>\n",
              "    <tr>\n",
              "      <th>pool_without_spa</th>\n",
              "      <td>2499758</td>\n",
              "      <td>83.737899</td>\n",
              "    </tr>\n",
              "    <tr>\n",
              "      <th>poolcnt</th>\n",
              "      <td>2467683</td>\n",
              "      <td>82.663438</td>\n",
              "    </tr>\n",
              "    <tr>\n",
              "      <th>numberofstories</th>\n",
              "      <td>2303148</td>\n",
              "      <td>77.151778</td>\n",
              "    </tr>\n",
              "    <tr>\n",
              "      <th>aircon</th>\n",
              "      <td>2173698</td>\n",
              "      <td>72.815410</td>\n",
              "    </tr>\n",
              "    <tr>\n",
              "      <th>garagecarcnt</th>\n",
              "      <td>2101950</td>\n",
              "      <td>70.411967</td>\n",
              "    </tr>\n",
              "    <tr>\n",
              "      <th>garage_sqft</th>\n",
              "      <td>2101950</td>\n",
              "      <td>70.411967</td>\n",
              "    </tr>\n",
              "    <tr>\n",
              "      <th>neighborhood</th>\n",
              "      <td>1828815</td>\n",
              "      <td>61.262381</td>\n",
              "    </tr>\n",
              "    <tr>\n",
              "      <th>heating</th>\n",
              "      <td>1178816</td>\n",
              "      <td>39.488453</td>\n",
              "    </tr>\n",
              "    <tr>\n",
              "      <th>quality</th>\n",
              "      <td>1046729</td>\n",
              "      <td>35.063749</td>\n",
              "    </tr>\n",
              "    <tr>\n",
              "      <th>unitcnt</th>\n",
              "      <td>1007727</td>\n",
              "      <td>33.757244</td>\n",
              "    </tr>\n",
              "    <tr>\n",
              "      <th>zoning_code</th>\n",
              "      <td>1006588</td>\n",
              "      <td>33.719090</td>\n",
              "    </tr>\n",
              "    <tr>\n",
              "      <th>lot_sqft</th>\n",
              "      <td>276099</td>\n",
              "      <td>9.248875</td>\n",
              "    </tr>\n",
              "    <tr>\n",
              "      <th>tav_land</th>\n",
              "      <td>67733</td>\n",
              "      <td>2.268947</td>\n",
              "    </tr>\n",
              "    <tr>\n",
              "      <th>city</th>\n",
              "      <td>62845</td>\n",
              "      <td>2.105207</td>\n",
              "    </tr>\n",
              "    <tr>\n",
              "      <th>age</th>\n",
              "      <td>59928</td>\n",
              "      <td>2.007492</td>\n",
              "    </tr>\n",
              "    <tr>\n",
              "      <th>home_sqft</th>\n",
              "      <td>55565</td>\n",
              "      <td>1.861339</td>\n",
              "    </tr>\n",
              "    <tr>\n",
              "      <th>tav_built</th>\n",
              "      <td>54982</td>\n",
              "      <td>1.841809</td>\n",
              "    </tr>\n",
              "    <tr>\n",
              "      <th>tax_assessed_value</th>\n",
              "      <td>42550</td>\n",
              "      <td>1.425357</td>\n",
              "    </tr>\n",
              "    <tr>\n",
              "      <th>property_tax</th>\n",
              "      <td>31250</td>\n",
              "      <td>1.046825</td>\n",
              "    </tr>\n",
              "    <tr>\n",
              "      <th>zipcode</th>\n",
              "      <td>13980</td>\n",
              "      <td>0.468308</td>\n",
              "    </tr>\n",
              "    <tr>\n",
              "      <th>county_land_use_code</th>\n",
              "      <td>12277</td>\n",
              "      <td>0.411260</td>\n",
              "    </tr>\n",
              "    <tr>\n",
              "      <th>roomcnt</th>\n",
              "      <td>11475</td>\n",
              "      <td>0.384394</td>\n",
              "    </tr>\n",
              "    <tr>\n",
              "      <th>bathroomcnt</th>\n",
              "      <td>11462</td>\n",
              "      <td>0.383959</td>\n",
              "    </tr>\n",
              "    <tr>\n",
              "      <th>bedroomcnt</th>\n",
              "      <td>11450</td>\n",
              "      <td>0.383557</td>\n",
              "    </tr>\n",
              "    <tr>\n",
              "      <th>assessmentyear</th>\n",
              "      <td>11439</td>\n",
              "      <td>0.383188</td>\n",
              "    </tr>\n",
              "    <tr>\n",
              "      <th>fips</th>\n",
              "      <td>11437</td>\n",
              "      <td>0.383121</td>\n",
              "    </tr>\n",
              "    <tr>\n",
              "      <th>latitude</th>\n",
              "      <td>11437</td>\n",
              "      <td>0.383121</td>\n",
              "    </tr>\n",
              "    <tr>\n",
              "      <th>longitude</th>\n",
              "      <td>11437</td>\n",
              "      <td>0.383121</td>\n",
              "    </tr>\n",
              "    <tr>\n",
              "      <th>land_use_code</th>\n",
              "      <td>11437</td>\n",
              "      <td>0.383121</td>\n",
              "    </tr>\n",
              "    <tr>\n",
              "      <th>rawcensustractandblock</th>\n",
              "      <td>11437</td>\n",
              "      <td>0.383121</td>\n",
              "    </tr>\n",
              "    <tr>\n",
              "      <th>county</th>\n",
              "      <td>11437</td>\n",
              "      <td>0.383121</td>\n",
              "    </tr>\n",
              "    <tr>\n",
              "      <th>parcelid</th>\n",
              "      <td>0</td>\n",
              "      <td>0.000000</td>\n",
              "    </tr>\n",
              "  </tbody>\n",
              "</table>\n",
              "</div>\n",
              "      <button class=\"colab-df-convert\" onclick=\"convertToInteractive('df-df724f8f-9096-4b39-84e2-3f8c1fbe1008')\"\n",
              "              title=\"Convert this dataframe to an interactive table.\"\n",
              "              style=\"display:none;\">\n",
              "        \n",
              "  <svg xmlns=\"http://www.w3.org/2000/svg\" height=\"24px\"viewBox=\"0 0 24 24\"\n",
              "       width=\"24px\">\n",
              "    <path d=\"M0 0h24v24H0V0z\" fill=\"none\"/>\n",
              "    <path d=\"M18.56 5.44l.94 2.06.94-2.06 2.06-.94-2.06-.94-.94-2.06-.94 2.06-2.06.94zm-11 1L8.5 8.5l.94-2.06 2.06-.94-2.06-.94L8.5 2.5l-.94 2.06-2.06.94zm10 10l.94 2.06.94-2.06 2.06-.94-2.06-.94-.94-2.06-.94 2.06-2.06.94z\"/><path d=\"M17.41 7.96l-1.37-1.37c-.4-.4-.92-.59-1.43-.59-.52 0-1.04.2-1.43.59L10.3 9.45l-7.72 7.72c-.78.78-.78 2.05 0 2.83L4 21.41c.39.39.9.59 1.41.59.51 0 1.02-.2 1.41-.59l7.78-7.78 2.81-2.81c.8-.78.8-2.07 0-2.86zM5.41 20L4 18.59l7.72-7.72 1.47 1.35L5.41 20z\"/>\n",
              "  </svg>\n",
              "      </button>\n",
              "      \n",
              "  <style>\n",
              "    .colab-df-container {\n",
              "      display:flex;\n",
              "      flex-wrap:wrap;\n",
              "      gap: 12px;\n",
              "    }\n",
              "\n",
              "    .colab-df-convert {\n",
              "      background-color: #E8F0FE;\n",
              "      border: none;\n",
              "      border-radius: 50%;\n",
              "      cursor: pointer;\n",
              "      display: none;\n",
              "      fill: #1967D2;\n",
              "      height: 32px;\n",
              "      padding: 0 0 0 0;\n",
              "      width: 32px;\n",
              "    }\n",
              "\n",
              "    .colab-df-convert:hover {\n",
              "      background-color: #E2EBFA;\n",
              "      box-shadow: 0px 1px 2px rgba(60, 64, 67, 0.3), 0px 1px 3px 1px rgba(60, 64, 67, 0.15);\n",
              "      fill: #174EA6;\n",
              "    }\n",
              "\n",
              "    [theme=dark] .colab-df-convert {\n",
              "      background-color: #3B4455;\n",
              "      fill: #D2E3FC;\n",
              "    }\n",
              "\n",
              "    [theme=dark] .colab-df-convert:hover {\n",
              "      background-color: #434B5C;\n",
              "      box-shadow: 0px 1px 3px 1px rgba(0, 0, 0, 0.15);\n",
              "      filter: drop-shadow(0px 1px 2px rgba(0, 0, 0, 0.3));\n",
              "      fill: #FFFFFF;\n",
              "    }\n",
              "  </style>\n",
              "\n",
              "      <script>\n",
              "        const buttonEl =\n",
              "          document.querySelector('#df-df724f8f-9096-4b39-84e2-3f8c1fbe1008 button.colab-df-convert');\n",
              "        buttonEl.style.display =\n",
              "          google.colab.kernel.accessAllowed ? 'block' : 'none';\n",
              "\n",
              "        async function convertToInteractive(key) {\n",
              "          const element = document.querySelector('#df-df724f8f-9096-4b39-84e2-3f8c1fbe1008');\n",
              "          const dataTable =\n",
              "            await google.colab.kernel.invokeFunction('convertToInteractive',\n",
              "                                                     [key], {});\n",
              "          if (!dataTable) return;\n",
              "\n",
              "          const docLinkHtml = 'Like what you see? Visit the ' +\n",
              "            '<a target=\"_blank\" href=https://colab.research.google.com/notebooks/data_table.ipynb>data table notebook</a>'\n",
              "            + ' to learn more about interactive tables.';\n",
              "          element.innerHTML = '';\n",
              "          dataTable['output_type'] = 'display_data';\n",
              "          await google.colab.output.renderOutput(dataTable, element);\n",
              "          const docLink = document.createElement('div');\n",
              "          docLink.innerHTML = docLinkHtml;\n",
              "          element.appendChild(docLink);\n",
              "        }\n",
              "      </script>\n",
              "    </div>\n",
              "  </div>\n",
              "  "
            ]
          },
          "metadata": {},
          "execution_count": 48
        }
      ]
    },
    {
      "cell_type": "code",
      "source": [
        "print('# of columns with <10% null:', missing[missing['% null']<10]['% null'].count())\n",
        "print('# of columns with >33% null:', missing[missing['% null']>33]['% null'].count())"
      ],
      "metadata": {
        "colab": {
          "base_uri": "https://localhost:8080/"
        },
        "id": "9BPE5gNGzUPB",
        "outputId": "50427b3c-d0ac-434c-84de-0efa4398b45a"
      },
      "execution_count": 49,
      "outputs": [
        {
          "output_type": "stream",
          "name": "stdout",
          "text": [
            "# of columns with <10% null: 21\n",
            "# of columns with >33% null: 29\n"
          ]
        }
      ]
    },
    {
      "cell_type": "code",
      "source": [
        "# There are 11,437 records that are completely null except parcelid\n",
        "# I believe most of these will drop when I merge dataframes\n",
        "prop16[prop16['latitude'].isnull()].isnull().values.sum(axis=1)"
      ],
      "metadata": {
        "colab": {
          "base_uri": "https://localhost:8080/"
        },
        "id": "r3j4lmhnLCAG",
        "outputId": "ee2bdc9b-98df-4ac9-f6c3-a84b89d8f855"
      },
      "execution_count": 50,
      "outputs": [
        {
          "output_type": "execute_result",
          "data": {
            "text/plain": [
              "array([49, 49, 49, ..., 49, 49, 49])"
            ]
          },
          "metadata": {},
          "execution_count": 50
        }
      ]
    },
    {
      "cell_type": "markdown",
      "source": [
        "# Merge properties data to transaction data"
      ],
      "metadata": {
        "id": "TgQgXg0pPVxa"
      }
    },
    {
      "cell_type": "code",
      "source": [
        "df16 = pd.merge(train16, prop16, how='left', on='parcelid')"
      ],
      "metadata": {
        "id": "DW2m2CmOPaPv"
      },
      "execution_count": 51,
      "outputs": []
    },
    {
      "cell_type": "code",
      "source": [
        "df16"
      ],
      "metadata": {
        "colab": {
          "base_uri": "https://localhost:8080/",
          "height": 488
        },
        "id": "zJYJsZPBPqWo",
        "outputId": "842223d5-b3da-441c-aefc-3c0dee3ca47c"
      },
      "execution_count": 52,
      "outputs": [
        {
          "output_type": "execute_result",
          "data": {
            "text/plain": [
              "       parcelid  logerror transaction_month  transaction_day  \\\n",
              "0      11016594  0.027600               Jan                1   \n",
              "1      14366692 -0.168400               Jan                1   \n",
              "2      12098116 -0.004000               Jan                1   \n",
              "3      12643413  0.021800               Jan                2   \n",
              "4      14432541 -0.005000               Jan                2   \n",
              "...         ...       ...               ...              ...   \n",
              "90270  10774160 -0.035600               Dec               30   \n",
              "90271  12046695  0.007000               Dec               30   \n",
              "90272  12995401 -0.267900               Dec               30   \n",
              "90273  11402105  0.060200               Dec               30   \n",
              "90274  12566293  0.420700               Dec               30   \n",
              "\n",
              "      transaction_quarter   aircon  architecture  basementsqft  bathroomcnt  \\\n",
              "0                     1st 1.000000           NaN           NaN     2.000000   \n",
              "1                     1st      NaN           NaN           NaN     3.500000   \n",
              "2                     1st 1.000000           NaN           NaN     3.000000   \n",
              "3                     1st 1.000000           NaN           NaN     2.000000   \n",
              "4                     1st      NaN           NaN           NaN     2.500000   \n",
              "...                   ...      ...           ...           ...          ...   \n",
              "90270                 4th 1.000000           NaN           NaN     1.000000   \n",
              "90271                 4th      NaN           NaN           NaN     3.000000   \n",
              "90272                 4th      NaN           NaN           NaN     2.000000   \n",
              "90273                 4th      NaN           NaN           NaN     2.000000   \n",
              "90274                 4th      NaN           NaN           NaN     1.000000   \n",
              "\n",
              "       bedroomcnt  ...  numberofstories  fireplaceflag     tav_built  \\\n",
              "0        3.000000  ...              NaN            NaN 122754.000000   \n",
              "1        4.000000  ...              NaN            NaN 346458.000000   \n",
              "2        2.000000  ...              NaN            NaN  61994.000000   \n",
              "3        2.000000  ...              NaN            NaN 171518.000000   \n",
              "4        4.000000  ...         2.000000            NaN 169574.000000   \n",
              "...           ...  ...              ...            ...           ...   \n",
              "90270    1.000000  ...              NaN            NaN  43800.000000   \n",
              "90271    3.000000  ...              NaN            NaN 117893.000000   \n",
              "90272    4.000000  ...              NaN            NaN  22008.000000   \n",
              "90273    2.000000  ...              NaN            NaN 132991.000000   \n",
              "90274    3.000000  ...              NaN            NaN  66258.000000   \n",
              "\n",
              "       tax_assessed_value  assessmentyear      tav_land  property_tax  \\\n",
              "0           360170.000000     2015.000000 237416.000000   6735.880000   \n",
              "1           585529.000000     2015.000000 239071.000000  10153.020000   \n",
              "2           119906.000000     2015.000000  57912.000000  11484.480000   \n",
              "3           244880.000000     2015.000000  73362.000000   3048.740000   \n",
              "4           434551.000000     2015.000000 264977.000000   5488.960000   \n",
              "...                   ...             ...           ...           ...   \n",
              "90270       191000.000000     2015.000000 147200.000000   2495.240000   \n",
              "90271       161111.000000     2015.000000  43218.000000   1886.540000   \n",
              "90272        38096.000000     2015.000000  16088.000000   1925.700000   \n",
              "90273       165869.000000     2015.000000  32878.000000   2285.570000   \n",
              "90274       163037.000000     2015.000000  96779.000000   2560.960000   \n",
              "\n",
              "       taxdelinquencyflag  taxdelinquencyyear       age  \n",
              "0                     NaN                 NaN 57.000000  \n",
              "1                     NaN                 NaN  2.000000  \n",
              "2                     NaN                 NaN 76.000000  \n",
              "3                     NaN                 NaN 29.000000  \n",
              "4                     NaN                 NaN 35.000000  \n",
              "...                   ...                 ...       ...  \n",
              "90270                 NaN                 NaN 37.000000  \n",
              "90271                 NaN                 NaN 51.000000  \n",
              "90272            1.000000         2014.000000 92.000000  \n",
              "90273                 NaN                 NaN 35.000000  \n",
              "90274                 NaN                 NaN 69.000000  \n",
              "\n",
              "[90275 rows x 54 columns]"
            ],
            "text/html": [
              "\n",
              "  <div id=\"df-918f8412-d73a-4e52-a9df-0a1542ce3d64\">\n",
              "    <div class=\"colab-df-container\">\n",
              "      <div>\n",
              "<style scoped>\n",
              "    .dataframe tbody tr th:only-of-type {\n",
              "        vertical-align: middle;\n",
              "    }\n",
              "\n",
              "    .dataframe tbody tr th {\n",
              "        vertical-align: top;\n",
              "    }\n",
              "\n",
              "    .dataframe thead th {\n",
              "        text-align: right;\n",
              "    }\n",
              "</style>\n",
              "<table border=\"1\" class=\"dataframe\">\n",
              "  <thead>\n",
              "    <tr style=\"text-align: right;\">\n",
              "      <th></th>\n",
              "      <th>parcelid</th>\n",
              "      <th>logerror</th>\n",
              "      <th>transaction_month</th>\n",
              "      <th>transaction_day</th>\n",
              "      <th>transaction_quarter</th>\n",
              "      <th>aircon</th>\n",
              "      <th>architecture</th>\n",
              "      <th>basementsqft</th>\n",
              "      <th>bathroomcnt</th>\n",
              "      <th>bedroomcnt</th>\n",
              "      <th>...</th>\n",
              "      <th>numberofstories</th>\n",
              "      <th>fireplaceflag</th>\n",
              "      <th>tav_built</th>\n",
              "      <th>tax_assessed_value</th>\n",
              "      <th>assessmentyear</th>\n",
              "      <th>tav_land</th>\n",
              "      <th>property_tax</th>\n",
              "      <th>taxdelinquencyflag</th>\n",
              "      <th>taxdelinquencyyear</th>\n",
              "      <th>age</th>\n",
              "    </tr>\n",
              "  </thead>\n",
              "  <tbody>\n",
              "    <tr>\n",
              "      <th>0</th>\n",
              "      <td>11016594</td>\n",
              "      <td>0.027600</td>\n",
              "      <td>Jan</td>\n",
              "      <td>1</td>\n",
              "      <td>1st</td>\n",
              "      <td>1.000000</td>\n",
              "      <td>NaN</td>\n",
              "      <td>NaN</td>\n",
              "      <td>2.000000</td>\n",
              "      <td>3.000000</td>\n",
              "      <td>...</td>\n",
              "      <td>NaN</td>\n",
              "      <td>NaN</td>\n",
              "      <td>122754.000000</td>\n",
              "      <td>360170.000000</td>\n",
              "      <td>2015.000000</td>\n",
              "      <td>237416.000000</td>\n",
              "      <td>6735.880000</td>\n",
              "      <td>NaN</td>\n",
              "      <td>NaN</td>\n",
              "      <td>57.000000</td>\n",
              "    </tr>\n",
              "    <tr>\n",
              "      <th>1</th>\n",
              "      <td>14366692</td>\n",
              "      <td>-0.168400</td>\n",
              "      <td>Jan</td>\n",
              "      <td>1</td>\n",
              "      <td>1st</td>\n",
              "      <td>NaN</td>\n",
              "      <td>NaN</td>\n",
              "      <td>NaN</td>\n",
              "      <td>3.500000</td>\n",
              "      <td>4.000000</td>\n",
              "      <td>...</td>\n",
              "      <td>NaN</td>\n",
              "      <td>NaN</td>\n",
              "      <td>346458.000000</td>\n",
              "      <td>585529.000000</td>\n",
              "      <td>2015.000000</td>\n",
              "      <td>239071.000000</td>\n",
              "      <td>10153.020000</td>\n",
              "      <td>NaN</td>\n",
              "      <td>NaN</td>\n",
              "      <td>2.000000</td>\n",
              "    </tr>\n",
              "    <tr>\n",
              "      <th>2</th>\n",
              "      <td>12098116</td>\n",
              "      <td>-0.004000</td>\n",
              "      <td>Jan</td>\n",
              "      <td>1</td>\n",
              "      <td>1st</td>\n",
              "      <td>1.000000</td>\n",
              "      <td>NaN</td>\n",
              "      <td>NaN</td>\n",
              "      <td>3.000000</td>\n",
              "      <td>2.000000</td>\n",
              "      <td>...</td>\n",
              "      <td>NaN</td>\n",
              "      <td>NaN</td>\n",
              "      <td>61994.000000</td>\n",
              "      <td>119906.000000</td>\n",
              "      <td>2015.000000</td>\n",
              "      <td>57912.000000</td>\n",
              "      <td>11484.480000</td>\n",
              "      <td>NaN</td>\n",
              "      <td>NaN</td>\n",
              "      <td>76.000000</td>\n",
              "    </tr>\n",
              "    <tr>\n",
              "      <th>3</th>\n",
              "      <td>12643413</td>\n",
              "      <td>0.021800</td>\n",
              "      <td>Jan</td>\n",
              "      <td>2</td>\n",
              "      <td>1st</td>\n",
              "      <td>1.000000</td>\n",
              "      <td>NaN</td>\n",
              "      <td>NaN</td>\n",
              "      <td>2.000000</td>\n",
              "      <td>2.000000</td>\n",
              "      <td>...</td>\n",
              "      <td>NaN</td>\n",
              "      <td>NaN</td>\n",
              "      <td>171518.000000</td>\n",
              "      <td>244880.000000</td>\n",
              "      <td>2015.000000</td>\n",
              "      <td>73362.000000</td>\n",
              "      <td>3048.740000</td>\n",
              "      <td>NaN</td>\n",
              "      <td>NaN</td>\n",
              "      <td>29.000000</td>\n",
              "    </tr>\n",
              "    <tr>\n",
              "      <th>4</th>\n",
              "      <td>14432541</td>\n",
              "      <td>-0.005000</td>\n",
              "      <td>Jan</td>\n",
              "      <td>2</td>\n",
              "      <td>1st</td>\n",
              "      <td>NaN</td>\n",
              "      <td>NaN</td>\n",
              "      <td>NaN</td>\n",
              "      <td>2.500000</td>\n",
              "      <td>4.000000</td>\n",
              "      <td>...</td>\n",
              "      <td>2.000000</td>\n",
              "      <td>NaN</td>\n",
              "      <td>169574.000000</td>\n",
              "      <td>434551.000000</td>\n",
              "      <td>2015.000000</td>\n",
              "      <td>264977.000000</td>\n",
              "      <td>5488.960000</td>\n",
              "      <td>NaN</td>\n",
              "      <td>NaN</td>\n",
              "      <td>35.000000</td>\n",
              "    </tr>\n",
              "    <tr>\n",
              "      <th>...</th>\n",
              "      <td>...</td>\n",
              "      <td>...</td>\n",
              "      <td>...</td>\n",
              "      <td>...</td>\n",
              "      <td>...</td>\n",
              "      <td>...</td>\n",
              "      <td>...</td>\n",
              "      <td>...</td>\n",
              "      <td>...</td>\n",
              "      <td>...</td>\n",
              "      <td>...</td>\n",
              "      <td>...</td>\n",
              "      <td>...</td>\n",
              "      <td>...</td>\n",
              "      <td>...</td>\n",
              "      <td>...</td>\n",
              "      <td>...</td>\n",
              "      <td>...</td>\n",
              "      <td>...</td>\n",
              "      <td>...</td>\n",
              "      <td>...</td>\n",
              "    </tr>\n",
              "    <tr>\n",
              "      <th>90270</th>\n",
              "      <td>10774160</td>\n",
              "      <td>-0.035600</td>\n",
              "      <td>Dec</td>\n",
              "      <td>30</td>\n",
              "      <td>4th</td>\n",
              "      <td>1.000000</td>\n",
              "      <td>NaN</td>\n",
              "      <td>NaN</td>\n",
              "      <td>1.000000</td>\n",
              "      <td>1.000000</td>\n",
              "      <td>...</td>\n",
              "      <td>NaN</td>\n",
              "      <td>NaN</td>\n",
              "      <td>43800.000000</td>\n",
              "      <td>191000.000000</td>\n",
              "      <td>2015.000000</td>\n",
              "      <td>147200.000000</td>\n",
              "      <td>2495.240000</td>\n",
              "      <td>NaN</td>\n",
              "      <td>NaN</td>\n",
              "      <td>37.000000</td>\n",
              "    </tr>\n",
              "    <tr>\n",
              "      <th>90271</th>\n",
              "      <td>12046695</td>\n",
              "      <td>0.007000</td>\n",
              "      <td>Dec</td>\n",
              "      <td>30</td>\n",
              "      <td>4th</td>\n",
              "      <td>NaN</td>\n",
              "      <td>NaN</td>\n",
              "      <td>NaN</td>\n",
              "      <td>3.000000</td>\n",
              "      <td>3.000000</td>\n",
              "      <td>...</td>\n",
              "      <td>NaN</td>\n",
              "      <td>NaN</td>\n",
              "      <td>117893.000000</td>\n",
              "      <td>161111.000000</td>\n",
              "      <td>2015.000000</td>\n",
              "      <td>43218.000000</td>\n",
              "      <td>1886.540000</td>\n",
              "      <td>NaN</td>\n",
              "      <td>NaN</td>\n",
              "      <td>51.000000</td>\n",
              "    </tr>\n",
              "    <tr>\n",
              "      <th>90272</th>\n",
              "      <td>12995401</td>\n",
              "      <td>-0.267900</td>\n",
              "      <td>Dec</td>\n",
              "      <td>30</td>\n",
              "      <td>4th</td>\n",
              "      <td>NaN</td>\n",
              "      <td>NaN</td>\n",
              "      <td>NaN</td>\n",
              "      <td>2.000000</td>\n",
              "      <td>4.000000</td>\n",
              "      <td>...</td>\n",
              "      <td>NaN</td>\n",
              "      <td>NaN</td>\n",
              "      <td>22008.000000</td>\n",
              "      <td>38096.000000</td>\n",
              "      <td>2015.000000</td>\n",
              "      <td>16088.000000</td>\n",
              "      <td>1925.700000</td>\n",
              "      <td>1.000000</td>\n",
              "      <td>2014.000000</td>\n",
              "      <td>92.000000</td>\n",
              "    </tr>\n",
              "    <tr>\n",
              "      <th>90273</th>\n",
              "      <td>11402105</td>\n",
              "      <td>0.060200</td>\n",
              "      <td>Dec</td>\n",
              "      <td>30</td>\n",
              "      <td>4th</td>\n",
              "      <td>NaN</td>\n",
              "      <td>NaN</td>\n",
              "      <td>NaN</td>\n",
              "      <td>2.000000</td>\n",
              "      <td>2.000000</td>\n",
              "      <td>...</td>\n",
              "      <td>NaN</td>\n",
              "      <td>NaN</td>\n",
              "      <td>132991.000000</td>\n",
              "      <td>165869.000000</td>\n",
              "      <td>2015.000000</td>\n",
              "      <td>32878.000000</td>\n",
              "      <td>2285.570000</td>\n",
              "      <td>NaN</td>\n",
              "      <td>NaN</td>\n",
              "      <td>35.000000</td>\n",
              "    </tr>\n",
              "    <tr>\n",
              "      <th>90274</th>\n",
              "      <td>12566293</td>\n",
              "      <td>0.420700</td>\n",
              "      <td>Dec</td>\n",
              "      <td>30</td>\n",
              "      <td>4th</td>\n",
              "      <td>NaN</td>\n",
              "      <td>NaN</td>\n",
              "      <td>NaN</td>\n",
              "      <td>1.000000</td>\n",
              "      <td>3.000000</td>\n",
              "      <td>...</td>\n",
              "      <td>NaN</td>\n",
              "      <td>NaN</td>\n",
              "      <td>66258.000000</td>\n",
              "      <td>163037.000000</td>\n",
              "      <td>2015.000000</td>\n",
              "      <td>96779.000000</td>\n",
              "      <td>2560.960000</td>\n",
              "      <td>NaN</td>\n",
              "      <td>NaN</td>\n",
              "      <td>69.000000</td>\n",
              "    </tr>\n",
              "  </tbody>\n",
              "</table>\n",
              "<p>90275 rows × 54 columns</p>\n",
              "</div>\n",
              "      <button class=\"colab-df-convert\" onclick=\"convertToInteractive('df-918f8412-d73a-4e52-a9df-0a1542ce3d64')\"\n",
              "              title=\"Convert this dataframe to an interactive table.\"\n",
              "              style=\"display:none;\">\n",
              "        \n",
              "  <svg xmlns=\"http://www.w3.org/2000/svg\" height=\"24px\"viewBox=\"0 0 24 24\"\n",
              "       width=\"24px\">\n",
              "    <path d=\"M0 0h24v24H0V0z\" fill=\"none\"/>\n",
              "    <path d=\"M18.56 5.44l.94 2.06.94-2.06 2.06-.94-2.06-.94-.94-2.06-.94 2.06-2.06.94zm-11 1L8.5 8.5l.94-2.06 2.06-.94-2.06-.94L8.5 2.5l-.94 2.06-2.06.94zm10 10l.94 2.06.94-2.06 2.06-.94-2.06-.94-.94-2.06-.94 2.06-2.06.94z\"/><path d=\"M17.41 7.96l-1.37-1.37c-.4-.4-.92-.59-1.43-.59-.52 0-1.04.2-1.43.59L10.3 9.45l-7.72 7.72c-.78.78-.78 2.05 0 2.83L4 21.41c.39.39.9.59 1.41.59.51 0 1.02-.2 1.41-.59l7.78-7.78 2.81-2.81c.8-.78.8-2.07 0-2.86zM5.41 20L4 18.59l7.72-7.72 1.47 1.35L5.41 20z\"/>\n",
              "  </svg>\n",
              "      </button>\n",
              "      \n",
              "  <style>\n",
              "    .colab-df-container {\n",
              "      display:flex;\n",
              "      flex-wrap:wrap;\n",
              "      gap: 12px;\n",
              "    }\n",
              "\n",
              "    .colab-df-convert {\n",
              "      background-color: #E8F0FE;\n",
              "      border: none;\n",
              "      border-radius: 50%;\n",
              "      cursor: pointer;\n",
              "      display: none;\n",
              "      fill: #1967D2;\n",
              "      height: 32px;\n",
              "      padding: 0 0 0 0;\n",
              "      width: 32px;\n",
              "    }\n",
              "\n",
              "    .colab-df-convert:hover {\n",
              "      background-color: #E2EBFA;\n",
              "      box-shadow: 0px 1px 2px rgba(60, 64, 67, 0.3), 0px 1px 3px 1px rgba(60, 64, 67, 0.15);\n",
              "      fill: #174EA6;\n",
              "    }\n",
              "\n",
              "    [theme=dark] .colab-df-convert {\n",
              "      background-color: #3B4455;\n",
              "      fill: #D2E3FC;\n",
              "    }\n",
              "\n",
              "    [theme=dark] .colab-df-convert:hover {\n",
              "      background-color: #434B5C;\n",
              "      box-shadow: 0px 1px 3px 1px rgba(0, 0, 0, 0.15);\n",
              "      filter: drop-shadow(0px 1px 2px rgba(0, 0, 0, 0.3));\n",
              "      fill: #FFFFFF;\n",
              "    }\n",
              "  </style>\n",
              "\n",
              "      <script>\n",
              "        const buttonEl =\n",
              "          document.querySelector('#df-918f8412-d73a-4e52-a9df-0a1542ce3d64 button.colab-df-convert');\n",
              "        buttonEl.style.display =\n",
              "          google.colab.kernel.accessAllowed ? 'block' : 'none';\n",
              "\n",
              "        async function convertToInteractive(key) {\n",
              "          const element = document.querySelector('#df-918f8412-d73a-4e52-a9df-0a1542ce3d64');\n",
              "          const dataTable =\n",
              "            await google.colab.kernel.invokeFunction('convertToInteractive',\n",
              "                                                     [key], {});\n",
              "          if (!dataTable) return;\n",
              "\n",
              "          const docLinkHtml = 'Like what you see? Visit the ' +\n",
              "            '<a target=\"_blank\" href=https://colab.research.google.com/notebooks/data_table.ipynb>data table notebook</a>'\n",
              "            + ' to learn more about interactive tables.';\n",
              "          element.innerHTML = '';\n",
              "          dataTable['output_type'] = 'display_data';\n",
              "          await google.colab.output.renderOutput(dataTable, element);\n",
              "          const docLink = document.createElement('div');\n",
              "          docLink.innerHTML = docLinkHtml;\n",
              "          element.appendChild(docLink);\n",
              "        }\n",
              "      </script>\n",
              "    </div>\n",
              "  </div>\n",
              "  "
            ]
          },
          "metadata": {},
          "execution_count": 52
        }
      ]
    },
    {
      "cell_type": "markdown",
      "source": [
        "# Label categorical data"
      ],
      "metadata": {
        "id": "k717g4IxRUop"
      }
    },
    {
      "cell_type": "code",
      "source": [
        "# Create function to replace codes with strings and make NaNs 'not given'\n",
        "def codes_to_strings(column, key, value):\n",
        "  df_temp = pd.read_excel('zillow_data_dictionary.xlsx', sheet_name = key)\n",
        "  temp_dict = dict(zip(df_temp[key], df_temp[value]))\n",
        "  df16[column].replace(temp_dict, inplace=True)\n",
        "  df16[column].fillna('not given', inplace=True)"
      ],
      "metadata": {
        "id": "w8g78tyjY278"
      },
      "execution_count": 53,
      "outputs": []
    },
    {
      "cell_type": "code",
      "source": [
        "# upload zillow_data_dictionary.csv\n",
        "!kaggle competitions download -c zillow-prize-1 -f zillow_data_dictionary.xlsx"
      ],
      "metadata": {
        "colab": {
          "base_uri": "https://localhost:8080/"
        },
        "id": "kqduSCUxTi2X",
        "outputId": "3411d417-7ad2-4ccb-a3e7-309a7cae1094"
      },
      "execution_count": 54,
      "outputs": [
        {
          "output_type": "stream",
          "name": "stdout",
          "text": [
            "zillow_data_dictionary.xlsx: Skipping, found more recently modified local copy (use --force to force download)\n"
          ]
        }
      ]
    },
    {
      "cell_type": "code",
      "source": [
        "# Replace 'aircon' numbers with appropriate strings\n",
        "codes_to_strings('aircon','AirConditioningTypeID', 'AirConditioningDesc')"
      ],
      "metadata": {
        "id": "lXYPBRztWT6v"
      },
      "execution_count": 55,
      "outputs": []
    },
    {
      "cell_type": "code",
      "source": [
        "# Replace architecture codes with strings\n",
        "codes_to_strings('architecture', 'ArchitecturalStyleTypeID', 'ArchitecturalStyleDesc')"
      ],
      "metadata": {
        "id": "HHv3wlV-Syca"
      },
      "execution_count": 56,
      "outputs": []
    },
    {
      "cell_type": "code",
      "source": [
        "# Replace framing codes with strings\n",
        "codes_to_strings('framing', 'BuildingClassTypeID', 'BuildingClassDesc')"
      ],
      "metadata": {
        "id": "cs9gkvMHYJT8"
      },
      "execution_count": 57,
      "outputs": []
    },
    {
      "cell_type": "code",
      "source": [
        "# 'quality' values are ordinal (1-12, 12 is worst)\n",
        "# So I will not replace them with strings"
      ],
      "metadata": {
        "id": "XCc-l3n4aEdW"
      },
      "execution_count": 58,
      "outputs": []
    },
    {
      "cell_type": "code",
      "source": [
        "# Deck only has '66' or NaN\n",
        "df16.deck.fillna('not given', inplace=True)"
      ],
      "metadata": {
        "id": "NhbguSBaaU2_"
      },
      "execution_count": 59,
      "outputs": []
    },
    {
      "cell_type": "code",
      "source": [
        "# Replace heating codes with strings\n",
        "codes_to_strings('heating', 'HeatingOrSystemTypeID', 'HeatingOrSystemDesc')"
      ],
      "metadata": {
        "id": "_9AzAt00Z16o"
      },
      "execution_count": 60,
      "outputs": []
    },
    {
      "cell_type": "code",
      "source": [
        "# Replace land use codes with strings\n",
        "codes_to_strings('land_use_code', 'PropertyLandUseTypeID', 'PropertyLandUseDesc')"
      ],
      "metadata": {
        "id": "IG5lKEIXdFDF"
      },
      "execution_count": 61,
      "outputs": []
    },
    {
      "cell_type": "code",
      "source": [
        "# Replace county codes with county names\n",
        "county_dict = {3101: 'Los Angeles',\n",
        "               1286: 'Orange',\n",
        "               2061: 'Ventura'}\n",
        "df16.county.replace(county_dict, inplace=True)\n",
        "df16.county.value_counts()"
      ],
      "metadata": {
        "colab": {
          "base_uri": "https://localhost:8080/"
        },
        "id": "1nu_367yjeqw",
        "outputId": "c6267856-ef80-453e-e737-5fbc750c10ac"
      },
      "execution_count": 62,
      "outputs": [
        {
          "output_type": "execute_result",
          "data": {
            "text/plain": [
              "Los Angeles    58574\n",
              "Orange         24505\n",
              "Ventura         7196\n",
              "Name: county, dtype: int64"
            ]
          },
          "metadata": {},
          "execution_count": 62
        }
      ]
    },
    {
      "cell_type": "code",
      "source": [
        "# Replace storytypeid codes with strings\n",
        "codes_to_strings('storytypeid','StoryTypeID', 'StoryDesc')\n",
        "df16.storytypeid.value_counts()"
      ],
      "metadata": {
        "colab": {
          "base_uri": "https://localhost:8080/"
        },
        "id": "IbZiU-q7o0vT",
        "outputId": "edc2e31f-9e81-4801-834d-40a3e0201000"
      },
      "execution_count": 63,
      "outputs": [
        {
          "output_type": "execute_result",
          "data": {
            "text/plain": [
              "not given    90232\n",
              "Basement        43\n",
              "Name: storytypeid, dtype: int64"
            ]
          },
          "metadata": {},
          "execution_count": 63
        }
      ]
    },
    {
      "cell_type": "code",
      "source": [
        "# Replace material codes with strings\n",
        "codes_to_strings('material', 'TypeConstructionTypeID', 'TypeConstructionDesc')\n",
        "df16.material.value_counts()"
      ],
      "metadata": {
        "colab": {
          "base_uri": "https://localhost:8080/"
        },
        "id": "IWnT72JnpmUh",
        "outputId": "30f09f1a-96e7-463e-96b2-6931a2443dbd"
      },
      "execution_count": 64,
      "outputs": [
        {
          "output_type": "execute_result",
          "data": {
            "text/plain": [
              "not given    89976\n",
              "Frame          296\n",
              "Concrete         2\n",
              "Masonry          1\n",
              "Name: material, dtype: int64"
            ]
          },
          "metadata": {},
          "execution_count": 64
        }
      ]
    },
    {
      "cell_type": "markdown",
      "source": [
        "# Some geographic codes may be hard to one-hot-encode"
      ],
      "metadata": {
        "id": "OC7Z0Xa_u_vB"
      }
    },
    {
      "cell_type": "code",
      "source": [
        "# Replace 'county_land_use_code' with strings?\n",
        "print('There are', df16['county_land_use_code'].nunique(), 'County Land Use codes')\n",
        "print('There was', df16['county_land_use_code'].isna().sum(), 'NaN')\n",
        "print(df16['county_land_use_code'].unique())\n",
        "\n",
        "# Fill the one NaN with the mode\n",
        "df16['county_land_use_code'].fillna(df16['county_land_use_code'].mode()[0], inplace=True)"
      ],
      "metadata": {
        "colab": {
          "base_uri": "https://localhost:8080/"
        },
        "id": "7zwqosDBfIia",
        "outputId": "08dc7e7e-8d80-47cf-e6c5-259b2903d88f"
      },
      "execution_count": 65,
      "outputs": [
        {
          "output_type": "stream",
          "name": "stdout",
          "text": [
            "There are 77 County Land Use codes\n",
            "There was 1 NaN\n",
            "['0100' '1' '010C' '122' '1129' '34' '1128' '010E' '0104' '0101' '0200'\n",
            " '0700' '1111' '01DC' '010D' '1110' '0400' '012C' '010V' '1116' '01HC'\n",
            " '010G' '0300' '010F' '1117' '0103' '38' '1210' '0111' '010M' '96' '135'\n",
            " '0108' '1014' '1112' '0201' '0109' '1310' '010H' '1410' '1222' '1321'\n",
            " '1720' '1011' '1432' '0401' '0102' '012D' '73' '105' '0110' '100V' '0130'\n",
            " '8800' '0303' '0210' '1012' '1333' '0114' '01DD' '020G' '040A' '012E'\n",
            " '020M' '040V' '070D' '1200' '030G' '1722' '6050' '1421' '010' nan '200'\n",
            " '0' '1420' '0131' '0301']\n"
          ]
        }
      ]
    },
    {
      "cell_type": "code",
      "source": [
        "# Zoning Code\n",
        "print('There are', df16['zoning_code'].nunique(), 'zoning codes')\n",
        "print((df16['zoning_code'].value_counts()>10).sum(), 'of them have more than 10 instances')\n",
        "print((df16['zoning_code'].value_counts()>20).sum(), 'of them have more than 20 instances')\n",
        "print((df16['zoning_code'].value_counts()>30).sum(), 'of them have more than 30 instances')\n",
        "print((df16['zoning_code'].value_counts()>40).sum(), 'of them have more than 40 instances')\n",
        "print((df16['zoning_code'].value_counts()>50).sum(), 'of them have more than 50 instances')\n",
        "print('There were', df16['zoning_code'].isna().sum(), 'NaN')\n",
        "print(df16['zoning_code'].unique())\n",
        "# I'm not sure how to prep this column for one-hot-encoding with so many values"
      ],
      "metadata": {
        "colab": {
          "base_uri": "https://localhost:8080/"
        },
        "id": "kHOAUANNg8c9",
        "outputId": "52759e68-a82c-4c8f-e328-bc81999fb59e"
      },
      "execution_count": 66,
      "outputs": [
        {
          "output_type": "stream",
          "name": "stdout",
          "text": [
            "There are 1996 zoning codes\n",
            "596 of them have more than 10 instances\n",
            "386 of them have more than 20 instances\n",
            "296 of them have more than 30 instances\n",
            "237 of them have more than 40 instances\n",
            "189 of them have more than 50 instances\n",
            "There were 31962 NaN\n",
            "['LARS' nan 'PSR6' ... 'SHCG' 'COR2YY' 'LNR2RPD-R3']\n"
          ]
        }
      ]
    },
    {
      "cell_type": "code",
      "source": [
        "# Fill NaN for Zoning Code as 'not given'\n",
        "df16['zoning_code'].fillna('not given', inplace = True)"
      ],
      "metadata": {
        "id": "zZbAJRYGWVuf"
      },
      "execution_count": 67,
      "outputs": []
    },
    {
      "cell_type": "code",
      "source": [
        "# Identify rows with zoning codes that show up 50 or fewer times\n",
        "low_zones = df16.groupby(\"zoning_code\").filter(lambda x: len(x) <= 50)['zoning_code']\n",
        "\n",
        "# Replace those zoning codes with 'other'\n",
        "df16.loc[df16['zoning_code'].isin(list(low_zones)),'zoning_code']='other'"
      ],
      "metadata": {
        "id": "ns-Zyh0zWi20"
      },
      "execution_count": 68,
      "outputs": []
    },
    {
      "cell_type": "code",
      "source": [
        "# City\n",
        "print('There are', df16['city'].nunique(), 'city codes')\n",
        "print((df16.city.value_counts()>10).sum(), 'of them have more than 10 instances')\n",
        "print('There are', df16['city'].isna().sum(), 'NaN')\n",
        "print(df16['city'].unique())\n",
        "# These codes seem to refer to specific cities, but I can't find a resource with that information\n",
        "# 177 cities is not too many to one-hot encode\n",
        "\n",
        "# Fill the NaNs with 'not given'\n",
        "df16['city'].fillna('not given', inplace=True)"
      ],
      "metadata": {
        "colab": {
          "base_uri": "https://localhost:8080/"
        },
        "id": "9kSjjOJGinkq",
        "outputId": "5b99d70f-3a75-42ab-ff05-e0b0aa5c962e"
      },
      "execution_count": 69,
      "outputs": [
        {
          "output_type": "stream",
          "name": "stdout",
          "text": [
            "There are 177 city codes\n",
            "168 of them have more than 10 instances\n",
            "There are 1803 NaN\n",
            "[ 12447.  32380.  47019.  17686.  29712.  24174.  13150.  25459.  46098.\n",
            " 396054.  52650.  17150.  25218.  53655.  46298.  34780.  47568.  24832.\n",
            "   5465.  40227.  54311.  10389.  21412.   6395.  33252.  25458.  24384.\n",
            "  20008.  33836.   8384.  24812.  53571.  51617.  45888.  45457.  15554.\n",
            "  24245.  16764.  27110.  40081.  41673.  34278.  12773.  16389.  42150.\n",
            "  54970.     nan  52842.  34543.  15237.  53636.  37688.  13693.   5534.\n",
            "  54722.  50749.  51239.  27491. 118225.  27103.  13091.  33837.  50677.\n",
            "  10608.  10723.  48424.  47762.   6021.   9840.  18874.  38032.  44833.\n",
            "  24435.  12292.  10774.  37015. 396556.  45602.  33311.  33612.  44116.\n",
            "  10241.  25974.  21778.  14634.  11626.  40009.  14542.  30187.  32923.\n",
            "  26483.  26531.  14906.  14111.  26964.  18875.  30908.  13716.  39306.\n",
            " 118914.  38980.  25621.  51861. 118878.  34636.   4406.  17882.  30399.\n",
            "  46314.  29189.  12520.  19177.  54053.  37086.  54299. 396053.  52835.\n",
            "  53027.  39308.  47547. 116042. 118694.  32616.  42967.  16677. 118994.\n",
            "  22827.  33840. 396550. 113576.  34037. 118875.  45398. 118217.  54212.\n",
            " 114828. 396551.  40110.  46178.  47695.  27183.  55753.  25953.  10734.\n",
            " 118895.  46080. 272578.  47198.  17597.  13232.   3491.  39076.  33727.\n",
            "  30267.  32753.  56780.  54352.  42091. 114834.  26965.  32927.  25468.\n",
            "  16961. 113412.  36502.  18098.  13311.  33312.  25271.   6822.  10815.\n",
            "  53162.  31134. 118880.  37882.  24797.  21395.   6285.]\n"
          ]
        }
      ]
    },
    {
      "cell_type": "code",
      "source": [
        "# Neighborhood\n",
        "print('There are', df16['neighborhood'].nunique(), 'neighborhood codes')\n",
        "print((df16.neighborhood.value_counts()>10).sum(), 'of them have more than 10 instances')\n",
        "print((df16.neighborhood.value_counts()>20).sum(), 'of them have more than 20 instances')\n",
        "print((df16.neighborhood.value_counts()>30).sum(), 'of them have more than 30 instances')\n",
        "print('There are', df16['neighborhood'].isna().sum(), 'NaN')\n",
        "print(df16['neighborhood'].value_counts())\n",
        "\n",
        "# Fill NaNs with 'not given'\n",
        "df16['neighborhood'].fillna('not given', inplace=True)"
      ],
      "metadata": {
        "colab": {
          "base_uri": "https://localhost:8080/"
        },
        "id": "wOEsL0YJmdj_",
        "outputId": "3eec36b9-b49f-4f1d-b790-d7968f716d11"
      },
      "execution_count": 70,
      "outputs": [
        {
          "output_type": "stream",
          "name": "stdout",
          "text": [
            "There are 494 neighborhood codes\n",
            "318 of them have more than 10 instances\n",
            "234 of them have more than 20 instances\n",
            "191 of them have more than 30 instances\n",
            "There are 54263 NaN\n",
            "118208.000000    773\n",
            "27080.000000     755\n",
            "48570.000000     753\n",
            "37739.000000     715\n",
            "48200.000000     653\n",
            "                ... \n",
            "764138.000000      1\n",
            "220669.000000      1\n",
            "272170.000000      1\n",
            "276299.000000      1\n",
            "762937.000000      1\n",
            "Name: neighborhood, Length: 494, dtype: int64\n"
          ]
        }
      ]
    },
    {
      "cell_type": "code",
      "source": [
        "# Identify rows with neighborhood codes that show up 30 or fewer times\n",
        "low_neighborhoods = df16.groupby(\"neighborhood\").filter(lambda x: len(x) <= 30)['neighborhood']\n",
        "\n",
        "# Replace those neighborhood codes with 'other'\n",
        "df16.loc[df16['neighborhood'].isin(list(low_neighborhoods)),'neighborhood']='other'"
      ],
      "metadata": {
        "id": "ZcsVlvOEcPan"
      },
      "execution_count": 71,
      "outputs": []
    },
    {
      "cell_type": "code",
      "source": [
        "# The neighboorhood codes don't seem to come from the census data\n",
        "df16[df16.neighborhood==118208]['rawcensustractandblock']\n",
        "df16.iloc[44][['neighborhood','rawcensustractandblock']]"
      ],
      "metadata": {
        "colab": {
          "base_uri": "https://localhost:8080/"
        },
        "id": "huiw2gvmnD0z",
        "outputId": "364f58f8-c93e-4860-9628-8654cf4238cc"
      },
      "execution_count": 72,
      "outputs": [
        {
          "output_type": "execute_result",
          "data": {
            "text/plain": [
              "neighborhood               118208.000000\n",
              "rawcensustractandblock   60372315.003003\n",
              "Name: 44, dtype: object"
            ]
          },
          "metadata": {},
          "execution_count": 72
        }
      ]
    },
    {
      "cell_type": "code",
      "source": [
        "# But they do seem to match to something specific\n",
        "df16[df16.neighborhood==118208]['city']"
      ],
      "metadata": {
        "colab": {
          "base_uri": "https://localhost:8080/"
        },
        "id": "sohWf2W7n6Px",
        "outputId": "a21c848d-ca95-4a1d-94a3-77861b81c9b3"
      },
      "execution_count": 73,
      "outputs": [
        {
          "output_type": "execute_result",
          "data": {
            "text/plain": [
              "44      12447.000000\n",
              "88      12447.000000\n",
              "91      12447.000000\n",
              "385     12447.000000\n",
              "417     12447.000000\n",
              "            ...     \n",
              "90045   12447.000000\n",
              "90049   12447.000000\n",
              "90143   12447.000000\n",
              "90175   12447.000000\n",
              "90261   12447.000000\n",
              "Name: city, Length: 773, dtype: object"
            ]
          },
          "metadata": {},
          "execution_count": 73
        }
      ]
    },
    {
      "cell_type": "code",
      "source": [
        "# Zipcode\n",
        "df16.zipcode.value_counts()\n",
        "print('There are', df16.zipcode.nunique(), 'zip codes')\n",
        "print((df16.zipcode.value_counts()>10).sum(), 'of them have more than 10 instances')\n",
        "print((df16.zipcode.value_counts()>50).sum(), 'of them have more than 50 instances')\n",
        "print((df16.zipcode.value_counts()>100).sum(), 'of them have more than 100 instances')\n",
        "print((df16.zipcode.value_counts()>200).sum(), 'of them have more than 200 instances')\n",
        "print('There are', df16['zipcode'].isna().sum(), 'NaN')\n",
        "print(df16['zipcode'].value_counts())\n",
        "\n",
        "# Fill NaN with 'not given'\n",
        "df16['zipcode'].fillna('not given', inplace=True)"
      ],
      "metadata": {
        "colab": {
          "base_uri": "https://localhost:8080/"
        },
        "id": "vCCzixYDoSYN",
        "outputId": "7880ffec-eb4a-4805-880f-ff64e7826738"
      },
      "execution_count": 74,
      "outputs": [
        {
          "output_type": "stream",
          "name": "stdout",
          "text": [
            "There are 388 zip codes\n",
            "379 of them have more than 10 instances\n",
            "350 of them have more than 50 instances\n",
            "317 of them have more than 100 instances\n",
            "203 of them have more than 200 instances\n",
            "There are 35 NaN\n",
            "97319.000000    912\n",
            "96987.000000    902\n",
            "96974.000000    824\n",
            "97329.000000    760\n",
            "97318.000000    726\n",
            "               ... \n",
            "96500.000000      2\n",
            "96467.000000      1\n",
            "96034.000000      1\n",
            "97111.000000      1\n",
            "96226.000000      1\n",
            "Name: zipcode, Length: 388, dtype: int64\n"
          ]
        }
      ]
    },
    {
      "cell_type": "code",
      "source": [
        "# Identify rows with zip codes that show up 200 or fewer times\n",
        "low_zips = df16.groupby('zipcode').filter(lambda x: len(x) <= 200)['zipcode']\n",
        "\n",
        "# Replace those zip codes with 'other'\n",
        "df16.loc[df16['zipcode'].isin(list(low_zips)),'zipcode']='other'"
      ],
      "metadata": {
        "id": "kODuVuVMfyN6"
      },
      "execution_count": 75,
      "outputs": []
    },
    {
      "cell_type": "code",
      "source": [
        "df16.zipcode.nunique()"
      ],
      "metadata": {
        "colab": {
          "base_uri": "https://localhost:8080/"
        },
        "id": "bCqBzfwjdAf0",
        "outputId": "8aea83cc-11f3-4243-9afb-787a3f91e271"
      },
      "execution_count": 76,
      "outputs": [
        {
          "output_type": "execute_result",
          "data": {
            "text/plain": [
              "204"
            ]
          },
          "metadata": {},
          "execution_count": 76
        }
      ]
    },
    {
      "cell_type": "markdown",
      "source": [
        "# Fill NaNs of Boolean Data with 'not given'"
      ],
      "metadata": {
        "id": "1pXQ-WiZu60E"
      }
    },
    {
      "cell_type": "code",
      "source": [
        "# Fill Nan for has_spa\n",
        "df16['has_spa'].fillna('not given', inplace=True)"
      ],
      "metadata": {
        "id": "whGi-53obeRA"
      },
      "execution_count": 77,
      "outputs": []
    },
    {
      "cell_type": "code",
      "source": [
        "# fill Nan for pool_with_spa, pool_without_spa\n",
        "df16['pool_with_spa'].fillna('not given', inplace=True)\n",
        "df16['pool_without_spa'].fillna('not given', inplace=True)"
      ],
      "metadata": {
        "id": "P_5pWnU9csIO"
      },
      "execution_count": 78,
      "outputs": []
    },
    {
      "cell_type": "code",
      "source": [
        "# Fill fireplaceflag NaNs\n",
        "df16['fireplaceflag'].fillna('not given', inplace=True)\n",
        "df16.fireplaceflag.value_counts()"
      ],
      "metadata": {
        "colab": {
          "base_uri": "https://localhost:8080/"
        },
        "id": "weDfxlY_rSGN",
        "outputId": "70f6bfa3-be78-4519-ee0c-6c94fb9b8381"
      },
      "execution_count": 79,
      "outputs": [
        {
          "output_type": "execute_result",
          "data": {
            "text/plain": [
              "not given    90053\n",
              "1.0            222\n",
              "Name: fireplaceflag, dtype: int64"
            ]
          },
          "metadata": {},
          "execution_count": 79
        }
      ]
    },
    {
      "cell_type": "markdown",
      "source": [
        "# Work on null values"
      ],
      "metadata": {
        "id": "GNNnmIgPvq47"
      }
    },
    {
      "cell_type": "code",
      "source": [
        "pd.set_option('display.max_rows', 70)\n",
        "missing = pd.concat([df16.isnull().sum(), 100 * df16.isnull().mean()], axis=1)\n",
        "missing.columns=['null count', '% null']\n",
        "missing.sort_values(by=['null count'], ascending=False)"
      ],
      "metadata": {
        "colab": {
          "base_uri": "https://localhost:8080/",
          "height": 1000
        },
        "id": "xg2y4LM_vuqZ",
        "outputId": "4e29f792-0e5d-479e-c30b-7396daf681d6"
      },
      "execution_count": 80,
      "outputs": [
        {
          "output_type": "execute_result",
          "data": {
            "text/plain": [
              "                        null count    % null\n",
              "perimeter_sqft               90242 99.963445\n",
              "basementsqft                 90232 99.952368\n",
              "shed_sqft                    90180 99.894766\n",
              "base_sqft                    89854 99.533647\n",
              "poolsizesum                  89306 98.926613\n",
              "taxdelinquencyflag           88492 98.024924\n",
              "taxdelinquencyyear           88492 98.024924\n",
              "patio_sqft                   87629 97.068956\n",
              "entry_floor_sqft             83419 92.405428\n",
              "fireplacecnt                 80668 89.358073\n",
              "poolcnt                      72374 80.170590\n",
              "numberofstories              69705 77.214068\n",
              "garage_sqft                  60338 66.837995\n",
              "garagecarcnt                 60338 66.837995\n",
              "quality                      32911 36.456383\n",
              "unitcnt                      31922 35.360842\n",
              "lot_sqft                     10150 11.243423\n",
              "age                            756  0.837441\n",
              "home_sqft                      661  0.732207\n",
              "tav_built                      380  0.420936\n",
              "property_tax                     6  0.006646\n",
              "tav_land                         1  0.001108\n",
              "tax_assessed_value               1  0.001108\n",
              "fips                             0  0.000000\n",
              "architecture                     0  0.000000\n",
              "roomcnt                          0  0.000000\n",
              "storytypeid                      0  0.000000\n",
              "material                         0  0.000000\n",
              "bathroomcnt                      0  0.000000\n",
              "fireplaceflag                    0  0.000000\n",
              "aircon                           0  0.000000\n",
              "transaction_quarter              0  0.000000\n",
              "assessmentyear                   0  0.000000\n",
              "transaction_day                  0  0.000000\n",
              "transaction_month                0  0.000000\n",
              "zipcode                          0  0.000000\n",
              "neighborhood                     0  0.000000\n",
              "county                           0  0.000000\n",
              "bedroomcnt                       0  0.000000\n",
              "deck                             0  0.000000\n",
              "has_spa                          0  0.000000\n",
              "heating                          0  0.000000\n",
              "latitude                         0  0.000000\n",
              "longitude                        0  0.000000\n",
              "framing                          0  0.000000\n",
              "logerror                         0  0.000000\n",
              "city                             0  0.000000\n",
              "pool_with_spa                    0  0.000000\n",
              "pool_without_spa                 0  0.000000\n",
              "county_land_use_code             0  0.000000\n",
              "land_use_code                    0  0.000000\n",
              "zoning_code                      0  0.000000\n",
              "rawcensustractandblock           0  0.000000\n",
              "parcelid                         0  0.000000"
            ],
            "text/html": [
              "\n",
              "  <div id=\"df-02ea8ce8-187b-4111-9e90-9a806743b1ac\">\n",
              "    <div class=\"colab-df-container\">\n",
              "      <div>\n",
              "<style scoped>\n",
              "    .dataframe tbody tr th:only-of-type {\n",
              "        vertical-align: middle;\n",
              "    }\n",
              "\n",
              "    .dataframe tbody tr th {\n",
              "        vertical-align: top;\n",
              "    }\n",
              "\n",
              "    .dataframe thead th {\n",
              "        text-align: right;\n",
              "    }\n",
              "</style>\n",
              "<table border=\"1\" class=\"dataframe\">\n",
              "  <thead>\n",
              "    <tr style=\"text-align: right;\">\n",
              "      <th></th>\n",
              "      <th>null count</th>\n",
              "      <th>% null</th>\n",
              "    </tr>\n",
              "  </thead>\n",
              "  <tbody>\n",
              "    <tr>\n",
              "      <th>perimeter_sqft</th>\n",
              "      <td>90242</td>\n",
              "      <td>99.963445</td>\n",
              "    </tr>\n",
              "    <tr>\n",
              "      <th>basementsqft</th>\n",
              "      <td>90232</td>\n",
              "      <td>99.952368</td>\n",
              "    </tr>\n",
              "    <tr>\n",
              "      <th>shed_sqft</th>\n",
              "      <td>90180</td>\n",
              "      <td>99.894766</td>\n",
              "    </tr>\n",
              "    <tr>\n",
              "      <th>base_sqft</th>\n",
              "      <td>89854</td>\n",
              "      <td>99.533647</td>\n",
              "    </tr>\n",
              "    <tr>\n",
              "      <th>poolsizesum</th>\n",
              "      <td>89306</td>\n",
              "      <td>98.926613</td>\n",
              "    </tr>\n",
              "    <tr>\n",
              "      <th>taxdelinquencyflag</th>\n",
              "      <td>88492</td>\n",
              "      <td>98.024924</td>\n",
              "    </tr>\n",
              "    <tr>\n",
              "      <th>taxdelinquencyyear</th>\n",
              "      <td>88492</td>\n",
              "      <td>98.024924</td>\n",
              "    </tr>\n",
              "    <tr>\n",
              "      <th>patio_sqft</th>\n",
              "      <td>87629</td>\n",
              "      <td>97.068956</td>\n",
              "    </tr>\n",
              "    <tr>\n",
              "      <th>entry_floor_sqft</th>\n",
              "      <td>83419</td>\n",
              "      <td>92.405428</td>\n",
              "    </tr>\n",
              "    <tr>\n",
              "      <th>fireplacecnt</th>\n",
              "      <td>80668</td>\n",
              "      <td>89.358073</td>\n",
              "    </tr>\n",
              "    <tr>\n",
              "      <th>poolcnt</th>\n",
              "      <td>72374</td>\n",
              "      <td>80.170590</td>\n",
              "    </tr>\n",
              "    <tr>\n",
              "      <th>numberofstories</th>\n",
              "      <td>69705</td>\n",
              "      <td>77.214068</td>\n",
              "    </tr>\n",
              "    <tr>\n",
              "      <th>garage_sqft</th>\n",
              "      <td>60338</td>\n",
              "      <td>66.837995</td>\n",
              "    </tr>\n",
              "    <tr>\n",
              "      <th>garagecarcnt</th>\n",
              "      <td>60338</td>\n",
              "      <td>66.837995</td>\n",
              "    </tr>\n",
              "    <tr>\n",
              "      <th>quality</th>\n",
              "      <td>32911</td>\n",
              "      <td>36.456383</td>\n",
              "    </tr>\n",
              "    <tr>\n",
              "      <th>unitcnt</th>\n",
              "      <td>31922</td>\n",
              "      <td>35.360842</td>\n",
              "    </tr>\n",
              "    <tr>\n",
              "      <th>lot_sqft</th>\n",
              "      <td>10150</td>\n",
              "      <td>11.243423</td>\n",
              "    </tr>\n",
              "    <tr>\n",
              "      <th>age</th>\n",
              "      <td>756</td>\n",
              "      <td>0.837441</td>\n",
              "    </tr>\n",
              "    <tr>\n",
              "      <th>home_sqft</th>\n",
              "      <td>661</td>\n",
              "      <td>0.732207</td>\n",
              "    </tr>\n",
              "    <tr>\n",
              "      <th>tav_built</th>\n",
              "      <td>380</td>\n",
              "      <td>0.420936</td>\n",
              "    </tr>\n",
              "    <tr>\n",
              "      <th>property_tax</th>\n",
              "      <td>6</td>\n",
              "      <td>0.006646</td>\n",
              "    </tr>\n",
              "    <tr>\n",
              "      <th>tav_land</th>\n",
              "      <td>1</td>\n",
              "      <td>0.001108</td>\n",
              "    </tr>\n",
              "    <tr>\n",
              "      <th>tax_assessed_value</th>\n",
              "      <td>1</td>\n",
              "      <td>0.001108</td>\n",
              "    </tr>\n",
              "    <tr>\n",
              "      <th>fips</th>\n",
              "      <td>0</td>\n",
              "      <td>0.000000</td>\n",
              "    </tr>\n",
              "    <tr>\n",
              "      <th>architecture</th>\n",
              "      <td>0</td>\n",
              "      <td>0.000000</td>\n",
              "    </tr>\n",
              "    <tr>\n",
              "      <th>roomcnt</th>\n",
              "      <td>0</td>\n",
              "      <td>0.000000</td>\n",
              "    </tr>\n",
              "    <tr>\n",
              "      <th>storytypeid</th>\n",
              "      <td>0</td>\n",
              "      <td>0.000000</td>\n",
              "    </tr>\n",
              "    <tr>\n",
              "      <th>material</th>\n",
              "      <td>0</td>\n",
              "      <td>0.000000</td>\n",
              "    </tr>\n",
              "    <tr>\n",
              "      <th>bathroomcnt</th>\n",
              "      <td>0</td>\n",
              "      <td>0.000000</td>\n",
              "    </tr>\n",
              "    <tr>\n",
              "      <th>fireplaceflag</th>\n",
              "      <td>0</td>\n",
              "      <td>0.000000</td>\n",
              "    </tr>\n",
              "    <tr>\n",
              "      <th>aircon</th>\n",
              "      <td>0</td>\n",
              "      <td>0.000000</td>\n",
              "    </tr>\n",
              "    <tr>\n",
              "      <th>transaction_quarter</th>\n",
              "      <td>0</td>\n",
              "      <td>0.000000</td>\n",
              "    </tr>\n",
              "    <tr>\n",
              "      <th>assessmentyear</th>\n",
              "      <td>0</td>\n",
              "      <td>0.000000</td>\n",
              "    </tr>\n",
              "    <tr>\n",
              "      <th>transaction_day</th>\n",
              "      <td>0</td>\n",
              "      <td>0.000000</td>\n",
              "    </tr>\n",
              "    <tr>\n",
              "      <th>transaction_month</th>\n",
              "      <td>0</td>\n",
              "      <td>0.000000</td>\n",
              "    </tr>\n",
              "    <tr>\n",
              "      <th>zipcode</th>\n",
              "      <td>0</td>\n",
              "      <td>0.000000</td>\n",
              "    </tr>\n",
              "    <tr>\n",
              "      <th>neighborhood</th>\n",
              "      <td>0</td>\n",
              "      <td>0.000000</td>\n",
              "    </tr>\n",
              "    <tr>\n",
              "      <th>county</th>\n",
              "      <td>0</td>\n",
              "      <td>0.000000</td>\n",
              "    </tr>\n",
              "    <tr>\n",
              "      <th>bedroomcnt</th>\n",
              "      <td>0</td>\n",
              "      <td>0.000000</td>\n",
              "    </tr>\n",
              "    <tr>\n",
              "      <th>deck</th>\n",
              "      <td>0</td>\n",
              "      <td>0.000000</td>\n",
              "    </tr>\n",
              "    <tr>\n",
              "      <th>has_spa</th>\n",
              "      <td>0</td>\n",
              "      <td>0.000000</td>\n",
              "    </tr>\n",
              "    <tr>\n",
              "      <th>heating</th>\n",
              "      <td>0</td>\n",
              "      <td>0.000000</td>\n",
              "    </tr>\n",
              "    <tr>\n",
              "      <th>latitude</th>\n",
              "      <td>0</td>\n",
              "      <td>0.000000</td>\n",
              "    </tr>\n",
              "    <tr>\n",
              "      <th>longitude</th>\n",
              "      <td>0</td>\n",
              "      <td>0.000000</td>\n",
              "    </tr>\n",
              "    <tr>\n",
              "      <th>framing</th>\n",
              "      <td>0</td>\n",
              "      <td>0.000000</td>\n",
              "    </tr>\n",
              "    <tr>\n",
              "      <th>logerror</th>\n",
              "      <td>0</td>\n",
              "      <td>0.000000</td>\n",
              "    </tr>\n",
              "    <tr>\n",
              "      <th>city</th>\n",
              "      <td>0</td>\n",
              "      <td>0.000000</td>\n",
              "    </tr>\n",
              "    <tr>\n",
              "      <th>pool_with_spa</th>\n",
              "      <td>0</td>\n",
              "      <td>0.000000</td>\n",
              "    </tr>\n",
              "    <tr>\n",
              "      <th>pool_without_spa</th>\n",
              "      <td>0</td>\n",
              "      <td>0.000000</td>\n",
              "    </tr>\n",
              "    <tr>\n",
              "      <th>county_land_use_code</th>\n",
              "      <td>0</td>\n",
              "      <td>0.000000</td>\n",
              "    </tr>\n",
              "    <tr>\n",
              "      <th>land_use_code</th>\n",
              "      <td>0</td>\n",
              "      <td>0.000000</td>\n",
              "    </tr>\n",
              "    <tr>\n",
              "      <th>zoning_code</th>\n",
              "      <td>0</td>\n",
              "      <td>0.000000</td>\n",
              "    </tr>\n",
              "    <tr>\n",
              "      <th>rawcensustractandblock</th>\n",
              "      <td>0</td>\n",
              "      <td>0.000000</td>\n",
              "    </tr>\n",
              "    <tr>\n",
              "      <th>parcelid</th>\n",
              "      <td>0</td>\n",
              "      <td>0.000000</td>\n",
              "    </tr>\n",
              "  </tbody>\n",
              "</table>\n",
              "</div>\n",
              "      <button class=\"colab-df-convert\" onclick=\"convertToInteractive('df-02ea8ce8-187b-4111-9e90-9a806743b1ac')\"\n",
              "              title=\"Convert this dataframe to an interactive table.\"\n",
              "              style=\"display:none;\">\n",
              "        \n",
              "  <svg xmlns=\"http://www.w3.org/2000/svg\" height=\"24px\"viewBox=\"0 0 24 24\"\n",
              "       width=\"24px\">\n",
              "    <path d=\"M0 0h24v24H0V0z\" fill=\"none\"/>\n",
              "    <path d=\"M18.56 5.44l.94 2.06.94-2.06 2.06-.94-2.06-.94-.94-2.06-.94 2.06-2.06.94zm-11 1L8.5 8.5l.94-2.06 2.06-.94-2.06-.94L8.5 2.5l-.94 2.06-2.06.94zm10 10l.94 2.06.94-2.06 2.06-.94-2.06-.94-.94-2.06-.94 2.06-2.06.94z\"/><path d=\"M17.41 7.96l-1.37-1.37c-.4-.4-.92-.59-1.43-.59-.52 0-1.04.2-1.43.59L10.3 9.45l-7.72 7.72c-.78.78-.78 2.05 0 2.83L4 21.41c.39.39.9.59 1.41.59.51 0 1.02-.2 1.41-.59l7.78-7.78 2.81-2.81c.8-.78.8-2.07 0-2.86zM5.41 20L4 18.59l7.72-7.72 1.47 1.35L5.41 20z\"/>\n",
              "  </svg>\n",
              "      </button>\n",
              "      \n",
              "  <style>\n",
              "    .colab-df-container {\n",
              "      display:flex;\n",
              "      flex-wrap:wrap;\n",
              "      gap: 12px;\n",
              "    }\n",
              "\n",
              "    .colab-df-convert {\n",
              "      background-color: #E8F0FE;\n",
              "      border: none;\n",
              "      border-radius: 50%;\n",
              "      cursor: pointer;\n",
              "      display: none;\n",
              "      fill: #1967D2;\n",
              "      height: 32px;\n",
              "      padding: 0 0 0 0;\n",
              "      width: 32px;\n",
              "    }\n",
              "\n",
              "    .colab-df-convert:hover {\n",
              "      background-color: #E2EBFA;\n",
              "      box-shadow: 0px 1px 2px rgba(60, 64, 67, 0.3), 0px 1px 3px 1px rgba(60, 64, 67, 0.15);\n",
              "      fill: #174EA6;\n",
              "    }\n",
              "\n",
              "    [theme=dark] .colab-df-convert {\n",
              "      background-color: #3B4455;\n",
              "      fill: #D2E3FC;\n",
              "    }\n",
              "\n",
              "    [theme=dark] .colab-df-convert:hover {\n",
              "      background-color: #434B5C;\n",
              "      box-shadow: 0px 1px 3px 1px rgba(0, 0, 0, 0.15);\n",
              "      filter: drop-shadow(0px 1px 2px rgba(0, 0, 0, 0.3));\n",
              "      fill: #FFFFFF;\n",
              "    }\n",
              "  </style>\n",
              "\n",
              "      <script>\n",
              "        const buttonEl =\n",
              "          document.querySelector('#df-02ea8ce8-187b-4111-9e90-9a806743b1ac button.colab-df-convert');\n",
              "        buttonEl.style.display =\n",
              "          google.colab.kernel.accessAllowed ? 'block' : 'none';\n",
              "\n",
              "        async function convertToInteractive(key) {\n",
              "          const element = document.querySelector('#df-02ea8ce8-187b-4111-9e90-9a806743b1ac');\n",
              "          const dataTable =\n",
              "            await google.colab.kernel.invokeFunction('convertToInteractive',\n",
              "                                                     [key], {});\n",
              "          if (!dataTable) return;\n",
              "\n",
              "          const docLinkHtml = 'Like what you see? Visit the ' +\n",
              "            '<a target=\"_blank\" href=https://colab.research.google.com/notebooks/data_table.ipynb>data table notebook</a>'\n",
              "            + ' to learn more about interactive tables.';\n",
              "          element.innerHTML = '';\n",
              "          dataTable['output_type'] = 'display_data';\n",
              "          await google.colab.output.renderOutput(dataTable, element);\n",
              "          const docLink = document.createElement('div');\n",
              "          docLink.innerHTML = docLinkHtml;\n",
              "          element.appendChild(docLink);\n",
              "        }\n",
              "      </script>\n",
              "    </div>\n",
              "  </div>\n",
              "  "
            ]
          },
          "metadata": {},
          "execution_count": 80
        }
      ]
    },
    {
      "cell_type": "code",
      "source": [
        "print('# of columns with <2% null:', missing[missing['% null']<2]['% null'].count())\n",
        "print('# of columns with >33% null:', missing[missing['% null']>33]['% null'].count())"
      ],
      "metadata": {
        "colab": {
          "base_uri": "https://localhost:8080/"
        },
        "id": "rZYbERBxv1Wa",
        "outputId": "7aeb92c6-dee0-4325-e5d4-9719e51e0713"
      },
      "execution_count": 81,
      "outputs": [
        {
          "output_type": "stream",
          "name": "stdout",
          "text": [
            "# of columns with <2% null: 37\n",
            "# of columns with >33% null: 16\n"
          ]
        }
      ]
    },
    {
      "cell_type": "code",
      "source": [
        "# tav_land and tax_assessed_value have one NaN\n",
        "df16[df16['tav_land'].isna()==True]"
      ],
      "metadata": {
        "colab": {
          "base_uri": "https://localhost:8080/",
          "height": 191
        },
        "id": "wW9DXSl-4xvM",
        "outputId": "c92d880c-0923-4c38-bd60-b6f69a616102"
      },
      "execution_count": 82,
      "outputs": [
        {
          "output_type": "execute_result",
          "data": {
            "text/plain": [
              "       parcelid  logerror transaction_month  transaction_day  \\\n",
              "68986  17190827 -0.301100               Aug               23   \n",
              "\n",
              "      transaction_quarter     aircon architecture  basementsqft  bathroomcnt  \\\n",
              "68986                 3rd  not given    not given           NaN     2.000000   \n",
              "\n",
              "       bedroomcnt  ... numberofstories  fireplaceflag tav_built  \\\n",
              "68986    2.000000  ...        1.000000      not given       NaN   \n",
              "\n",
              "       tax_assessed_value  assessmentyear  tav_land  property_tax  \\\n",
              "68986                 NaN     2015.000000       NaN     51.400000   \n",
              "\n",
              "       taxdelinquencyflag  taxdelinquencyyear       age  \n",
              "68986                 NaN                 NaN 31.000000  \n",
              "\n",
              "[1 rows x 54 columns]"
            ],
            "text/html": [
              "\n",
              "  <div id=\"df-41ab0c50-789d-4a62-82d2-07946494c9a6\">\n",
              "    <div class=\"colab-df-container\">\n",
              "      <div>\n",
              "<style scoped>\n",
              "    .dataframe tbody tr th:only-of-type {\n",
              "        vertical-align: middle;\n",
              "    }\n",
              "\n",
              "    .dataframe tbody tr th {\n",
              "        vertical-align: top;\n",
              "    }\n",
              "\n",
              "    .dataframe thead th {\n",
              "        text-align: right;\n",
              "    }\n",
              "</style>\n",
              "<table border=\"1\" class=\"dataframe\">\n",
              "  <thead>\n",
              "    <tr style=\"text-align: right;\">\n",
              "      <th></th>\n",
              "      <th>parcelid</th>\n",
              "      <th>logerror</th>\n",
              "      <th>transaction_month</th>\n",
              "      <th>transaction_day</th>\n",
              "      <th>transaction_quarter</th>\n",
              "      <th>aircon</th>\n",
              "      <th>architecture</th>\n",
              "      <th>basementsqft</th>\n",
              "      <th>bathroomcnt</th>\n",
              "      <th>bedroomcnt</th>\n",
              "      <th>...</th>\n",
              "      <th>numberofstories</th>\n",
              "      <th>fireplaceflag</th>\n",
              "      <th>tav_built</th>\n",
              "      <th>tax_assessed_value</th>\n",
              "      <th>assessmentyear</th>\n",
              "      <th>tav_land</th>\n",
              "      <th>property_tax</th>\n",
              "      <th>taxdelinquencyflag</th>\n",
              "      <th>taxdelinquencyyear</th>\n",
              "      <th>age</th>\n",
              "    </tr>\n",
              "  </thead>\n",
              "  <tbody>\n",
              "    <tr>\n",
              "      <th>68986</th>\n",
              "      <td>17190827</td>\n",
              "      <td>-0.301100</td>\n",
              "      <td>Aug</td>\n",
              "      <td>23</td>\n",
              "      <td>3rd</td>\n",
              "      <td>not given</td>\n",
              "      <td>not given</td>\n",
              "      <td>NaN</td>\n",
              "      <td>2.000000</td>\n",
              "      <td>2.000000</td>\n",
              "      <td>...</td>\n",
              "      <td>1.000000</td>\n",
              "      <td>not given</td>\n",
              "      <td>NaN</td>\n",
              "      <td>NaN</td>\n",
              "      <td>2015.000000</td>\n",
              "      <td>NaN</td>\n",
              "      <td>51.400000</td>\n",
              "      <td>NaN</td>\n",
              "      <td>NaN</td>\n",
              "      <td>31.000000</td>\n",
              "    </tr>\n",
              "  </tbody>\n",
              "</table>\n",
              "<p>1 rows × 54 columns</p>\n",
              "</div>\n",
              "      <button class=\"colab-df-convert\" onclick=\"convertToInteractive('df-41ab0c50-789d-4a62-82d2-07946494c9a6')\"\n",
              "              title=\"Convert this dataframe to an interactive table.\"\n",
              "              style=\"display:none;\">\n",
              "        \n",
              "  <svg xmlns=\"http://www.w3.org/2000/svg\" height=\"24px\"viewBox=\"0 0 24 24\"\n",
              "       width=\"24px\">\n",
              "    <path d=\"M0 0h24v24H0V0z\" fill=\"none\"/>\n",
              "    <path d=\"M18.56 5.44l.94 2.06.94-2.06 2.06-.94-2.06-.94-.94-2.06-.94 2.06-2.06.94zm-11 1L8.5 8.5l.94-2.06 2.06-.94-2.06-.94L8.5 2.5l-.94 2.06-2.06.94zm10 10l.94 2.06.94-2.06 2.06-.94-2.06-.94-.94-2.06-.94 2.06-2.06.94z\"/><path d=\"M17.41 7.96l-1.37-1.37c-.4-.4-.92-.59-1.43-.59-.52 0-1.04.2-1.43.59L10.3 9.45l-7.72 7.72c-.78.78-.78 2.05 0 2.83L4 21.41c.39.39.9.59 1.41.59.51 0 1.02-.2 1.41-.59l7.78-7.78 2.81-2.81c.8-.78.8-2.07 0-2.86zM5.41 20L4 18.59l7.72-7.72 1.47 1.35L5.41 20z\"/>\n",
              "  </svg>\n",
              "      </button>\n",
              "      \n",
              "  <style>\n",
              "    .colab-df-container {\n",
              "      display:flex;\n",
              "      flex-wrap:wrap;\n",
              "      gap: 12px;\n",
              "    }\n",
              "\n",
              "    .colab-df-convert {\n",
              "      background-color: #E8F0FE;\n",
              "      border: none;\n",
              "      border-radius: 50%;\n",
              "      cursor: pointer;\n",
              "      display: none;\n",
              "      fill: #1967D2;\n",
              "      height: 32px;\n",
              "      padding: 0 0 0 0;\n",
              "      width: 32px;\n",
              "    }\n",
              "\n",
              "    .colab-df-convert:hover {\n",
              "      background-color: #E2EBFA;\n",
              "      box-shadow: 0px 1px 2px rgba(60, 64, 67, 0.3), 0px 1px 3px 1px rgba(60, 64, 67, 0.15);\n",
              "      fill: #174EA6;\n",
              "    }\n",
              "\n",
              "    [theme=dark] .colab-df-convert {\n",
              "      background-color: #3B4455;\n",
              "      fill: #D2E3FC;\n",
              "    }\n",
              "\n",
              "    [theme=dark] .colab-df-convert:hover {\n",
              "      background-color: #434B5C;\n",
              "      box-shadow: 0px 1px 3px 1px rgba(0, 0, 0, 0.15);\n",
              "      filter: drop-shadow(0px 1px 2px rgba(0, 0, 0, 0.3));\n",
              "      fill: #FFFFFF;\n",
              "    }\n",
              "  </style>\n",
              "\n",
              "      <script>\n",
              "        const buttonEl =\n",
              "          document.querySelector('#df-41ab0c50-789d-4a62-82d2-07946494c9a6 button.colab-df-convert');\n",
              "        buttonEl.style.display =\n",
              "          google.colab.kernel.accessAllowed ? 'block' : 'none';\n",
              "\n",
              "        async function convertToInteractive(key) {\n",
              "          const element = document.querySelector('#df-41ab0c50-789d-4a62-82d2-07946494c9a6');\n",
              "          const dataTable =\n",
              "            await google.colab.kernel.invokeFunction('convertToInteractive',\n",
              "                                                     [key], {});\n",
              "          if (!dataTable) return;\n",
              "\n",
              "          const docLinkHtml = 'Like what you see? Visit the ' +\n",
              "            '<a target=\"_blank\" href=https://colab.research.google.com/notebooks/data_table.ipynb>data table notebook</a>'\n",
              "            + ' to learn more about interactive tables.';\n",
              "          element.innerHTML = '';\n",
              "          dataTable['output_type'] = 'display_data';\n",
              "          await google.colab.output.renderOutput(dataTable, element);\n",
              "          const docLink = document.createElement('div');\n",
              "          docLink.innerHTML = docLinkHtml;\n",
              "          element.appendChild(docLink);\n",
              "        }\n",
              "      </script>\n",
              "    </div>\n",
              "  </div>\n",
              "  "
            ]
          },
          "metadata": {},
          "execution_count": 82
        }
      ]
    },
    {
      "cell_type": "code",
      "source": [
        "# tav_land info\n",
        "pd.set_option('display.float_format', lambda x: f'{x:.0f}')\n",
        "df16['tav_land'].describe()"
      ],
      "metadata": {
        "colab": {
          "base_uri": "https://localhost:8080/"
        },
        "id": "JP-l4iXl5ecg",
        "outputId": "b2de064a-fdf7-40ce-e705-a888491673c6"
      },
      "execution_count": 83,
      "outputs": [
        {
          "output_type": "execute_result",
          "data": {
            "text/plain": [
              "count      90274\n",
              "mean      278335\n",
              "std       400495\n",
              "min           22\n",
              "25%        82228\n",
              "50%       192970\n",
              "75%       345420\n",
              "max     24500000\n",
              "Name: tav_land, dtype: float64"
            ]
          },
          "metadata": {},
          "execution_count": 83
        }
      ]
    },
    {
      "cell_type": "code",
      "source": [
        "# tax_assessed_value info\n",
        "df16['tax_assessed_value'].describe()"
      ],
      "metadata": {
        "colab": {
          "base_uri": "https://localhost:8080/"
        },
        "id": "w6mZQa-q6jxD",
        "outputId": "e3ef044a-6c93-4785-ccb4-a918134f3104"
      },
      "execution_count": 84,
      "outputs": [
        {
          "output_type": "execute_result",
          "data": {
            "text/plain": [
              "count      90274\n",
              "mean      457673\n",
              "std       554884\n",
              "min           22\n",
              "25%       199023\n",
              "50%       342872\n",
              "75%       540589\n",
              "max     27750000\n",
              "Name: tax_assessed_value, dtype: float64"
            ]
          },
          "metadata": {},
          "execution_count": 84
        }
      ]
    },
    {
      "cell_type": "code",
      "source": [
        "# Since house values tend to skew, let's impute the median\n",
        "df16['tav_land'].fillna(df16['tav_land'].median(), inplace=True)\n",
        "df16['tax_assessed_value'].fillna(df16['tax_assessed_value'].median(), inplace=True)"
      ],
      "metadata": {
        "id": "e09lUfL46x7X"
      },
      "execution_count": 85,
      "outputs": []
    },
    {
      "cell_type": "code",
      "source": [
        "# Property tax has 6 NaN values\n",
        "# impute median\n",
        "print(df16['property_tax'].describe())\n",
        "df16['property_tax'].fillna(df16['property_tax'].median(), inplace=True)"
      ],
      "metadata": {
        "colab": {
          "base_uri": "https://localhost:8080/"
        },
        "id": "ztrOfnqW3mSj",
        "outputId": "3b229eca-a48a-42af-ab00-c9f24851ec3f"
      },
      "execution_count": 86,
      "outputs": [
        {
          "output_type": "stream",
          "name": "stdout",
          "text": [
            "count    90269\n",
            "mean      5984\n",
            "std       6839\n",
            "min         49\n",
            "25%       2873\n",
            "50%       4543\n",
            "75%       6901\n",
            "max     321936\n",
            "Name: property_tax, dtype: float64\n"
          ]
        }
      ]
    },
    {
      "cell_type": "code",
      "source": [
        "# tav_built has 380 NaNs\n",
        "# impute median\n",
        "print(df16['tav_built'].describe())\n",
        "df16['tav_built'].fillna(df16['tav_built'].median(), inplace=True)"
      ],
      "metadata": {
        "colab": {
          "base_uri": "https://localhost:8080/"
        },
        "id": "gjKB-E4O5IOw",
        "outputId": "4f62f5ba-5a4c-400a-e673-d1dac7002ddc"
      },
      "execution_count": 87,
      "outputs": [
        {
          "output_type": "stream",
          "name": "stdout",
          "text": [
            "count     89895\n",
            "mean     180093\n",
            "std      209130\n",
            "min         100\n",
            "25%       81245\n",
            "50%      132000\n",
            "75%      210534\n",
            "max     9948100\n",
            "Name: tav_built, dtype: float64\n"
          ]
        }
      ]
    },
    {
      "cell_type": "code",
      "source": [
        "# home_sqft has 661 NaNs\n",
        "# impute median\n",
        "print(df16['home_sqft'].describe())\n",
        "df16['home_sqft'].fillna(df16['home_sqft'].median(), inplace=True)"
      ],
      "metadata": {
        "colab": {
          "base_uri": "https://localhost:8080/"
        },
        "id": "hF9nxw0a7MR9",
        "outputId": "8a296098-a4ff-4562-aabe-0039d0ea816e"
      },
      "execution_count": 88,
      "outputs": [
        {
          "output_type": "stream",
          "name": "stdout",
          "text": [
            "count   89614\n",
            "mean     1773\n",
            "std       928\n",
            "min         2\n",
            "25%      1184\n",
            "50%      1540\n",
            "75%      2095\n",
            "max     22741\n",
            "Name: home_sqft, dtype: float64\n"
          ]
        }
      ]
    },
    {
      "cell_type": "code",
      "source": [
        "# age has 756 NaNs\n",
        "# impute median\n",
        "print(df16['age'].describe())\n",
        "df16['age'].fillna(df16['age'].median(), inplace=True)"
      ],
      "metadata": {
        "colab": {
          "base_uri": "https://localhost:8080/"
        },
        "id": "7zM-8XSe7odr",
        "outputId": "62d94e9a-1ffc-4566-ea1f-34deb88545c5"
      },
      "execution_count": 89,
      "outputs": [
        {
          "output_type": "stream",
          "name": "stdout",
          "text": [
            "count   89519\n",
            "mean       47\n",
            "std        24\n",
            "min         1\n",
            "25%        29\n",
            "50%        46\n",
            "75%        63\n",
            "max       131\n",
            "Name: age, dtype: float64\n"
          ]
        }
      ]
    },
    {
      "cell_type": "code",
      "source": [
        "# lot_sqft has 10150 NaNs\n",
        "print(df16['lot_sqft'].describe())\n",
        "df16['lot_sqft'].fillna(df16['lot_sqft'].median(), inplace=True)"
      ],
      "metadata": {
        "colab": {
          "base_uri": "https://localhost:8080/"
        },
        "id": "MI9Z4aVI89Ht",
        "outputId": "a56fde48-03d3-45a2-eb0d-48c2d60325e5"
      },
      "execution_count": 90,
      "outputs": [
        {
          "output_type": "stream",
          "name": "stdout",
          "text": [
            "count     80125\n",
            "mean      29110\n",
            "std      121721\n",
            "min         167\n",
            "25%        5703\n",
            "50%        7200\n",
            "75%       11686\n",
            "max     6971010\n",
            "Name: lot_sqft, dtype: float64\n"
          ]
        }
      ]
    },
    {
      "cell_type": "markdown",
      "source": [
        "The next group of features have between 30 and 80% NaN."
      ],
      "metadata": {
        "id": "mXBNp7B2tHyB"
      }
    },
    {
      "cell_type": "code",
      "source": [
        "# unitcnt has 31922 NaN\n",
        "# I assume NaN values are just single unit properties, so I will replace NaN with 1\n",
        "# 1 is also the mode.\n",
        "df16['unitcnt'].fillna(1, inplace=True)"
      ],
      "metadata": {
        "id": "lMTsZQzQs03d"
      },
      "execution_count": 91,
      "outputs": []
    },
    {
      "cell_type": "code",
      "source": [
        "# Quality is an ratio number from 1-12 (higher is worse)\n",
        "pd.set_option('display.float_format', lambda x: f'{x:.3f}')\n",
        "print(df16['quality'].describe())\n",
        "print('Mode:', df16.quality.mode())\n",
        "\n",
        "# I wil replace NaN with the median, 7\n",
        "df16['quality'].fillna(df16['quality'].median(), inplace=True)"
      ],
      "metadata": {
        "colab": {
          "base_uri": "https://localhost:8080/"
        },
        "id": "jzr4oLsFt5_t",
        "outputId": "e2bcba91-38c2-4a84-a666-227ae087f4a3"
      },
      "execution_count": 92,
      "outputs": [
        {
          "output_type": "stream",
          "name": "stdout",
          "text": [
            "count   57364.000\n",
            "mean        5.565\n",
            "std         1.901\n",
            "min         1.000\n",
            "25%         4.000\n",
            "50%         7.000\n",
            "75%         7.000\n",
            "max        12.000\n",
            "Name: quality, dtype: float64\n",
            "Mode: 0   7.000\n",
            "Name: quality, dtype: float64\n"
          ]
        }
      ]
    },
    {
      "cell_type": "code",
      "source": [
        "# garage_sqft and garagecarcnt both have 60,338 NaNs\n",
        "# For properties that have 0 for garage car count, they are either NaN or 0 garage sq_ft which makes sense.\n",
        "# One property has a garagecarcnt of 0 and 126 sq ft?\n",
        "print(df16[df16['garagecarcnt']==0]['garage_sqft'].value_counts())\n",
        "\n",
        "# Impute 0 for garage car count and square footage\n",
        "df16['garagecarcnt'].fillna(0, inplace=True)\n",
        "df16['garage_sqft'].fillna(0, inplace=True)"
      ],
      "metadata": {
        "colab": {
          "base_uri": "https://localhost:8080/"
        },
        "id": "BLAp8wzNuva2",
        "outputId": "530b1aa3-ca31-4bf3-a143-b8c0a3728151"
      },
      "execution_count": 93,
      "outputs": [
        {
          "output_type": "stream",
          "name": "stdout",
          "text": [
            "0.000      289\n",
            "126.000      1\n",
            "Name: garage_sqft, dtype: int64\n"
          ]
        }
      ]
    },
    {
      "cell_type": "code",
      "source": [
        "# numberofstories has 69,705 NaNs\n",
        "# Assume those missing are 1 story properties\n",
        "# 1 is also the mode\n",
        "df16.numberofstories.value_counts()\n",
        "df16['numberofstories'].fillna(1, inplace=True)"
      ],
      "metadata": {
        "id": "52aytT3HzFfK"
      },
      "execution_count": 94,
      "outputs": []
    },
    {
      "cell_type": "markdown",
      "source": [
        "The next group of features has between 80% and 98% NaN"
      ],
      "metadata": {
        "id": "TrYdpjA1zvZj"
      }
    },
    {
      "cell_type": "code",
      "source": [
        "# Set NaN for poolcnt to 0\n",
        "df16['poolcnt'].fillna(0, inplace=True)\n",
        "# Good. Every property with 0 pools has a NaN for poolsizesum.\n",
        "df16[df16.poolcnt==0]['poolsizesum'].value_counts()"
      ],
      "metadata": {
        "colab": {
          "base_uri": "https://localhost:8080/"
        },
        "id": "eiX5GVDezyvh",
        "outputId": "589ab4ef-4379-40c8-b860-4951817ba0f6"
      },
      "execution_count": 95,
      "outputs": [
        {
          "output_type": "execute_result",
          "data": {
            "text/plain": [
              "Series([], Name: poolsizesum, dtype: int64)"
            ]
          },
          "metadata": {},
          "execution_count": 95
        }
      ]
    },
    {
      "cell_type": "code",
      "source": [
        "# Some properties have a 'True' for fireplaceflag but NaN for fireplacecnt\n",
        "# In fact, every property with a 'True' fireplaceflag has NaN for count\n",
        "print('Value Counts when flag =1', df16[df16.fireplaceflag==1]['fireplacecnt'].value_counts())\n",
        "\n",
        "# Let's assume those with the flag, but no count, have 1 fireplace\n",
        "# 1 is the mode for fireplace count and it makes sense someone might skip the count entry if only 1\n",
        "df16.loc[(df16.fireplaceflag==1)&(df16.fireplacecnt.isna()),'fireplacecnt']=1\n",
        "\n",
        "# Fill the rest of the NaN for fireplacecnt as 0\n",
        "df16.fireplacecnt.fillna(0,inplace=True)"
      ],
      "metadata": {
        "colab": {
          "base_uri": "https://localhost:8080/"
        },
        "id": "dsgB06f_0gdq",
        "outputId": "fbadce4e-1238-40f5-ab15-224079ad5e3f"
      },
      "execution_count": 96,
      "outputs": [
        {
          "output_type": "stream",
          "name": "stdout",
          "text": [
            "Value Counts when flag =1 Series([], Name: fireplacecnt, dtype: int64)\n"
          ]
        }
      ]
    },
    {
      "cell_type": "markdown",
      "source": [],
      "metadata": {
        "id": "uU4RS2ukUvQN"
      }
    },
    {
      "cell_type": "code",
      "source": [
        "print('Fireplace counts when flag is \"not given\":', df16[df16.fireplaceflag=='not given']['fireplacecnt'].value_counts())\n",
        "# It seems some properties have fireplaces but are not flagged as having them\n",
        "# If fireplacecnt >  0, assign fireplaceflag to 1\n",
        "df16.loc[df16.fireplacecnt >0, 'fireplaceflag'] = 1"
      ],
      "metadata": {
        "colab": {
          "base_uri": "https://localhost:8080/"
        },
        "id": "Ms0Nps5k26la",
        "outputId": "382b39b2-ad21-4529-cac2-b785ca3586ee"
      },
      "execution_count": 97,
      "outputs": [
        {
          "output_type": "stream",
          "name": "stdout",
          "text": [
            "Fireplace counts when flag is \"not given\": 0.000    80446\n",
            "1.000     8165\n",
            "2.000     1106\n",
            "3.000      312\n",
            "4.000       21\n",
            "5.000        3\n",
            "Name: fireplacecnt, dtype: int64\n"
          ]
        }
      ]
    },
    {
      "cell_type": "code",
      "source": [
        "# entry_floor_sqft\n",
        "df16['entry_floor_sqft'].describe()"
      ],
      "metadata": {
        "colab": {
          "base_uri": "https://localhost:8080/"
        },
        "id": "WbXVth0w_QL4",
        "outputId": "811896bf-7bb5-4c68-9cc7-a915b38361f5"
      },
      "execution_count": 98,
      "outputs": [
        {
          "output_type": "execute_result",
          "data": {
            "text/plain": [
              "count   6856.000\n",
              "mean    1347.974\n",
              "std      652.399\n",
              "min       44.000\n",
              "25%      938.000\n",
              "50%     1244.000\n",
              "75%     1614.000\n",
              "max     7625.000\n",
              "Name: entry_floor_sqft, dtype: float64"
            ]
          },
          "metadata": {},
          "execution_count": 98
        }
      ]
    },
    {
      "cell_type": "code",
      "source": [
        "# entry_floor_sqft is 92.4% NaN\n",
        "# there does not seem to be consistency between NaNs and other sq_ft or story columns\n",
        "print('When entry_floor_sqft is NaN: \\n', df16[df16['entry_floor_sqft'].isna()][['home_sqft','lot_sqft','numberofstories']])\n",
        "\n",
        "# it seems best to drop the entry_floor_sqft column\n",
        "# I don't want to impute 92% of it without confidence\n",
        "df16.drop(columns=['entry_floor_sqft'], inplace=True)"
      ],
      "metadata": {
        "colab": {
          "base_uri": "https://localhost:8080/"
        },
        "id": "WcCylk2M_e_B",
        "outputId": "dadaed01-812a-47af-d5cc-b6ed6cb06843"
      },
      "execution_count": 99,
      "outputs": [
        {
          "output_type": "stream",
          "name": "stdout",
          "text": [
            "When entry_floor_sqft is NaN: \n",
            "        home_sqft  lot_sqft  numberofstories\n",
            "0       1684.000  7528.000            1.000\n",
            "1       2263.000  3643.000            1.000\n",
            "2       2217.000 11423.000            1.000\n",
            "3        839.000 70859.000            1.000\n",
            "4       2283.000  6000.000            2.000\n",
            "...          ...       ...              ...\n",
            "90270    653.000 93676.000            1.000\n",
            "90271   2856.000  9343.000            1.000\n",
            "90272   2617.000  6865.000            1.000\n",
            "90273   1034.000 20033.000            1.000\n",
            "90274   1524.000  5124.000            1.000\n",
            "\n",
            "[83419 rows x 3 columns]\n"
          ]
        }
      ]
    },
    {
      "cell_type": "code",
      "source": [
        "# patio_sqft\n",
        "df16['patio_sqft'].describe()"
      ],
      "metadata": {
        "id": "XC_2NckVMpYT",
        "colab": {
          "base_uri": "https://localhost:8080/"
        },
        "outputId": "a12fe94e-949c-496c-925a-a8d4f2c4a867"
      },
      "execution_count": 100,
      "outputs": [
        {
          "output_type": "execute_result",
          "data": {
            "text/plain": [
              "count   2646.000\n",
              "mean     310.142\n",
              "std      216.722\n",
              "min       25.000\n",
              "25%      180.000\n",
              "50%      259.500\n",
              "75%      384.000\n",
              "max     2678.000\n",
              "Name: patio_sqft, dtype: float64"
            ]
          },
          "metadata": {},
          "execution_count": 100
        }
      ]
    },
    {
      "cell_type": "code",
      "source": [
        "# change patio_sqft to categorical\n",
        "\n",
        "# 1: less than 180\n",
        "df16.loc[df16['patio_sqft']<180, 'patio_sqft'] = 1\n",
        "# 2: 180-260\n",
        "df16.loc[(df16['patio_sqft'] >=180) & (df16['patio_sqft'] < 260), 'patio_sqft'] = 2\n",
        "# 3: 260-385\n",
        "df16.loc[(df16['patio_sqft'] >=260) & (df16['patio_sqft'] < 385), 'patio_sqft'] = 3\n",
        "# 4: 385-1000\n",
        "df16.loc[(df16['patio_sqft'] >=385) & (df16['patio_sqft'] < 1000), 'patio_sqft'] = 4\n",
        "# 5: over 1000\n",
        "df16.loc[df16['patio_sqft'] >=1000, 'patio_sqft'] = 5\n",
        "# 0: 'not given'\n",
        "df16['patio_sqft'].fillna('not given', inplace=True)\n",
        "\n",
        "patio_dict = {1:'less than 180', 2: '180-260', 3: '260-385', 4:'385-1000', 5: 'over 1000'}\n",
        "df16['patio_sqft'].replace(patio_dict, inplace=True)\n",
        "df16['patio_sqft'].value_counts()"
      ],
      "metadata": {
        "colab": {
          "base_uri": "https://localhost:8080/"
        },
        "id": "cbwt_hiKy_LR",
        "outputId": "4528b76c-a33f-401a-8a7e-142e04971ddd"
      },
      "execution_count": 101,
      "outputs": [
        {
          "output_type": "execute_result",
          "data": {
            "text/plain": [
              "not given        87629\n",
              "260-385            674\n",
              "180-260            671\n",
              "less than 180      652\n",
              "385-1000           614\n",
              "over 1000           35\n",
              "Name: patio_sqft, dtype: int64"
            ]
          },
          "metadata": {},
          "execution_count": 101
        }
      ]
    },
    {
      "cell_type": "markdown",
      "source": [
        "The following columns have over 98% NaN"
      ],
      "metadata": {
        "id": "gFQUC1lK3ZMj"
      }
    },
    {
      "cell_type": "code",
      "source": [
        "# taxdelinquencyflag and taxdelinquencyyear\n",
        "print('Does every flagged property have a tax delinq year?:', df16[df16.taxdelinquencyflag.notna()]['taxdelinquencyyear'].isna().sum()==0)\n",
        "print('Does every property with tdlq year have a flag?:', df16[df16.taxdelinquencyyear.notna()]['taxdelinquencyflag'].isna().sum()==0)\n",
        "\n",
        "# fill NaN for flags with 0\n",
        "df16.taxdelinquencyflag.fillna(0, inplace=True)\n",
        "\n",
        "# fill NaNs for year with 'not applicable'\n",
        "df16.taxdelinquencyyear.fillna('not applicable', inplace=True)\n",
        "\n",
        "# tldqn year will have 12 categories"
      ],
      "metadata": {
        "colab": {
          "base_uri": "https://localhost:8080/"
        },
        "id": "Yj7Qlo7o3dGG",
        "outputId": "0f91521b-40de-402e-c6fb-4d6d55c62278"
      },
      "execution_count": 102,
      "outputs": [
        {
          "output_type": "stream",
          "name": "stdout",
          "text": [
            "Does every flagged property have a tax delinq year?: True\n",
            "Does every property with tdlq year have a flag?: True\n"
          ]
        }
      ]
    },
    {
      "cell_type": "code",
      "source": [
        "# let's treat pool size like patio_sqft, change to categorical\n",
        "\n",
        "# 1: less than 420\n",
        "df16.loc[df16['poolsizesum']<420, 'poolsizesum'] = 1\n",
        "# 2: 420 - 500\n",
        "df16.loc[(df16['poolsizesum'] >=420) & (df16['poolsizesum'] < 500), 'poolsizesum'] = 2\n",
        "# 3: 500 - 600\n",
        "df16.loc[(df16['poolsizesum'] >=500) & (df16['poolsizesum'] < 600), 'poolsizesum'] = 3\n",
        "# 4: 600 - 1000\n",
        "df16.loc[(df16['poolsizesum'] >=600) & (df16['poolsizesum'] < 1000), 'poolsizesum'] = 4\n",
        "# 5: over 1000\n",
        "df16.loc[df16['poolsizesum'] >= 1000, 'poolsizesum'] = 5\n",
        "# 0: 'not given'\n",
        "df16['poolsizesum'].fillna('not given', inplace=True)\n",
        "\n",
        "pool_dict = {1:'less than 420', 2: '420-500', 3: '500-600', 4:'600-1000', 5: 'over 1000'}\n",
        "df16['poolsizesum'].replace(pool_dict, inplace=True)\n",
        "df16['poolsizesum'].value_counts()"
      ],
      "metadata": {
        "colab": {
          "base_uri": "https://localhost:8080/"
        },
        "id": "lx9j6txj5OXo",
        "outputId": "eef7e5c4-1a9b-46a8-e07e-b58c0d72afa6"
      },
      "execution_count": 103,
      "outputs": [
        {
          "output_type": "execute_result",
          "data": {
            "text/plain": [
              "not given        89306\n",
              "600-1000           252\n",
              "420-500            248\n",
              "less than 420      232\n",
              "500-600            230\n",
              "over 1000            7\n",
              "Name: poolsizesum, dtype: int64"
            ]
          },
          "metadata": {},
          "execution_count": 103
        }
      ]
    },
    {
      "cell_type": "code",
      "source": [
        "# change basementsqft to categorical\n",
        "df16.basementsqft.describe()\n",
        "\n",
        "# 1: less than 400\n",
        "df16.loc[df16['basementsqft']<400, 'basementsqft'] = 1\n",
        "# 2: 400-600\n",
        "df16.loc[(df16['basementsqft'] >=400) & (df16['basementsqft'] < 600), 'basementsqft'] = 2\n",
        "# 3: 600-850\n",
        "df16.loc[(df16['basementsqft'] >=600) & (df16['basementsqft'] < 850), 'basementsqft'] = 3\n",
        "# 4: 850-1000\n",
        "df16.loc[(df16['basementsqft'] >=850) & (df16['basementsqft'] < 1000), 'basementsqft'] = 4\n",
        "# 5: over 1000\n",
        "df16.loc[df16['basementsqft']>=1000, 'basementsqft'] = 5\n",
        "# 0: not given\n",
        "df16['basementsqft'].fillna('not given', inplace=True)\n",
        "\n",
        "basement_dict = {1:'less than 400', 2: '400-600', 3: '600-850', 4:'850-1000', 5: 'over 1000'}\n",
        "df16['basementsqft'].replace(basement_dict, inplace=True)\n",
        "df16['basementsqft'].value_counts()"
      ],
      "metadata": {
        "colab": {
          "base_uri": "https://localhost:8080/"
        },
        "id": "K0Zt2_vr86cU",
        "outputId": "08b68489-ce60-47c7-e89d-5b8e268f1cb2"
      },
      "execution_count": 104,
      "outputs": [
        {
          "output_type": "execute_result",
          "data": {
            "text/plain": [
              "not given        90232\n",
              "600-850             12\n",
              "less than 400       11\n",
              "over 1000           10\n",
              "400-600              9\n",
              "850-1000             1\n",
              "Name: basementsqft, dtype: int64"
            ]
          },
          "metadata": {},
          "execution_count": 104
        }
      ]
    },
    {
      "cell_type": "code",
      "source": [
        "# base_sqft\n",
        "\n",
        "#peek a base_sqft compared to other sqft\n",
        "df16[df16['base_sqft']>0][['home_sqft','perimeter_sqft','base_sqft','lot_sqft']]\n",
        "\n",
        "# base_sqft might be a duplicate of home_sqft\n",
        "print('Base_sqft sum when base not null:', df16[df16['base_sqft']>0]['base_sqft'].sum())\n",
        "print('Home_sqft sum when base not null:', df16[df16['base_sqft']>0]['home_sqft'].sum())\n",
        "\n",
        "# base_sqft is redundant to home_sqft, we can drop it\n",
        "df16.drop(columns=['base_sqft'], inplace=True)"
      ],
      "metadata": {
        "colab": {
          "base_uri": "https://localhost:8080/"
        },
        "id": "2uYCq_bj-0F8",
        "outputId": "de1ca5bb-e781-4798-c825-c57691ae3d89"
      },
      "execution_count": 105,
      "outputs": [
        {
          "output_type": "stream",
          "name": "stdout",
          "text": [
            "Base_sqft sum when base not null: 969372.0\n",
            "Home_sqft sum when base not null: 969372.0\n"
          ]
        }
      ]
    },
    {
      "cell_type": "code",
      "source": [
        "# perimeter_sqft\n",
        "#peek a base_sqft compared to other sqft\n",
        "df16[df16['perimeter_sqft']>0][['home_sqft','perimeter_sqft','lot_sqft']]\n",
        "\n",
        "# perimeter_sqft might be a duplicate of home_sqft\n",
        "print('Perimeter_sqft sum when perimeter not null:', df16[df16['perimeter_sqft']>0]['perimeter_sqft'].sum())\n",
        "print('Home_sqft sum when perimeter not null:', df16[df16['perimeter_sqft']>0]['home_sqft'].sum())\n",
        "\n",
        "# perimeter_sqft is redundant to home_sqft, we can drop it\n",
        "df16.drop(columns=['perimeter_sqft'], inplace=True)"
      ],
      "metadata": {
        "colab": {
          "base_uri": "https://localhost:8080/"
        },
        "id": "3dl9VNpKBkbg",
        "outputId": "2a3cdfd8-e84d-424d-f89c-7e324a585b38"
      },
      "execution_count": 106,
      "outputs": [
        {
          "output_type": "stream",
          "name": "stdout",
          "text": [
            "Perimeter_sqft sum when perimeter not null: 46350.0\n",
            "Home_sqft sum when perimeter not null: 46350.0\n"
          ]
        }
      ]
    },
    {
      "cell_type": "code",
      "source": [
        "# shed_sqft: make categorical\n",
        "\n",
        "# 1: less than 100\n",
        "df16.loc[df16['shed_sqft']<100, 'shed_sqft'] = 1\n",
        "# 2: 100-160\n",
        "df16.loc[(df16['shed_sqft'] >=100) & (df16['shed_sqft'] < 160), 'shed_sqft'] = 2\n",
        "# 3: 160-360\n",
        "df16.loc[(df16['shed_sqft'] >=160) & (df16['shed_sqft'] < 360), 'shed_sqft'] = 3\n",
        "# 4: 360-500\n",
        "df16.loc[(df16['shed_sqft'] >=360) & (df16['shed_sqft'] < 500), 'shed_sqft'] = 4\n",
        "# 5: over 500\n",
        "df16.loc[df16['shed_sqft'] >= 500, 'shed_sqft'] = 5\n",
        "# 0: not given\n",
        "df16['shed_sqft'].fillna('not given', inplace=True)\n",
        "\n",
        "shed_dict = {1:'less than 100', 2: '100-160', 3: '160-360', 4:'360-500', 5: 'over 500'}\n",
        "df16['shed_sqft'].replace(shed_dict, inplace=True)\n",
        "df16['shed_sqft'].value_counts()"
      ],
      "metadata": {
        "colab": {
          "base_uri": "https://localhost:8080/"
        },
        "id": "zjg9wsxQ__3N",
        "outputId": "7fa8ec02-f91f-47dc-affd-c4cc7d224ce9"
      },
      "execution_count": 107,
      "outputs": [
        {
          "output_type": "execute_result",
          "data": {
            "text/plain": [
              "not given        90180\n",
              "100-160             25\n",
              "160-360             23\n",
              "less than 100       23\n",
              "over 500            19\n",
              "360-500              5\n",
              "Name: shed_sqft, dtype: int64"
            ]
          },
          "metadata": {},
          "execution_count": 107
        }
      ]
    },
    {
      "cell_type": "markdown",
      "source": [
        "# Check Nulls Again"
      ],
      "metadata": {
        "id": "1dYRxE-IC4kB"
      }
    },
    {
      "cell_type": "code",
      "source": [
        "pd.set_option('display.max_rows', 70)\n",
        "missing = pd.concat([df16.isnull().sum(), 100 * df16.isnull().mean()], axis=1)\n",
        "missing.columns=['null count', '% null']\n",
        "missing.sort_values(by=['null count'], ascending=False)"
      ],
      "metadata": {
        "colab": {
          "base_uri": "https://localhost:8080/",
          "height": 1000
        },
        "id": "wE-lKdixC6Vg",
        "outputId": "776bcfa2-83d0-4d68-fbbf-0e2200dadebc"
      },
      "execution_count": 108,
      "outputs": [
        {
          "output_type": "execute_result",
          "data": {
            "text/plain": [
              "                        null count  % null\n",
              "parcelid                         0   0.000\n",
              "unitcnt                          0   0.000\n",
              "land_use_code                    0   0.000\n",
              "zoning_code                      0   0.000\n",
              "rawcensustractandblock           0   0.000\n",
              "city                             0   0.000\n",
              "county                           0   0.000\n",
              "neighborhood                     0   0.000\n",
              "zipcode                          0   0.000\n",
              "roomcnt                          0   0.000\n",
              "storytypeid                      0   0.000\n",
              "material                         0   0.000\n",
              "patio_sqft                       0   0.000\n",
              "pool_without_spa                 0   0.000\n",
              "shed_sqft                        0   0.000\n",
              "numberofstories                  0   0.000\n",
              "fireplaceflag                    0   0.000\n",
              "tav_built                        0   0.000\n",
              "tax_assessed_value               0   0.000\n",
              "assessmentyear                   0   0.000\n",
              "tav_land                         0   0.000\n",
              "property_tax                     0   0.000\n",
              "taxdelinquencyflag               0   0.000\n",
              "taxdelinquencyyear               0   0.000\n",
              "county_land_use_code             0   0.000\n",
              "pool_with_spa                    0   0.000\n",
              "logerror                         0   0.000\n",
              "deck                             0   0.000\n",
              "transaction_month                0   0.000\n",
              "transaction_day                  0   0.000\n",
              "transaction_quarter              0   0.000\n",
              "aircon                           0   0.000\n",
              "architecture                     0   0.000\n",
              "basementsqft                     0   0.000\n",
              "bathroomcnt                      0   0.000\n",
              "bedroomcnt                       0   0.000\n",
              "framing                          0   0.000\n",
              "quality                          0   0.000\n",
              "home_sqft                        0   0.000\n",
              "poolsizesum                      0   0.000\n",
              "fips                             0   0.000\n",
              "fireplacecnt                     0   0.000\n",
              "garagecarcnt                     0   0.000\n",
              "garage_sqft                      0   0.000\n",
              "has_spa                          0   0.000\n",
              "heating                          0   0.000\n",
              "latitude                         0   0.000\n",
              "longitude                        0   0.000\n",
              "lot_sqft                         0   0.000\n",
              "poolcnt                          0   0.000\n",
              "age                              0   0.000"
            ],
            "text/html": [
              "\n",
              "  <div id=\"df-0dcc1e6e-acfd-4235-9d26-b0b8d3d6459f\">\n",
              "    <div class=\"colab-df-container\">\n",
              "      <div>\n",
              "<style scoped>\n",
              "    .dataframe tbody tr th:only-of-type {\n",
              "        vertical-align: middle;\n",
              "    }\n",
              "\n",
              "    .dataframe tbody tr th {\n",
              "        vertical-align: top;\n",
              "    }\n",
              "\n",
              "    .dataframe thead th {\n",
              "        text-align: right;\n",
              "    }\n",
              "</style>\n",
              "<table border=\"1\" class=\"dataframe\">\n",
              "  <thead>\n",
              "    <tr style=\"text-align: right;\">\n",
              "      <th></th>\n",
              "      <th>null count</th>\n",
              "      <th>% null</th>\n",
              "    </tr>\n",
              "  </thead>\n",
              "  <tbody>\n",
              "    <tr>\n",
              "      <th>parcelid</th>\n",
              "      <td>0</td>\n",
              "      <td>0.000</td>\n",
              "    </tr>\n",
              "    <tr>\n",
              "      <th>unitcnt</th>\n",
              "      <td>0</td>\n",
              "      <td>0.000</td>\n",
              "    </tr>\n",
              "    <tr>\n",
              "      <th>land_use_code</th>\n",
              "      <td>0</td>\n",
              "      <td>0.000</td>\n",
              "    </tr>\n",
              "    <tr>\n",
              "      <th>zoning_code</th>\n",
              "      <td>0</td>\n",
              "      <td>0.000</td>\n",
              "    </tr>\n",
              "    <tr>\n",
              "      <th>rawcensustractandblock</th>\n",
              "      <td>0</td>\n",
              "      <td>0.000</td>\n",
              "    </tr>\n",
              "    <tr>\n",
              "      <th>city</th>\n",
              "      <td>0</td>\n",
              "      <td>0.000</td>\n",
              "    </tr>\n",
              "    <tr>\n",
              "      <th>county</th>\n",
              "      <td>0</td>\n",
              "      <td>0.000</td>\n",
              "    </tr>\n",
              "    <tr>\n",
              "      <th>neighborhood</th>\n",
              "      <td>0</td>\n",
              "      <td>0.000</td>\n",
              "    </tr>\n",
              "    <tr>\n",
              "      <th>zipcode</th>\n",
              "      <td>0</td>\n",
              "      <td>0.000</td>\n",
              "    </tr>\n",
              "    <tr>\n",
              "      <th>roomcnt</th>\n",
              "      <td>0</td>\n",
              "      <td>0.000</td>\n",
              "    </tr>\n",
              "    <tr>\n",
              "      <th>storytypeid</th>\n",
              "      <td>0</td>\n",
              "      <td>0.000</td>\n",
              "    </tr>\n",
              "    <tr>\n",
              "      <th>material</th>\n",
              "      <td>0</td>\n",
              "      <td>0.000</td>\n",
              "    </tr>\n",
              "    <tr>\n",
              "      <th>patio_sqft</th>\n",
              "      <td>0</td>\n",
              "      <td>0.000</td>\n",
              "    </tr>\n",
              "    <tr>\n",
              "      <th>pool_without_spa</th>\n",
              "      <td>0</td>\n",
              "      <td>0.000</td>\n",
              "    </tr>\n",
              "    <tr>\n",
              "      <th>shed_sqft</th>\n",
              "      <td>0</td>\n",
              "      <td>0.000</td>\n",
              "    </tr>\n",
              "    <tr>\n",
              "      <th>numberofstories</th>\n",
              "      <td>0</td>\n",
              "      <td>0.000</td>\n",
              "    </tr>\n",
              "    <tr>\n",
              "      <th>fireplaceflag</th>\n",
              "      <td>0</td>\n",
              "      <td>0.000</td>\n",
              "    </tr>\n",
              "    <tr>\n",
              "      <th>tav_built</th>\n",
              "      <td>0</td>\n",
              "      <td>0.000</td>\n",
              "    </tr>\n",
              "    <tr>\n",
              "      <th>tax_assessed_value</th>\n",
              "      <td>0</td>\n",
              "      <td>0.000</td>\n",
              "    </tr>\n",
              "    <tr>\n",
              "      <th>assessmentyear</th>\n",
              "      <td>0</td>\n",
              "      <td>0.000</td>\n",
              "    </tr>\n",
              "    <tr>\n",
              "      <th>tav_land</th>\n",
              "      <td>0</td>\n",
              "      <td>0.000</td>\n",
              "    </tr>\n",
              "    <tr>\n",
              "      <th>property_tax</th>\n",
              "      <td>0</td>\n",
              "      <td>0.000</td>\n",
              "    </tr>\n",
              "    <tr>\n",
              "      <th>taxdelinquencyflag</th>\n",
              "      <td>0</td>\n",
              "      <td>0.000</td>\n",
              "    </tr>\n",
              "    <tr>\n",
              "      <th>taxdelinquencyyear</th>\n",
              "      <td>0</td>\n",
              "      <td>0.000</td>\n",
              "    </tr>\n",
              "    <tr>\n",
              "      <th>county_land_use_code</th>\n",
              "      <td>0</td>\n",
              "      <td>0.000</td>\n",
              "    </tr>\n",
              "    <tr>\n",
              "      <th>pool_with_spa</th>\n",
              "      <td>0</td>\n",
              "      <td>0.000</td>\n",
              "    </tr>\n",
              "    <tr>\n",
              "      <th>logerror</th>\n",
              "      <td>0</td>\n",
              "      <td>0.000</td>\n",
              "    </tr>\n",
              "    <tr>\n",
              "      <th>deck</th>\n",
              "      <td>0</td>\n",
              "      <td>0.000</td>\n",
              "    </tr>\n",
              "    <tr>\n",
              "      <th>transaction_month</th>\n",
              "      <td>0</td>\n",
              "      <td>0.000</td>\n",
              "    </tr>\n",
              "    <tr>\n",
              "      <th>transaction_day</th>\n",
              "      <td>0</td>\n",
              "      <td>0.000</td>\n",
              "    </tr>\n",
              "    <tr>\n",
              "      <th>transaction_quarter</th>\n",
              "      <td>0</td>\n",
              "      <td>0.000</td>\n",
              "    </tr>\n",
              "    <tr>\n",
              "      <th>aircon</th>\n",
              "      <td>0</td>\n",
              "      <td>0.000</td>\n",
              "    </tr>\n",
              "    <tr>\n",
              "      <th>architecture</th>\n",
              "      <td>0</td>\n",
              "      <td>0.000</td>\n",
              "    </tr>\n",
              "    <tr>\n",
              "      <th>basementsqft</th>\n",
              "      <td>0</td>\n",
              "      <td>0.000</td>\n",
              "    </tr>\n",
              "    <tr>\n",
              "      <th>bathroomcnt</th>\n",
              "      <td>0</td>\n",
              "      <td>0.000</td>\n",
              "    </tr>\n",
              "    <tr>\n",
              "      <th>bedroomcnt</th>\n",
              "      <td>0</td>\n",
              "      <td>0.000</td>\n",
              "    </tr>\n",
              "    <tr>\n",
              "      <th>framing</th>\n",
              "      <td>0</td>\n",
              "      <td>0.000</td>\n",
              "    </tr>\n",
              "    <tr>\n",
              "      <th>quality</th>\n",
              "      <td>0</td>\n",
              "      <td>0.000</td>\n",
              "    </tr>\n",
              "    <tr>\n",
              "      <th>home_sqft</th>\n",
              "      <td>0</td>\n",
              "      <td>0.000</td>\n",
              "    </tr>\n",
              "    <tr>\n",
              "      <th>poolsizesum</th>\n",
              "      <td>0</td>\n",
              "      <td>0.000</td>\n",
              "    </tr>\n",
              "    <tr>\n",
              "      <th>fips</th>\n",
              "      <td>0</td>\n",
              "      <td>0.000</td>\n",
              "    </tr>\n",
              "    <tr>\n",
              "      <th>fireplacecnt</th>\n",
              "      <td>0</td>\n",
              "      <td>0.000</td>\n",
              "    </tr>\n",
              "    <tr>\n",
              "      <th>garagecarcnt</th>\n",
              "      <td>0</td>\n",
              "      <td>0.000</td>\n",
              "    </tr>\n",
              "    <tr>\n",
              "      <th>garage_sqft</th>\n",
              "      <td>0</td>\n",
              "      <td>0.000</td>\n",
              "    </tr>\n",
              "    <tr>\n",
              "      <th>has_spa</th>\n",
              "      <td>0</td>\n",
              "      <td>0.000</td>\n",
              "    </tr>\n",
              "    <tr>\n",
              "      <th>heating</th>\n",
              "      <td>0</td>\n",
              "      <td>0.000</td>\n",
              "    </tr>\n",
              "    <tr>\n",
              "      <th>latitude</th>\n",
              "      <td>0</td>\n",
              "      <td>0.000</td>\n",
              "    </tr>\n",
              "    <tr>\n",
              "      <th>longitude</th>\n",
              "      <td>0</td>\n",
              "      <td>0.000</td>\n",
              "    </tr>\n",
              "    <tr>\n",
              "      <th>lot_sqft</th>\n",
              "      <td>0</td>\n",
              "      <td>0.000</td>\n",
              "    </tr>\n",
              "    <tr>\n",
              "      <th>poolcnt</th>\n",
              "      <td>0</td>\n",
              "      <td>0.000</td>\n",
              "    </tr>\n",
              "    <tr>\n",
              "      <th>age</th>\n",
              "      <td>0</td>\n",
              "      <td>0.000</td>\n",
              "    </tr>\n",
              "  </tbody>\n",
              "</table>\n",
              "</div>\n",
              "      <button class=\"colab-df-convert\" onclick=\"convertToInteractive('df-0dcc1e6e-acfd-4235-9d26-b0b8d3d6459f')\"\n",
              "              title=\"Convert this dataframe to an interactive table.\"\n",
              "              style=\"display:none;\">\n",
              "        \n",
              "  <svg xmlns=\"http://www.w3.org/2000/svg\" height=\"24px\"viewBox=\"0 0 24 24\"\n",
              "       width=\"24px\">\n",
              "    <path d=\"M0 0h24v24H0V0z\" fill=\"none\"/>\n",
              "    <path d=\"M18.56 5.44l.94 2.06.94-2.06 2.06-.94-2.06-.94-.94-2.06-.94 2.06-2.06.94zm-11 1L8.5 8.5l.94-2.06 2.06-.94-2.06-.94L8.5 2.5l-.94 2.06-2.06.94zm10 10l.94 2.06.94-2.06 2.06-.94-2.06-.94-.94-2.06-.94 2.06-2.06.94z\"/><path d=\"M17.41 7.96l-1.37-1.37c-.4-.4-.92-.59-1.43-.59-.52 0-1.04.2-1.43.59L10.3 9.45l-7.72 7.72c-.78.78-.78 2.05 0 2.83L4 21.41c.39.39.9.59 1.41.59.51 0 1.02-.2 1.41-.59l7.78-7.78 2.81-2.81c.8-.78.8-2.07 0-2.86zM5.41 20L4 18.59l7.72-7.72 1.47 1.35L5.41 20z\"/>\n",
              "  </svg>\n",
              "      </button>\n",
              "      \n",
              "  <style>\n",
              "    .colab-df-container {\n",
              "      display:flex;\n",
              "      flex-wrap:wrap;\n",
              "      gap: 12px;\n",
              "    }\n",
              "\n",
              "    .colab-df-convert {\n",
              "      background-color: #E8F0FE;\n",
              "      border: none;\n",
              "      border-radius: 50%;\n",
              "      cursor: pointer;\n",
              "      display: none;\n",
              "      fill: #1967D2;\n",
              "      height: 32px;\n",
              "      padding: 0 0 0 0;\n",
              "      width: 32px;\n",
              "    }\n",
              "\n",
              "    .colab-df-convert:hover {\n",
              "      background-color: #E2EBFA;\n",
              "      box-shadow: 0px 1px 2px rgba(60, 64, 67, 0.3), 0px 1px 3px 1px rgba(60, 64, 67, 0.15);\n",
              "      fill: #174EA6;\n",
              "    }\n",
              "\n",
              "    [theme=dark] .colab-df-convert {\n",
              "      background-color: #3B4455;\n",
              "      fill: #D2E3FC;\n",
              "    }\n",
              "\n",
              "    [theme=dark] .colab-df-convert:hover {\n",
              "      background-color: #434B5C;\n",
              "      box-shadow: 0px 1px 3px 1px rgba(0, 0, 0, 0.15);\n",
              "      filter: drop-shadow(0px 1px 2px rgba(0, 0, 0, 0.3));\n",
              "      fill: #FFFFFF;\n",
              "    }\n",
              "  </style>\n",
              "\n",
              "      <script>\n",
              "        const buttonEl =\n",
              "          document.querySelector('#df-0dcc1e6e-acfd-4235-9d26-b0b8d3d6459f button.colab-df-convert');\n",
              "        buttonEl.style.display =\n",
              "          google.colab.kernel.accessAllowed ? 'block' : 'none';\n",
              "\n",
              "        async function convertToInteractive(key) {\n",
              "          const element = document.querySelector('#df-0dcc1e6e-acfd-4235-9d26-b0b8d3d6459f');\n",
              "          const dataTable =\n",
              "            await google.colab.kernel.invokeFunction('convertToInteractive',\n",
              "                                                     [key], {});\n",
              "          if (!dataTable) return;\n",
              "\n",
              "          const docLinkHtml = 'Like what you see? Visit the ' +\n",
              "            '<a target=\"_blank\" href=https://colab.research.google.com/notebooks/data_table.ipynb>data table notebook</a>'\n",
              "            + ' to learn more about interactive tables.';\n",
              "          element.innerHTML = '';\n",
              "          dataTable['output_type'] = 'display_data';\n",
              "          await google.colab.output.renderOutput(dataTable, element);\n",
              "          const docLink = document.createElement('div');\n",
              "          docLink.innerHTML = docLinkHtml;\n",
              "          element.appendChild(docLink);\n",
              "        }\n",
              "      </script>\n",
              "    </div>\n",
              "  </div>\n",
              "  "
            ]
          },
          "metadata": {},
          "execution_count": 108
        }
      ]
    },
    {
      "cell_type": "code",
      "source": [
        "df16.columns"
      ],
      "metadata": {
        "colab": {
          "base_uri": "https://localhost:8080/"
        },
        "id": "o7mZ2l169Bdl",
        "outputId": "d9333141-80d9-4e7b-a6a4-bdbd006119b8"
      },
      "execution_count": 109,
      "outputs": [
        {
          "output_type": "execute_result",
          "data": {
            "text/plain": [
              "Index(['parcelid', 'logerror', 'transaction_month', 'transaction_day',\n",
              "       'transaction_quarter', 'aircon', 'architecture', 'basementsqft',\n",
              "       'bathroomcnt', 'bedroomcnt', 'framing', 'quality', 'deck', 'home_sqft',\n",
              "       'fips', 'fireplacecnt', 'garagecarcnt', 'garage_sqft', 'has_spa',\n",
              "       'heating', 'latitude', 'longitude', 'lot_sqft', 'poolcnt',\n",
              "       'poolsizesum', 'pool_with_spa', 'pool_without_spa',\n",
              "       'county_land_use_code', 'land_use_code', 'zoning_code',\n",
              "       'rawcensustractandblock', 'city', 'county', 'neighborhood', 'zipcode',\n",
              "       'roomcnt', 'storytypeid', 'material', 'unitcnt', 'patio_sqft',\n",
              "       'shed_sqft', 'numberofstories', 'fireplaceflag', 'tav_built',\n",
              "       'tax_assessed_value', 'assessmentyear', 'tav_land', 'property_tax',\n",
              "       'taxdelinquencyflag', 'taxdelinquencyyear', 'age'],\n",
              "      dtype='object')"
            ]
          },
          "metadata": {},
          "execution_count": 109
        }
      ]
    },
    {
      "cell_type": "code",
      "source": [
        "num_cols = ['bathroomcnt', 'bedroomcnt', 'quality', 'home_sqft', 'fireplacecnt', 'garagecarcnt',\n",
        "            'garage_sqft', 'latitude', 'longitude', 'lot_sqft', 'poolcnt', 'roomcnt', 'unitcnt',\n",
        "            'numberofstories','tav_built','tax_assessed_value','tav_land','property_tax','age']\n",
        "\n",
        "cat_cols = ['transaction_month', 'transaction_day','transaction_quarter','aircon',\n",
        "            'architecture', 'basementsqft', 'framing', 'deck','fips', 'heating',\n",
        "            'poolsizesum', 'county_land_use_code', 'land_use_code','zoning_code',\n",
        "            'rawcensustractandblock', 'city', 'county', 'neighborhood','zipcode',\n",
        "            'storytypeid', 'material', 'patio_sqft', 'shed_sqft','assessmentyear', 'taxdelinquencyyear']\n",
        "\n",
        "bool_cols = ['has_spa', 'pool_with_spa', 'pool_without_spa', 'fireplaceflag', 'taxdelinquencyflag']"
      ],
      "metadata": {
        "id": "BZINYW21aCpp"
      },
      "execution_count": 110,
      "outputs": []
    },
    {
      "cell_type": "code",
      "source": [
        "print('Num cols:', len(num_cols))\n",
        "print('Cat cols:', len(cat_cols))\n",
        "print('Bool cols:', len(bool_cols))\n",
        "print('Total cols:', len(df16.columns)-2) # don't count parcelid or logerror"
      ],
      "metadata": {
        "colab": {
          "base_uri": "https://localhost:8080/"
        },
        "id": "KLgJwqbTGn64",
        "outputId": "2169e665-228d-47f3-e991-825295390ccf"
      },
      "execution_count": 111,
      "outputs": [
        {
          "output_type": "stream",
          "name": "stdout",
          "text": [
            "Num cols: 19\n",
            "Cat cols: 25\n",
            "Bool cols: 5\n",
            "Total cols: 49\n"
          ]
        }
      ]
    },
    {
      "cell_type": "markdown",
      "source": [
        "# Save clean dataset"
      ],
      "metadata": {
        "id": "ICdz3MGL3itG"
      }
    },
    {
      "cell_type": "code",
      "source": [
        "from google.colab import files\n",
        "df16.to_csv('zillow16.csv', encoding = 'utf-8-sig', index='False') \n",
        "files.download('zillow16.csv')"
      ],
      "metadata": {
        "id": "avQsDNWTVeUB",
        "colab": {
          "base_uri": "https://localhost:8080/",
          "height": 17
        },
        "outputId": "493e144d-50a8-4808-a8b5-9daf9965d0b9"
      },
      "execution_count": 112,
      "outputs": [
        {
          "output_type": "display_data",
          "data": {
            "text/plain": [
              "<IPython.core.display.Javascript object>"
            ],
            "application/javascript": [
              "\n",
              "    async function download(id, filename, size) {\n",
              "      if (!google.colab.kernel.accessAllowed) {\n",
              "        return;\n",
              "      }\n",
              "      const div = document.createElement('div');\n",
              "      const label = document.createElement('label');\n",
              "      label.textContent = `Downloading \"${filename}\": `;\n",
              "      div.appendChild(label);\n",
              "      const progress = document.createElement('progress');\n",
              "      progress.max = size;\n",
              "      div.appendChild(progress);\n",
              "      document.body.appendChild(div);\n",
              "\n",
              "      const buffers = [];\n",
              "      let downloaded = 0;\n",
              "\n",
              "      const channel = await google.colab.kernel.comms.open(id);\n",
              "      // Send a message to notify the kernel that we're ready.\n",
              "      channel.send({})\n",
              "\n",
              "      for await (const message of channel.messages) {\n",
              "        // Send a message to notify the kernel that we're ready.\n",
              "        channel.send({})\n",
              "        if (message.buffers) {\n",
              "          for (const buffer of message.buffers) {\n",
              "            buffers.push(buffer);\n",
              "            downloaded += buffer.byteLength;\n",
              "            progress.value = downloaded;\n",
              "          }\n",
              "        }\n",
              "      }\n",
              "      const blob = new Blob(buffers, {type: 'application/binary'});\n",
              "      const a = document.createElement('a');\n",
              "      a.href = window.URL.createObjectURL(blob);\n",
              "      a.download = filename;\n",
              "      div.appendChild(a);\n",
              "      a.click();\n",
              "      div.remove();\n",
              "    }\n",
              "  "
            ]
          },
          "metadata": {}
        },
        {
          "output_type": "display_data",
          "data": {
            "text/plain": [
              "<IPython.core.display.Javascript object>"
            ],
            "application/javascript": [
              "download(\"download_681acb86-61ef-49e9-8335-ab2305ef1142\", \"zillow16.csv\", 37528093)"
            ]
          },
          "metadata": {}
        }
      ]
    }
  ]
}