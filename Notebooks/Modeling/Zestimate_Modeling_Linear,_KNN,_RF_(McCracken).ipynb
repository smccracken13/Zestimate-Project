{
  "cells": [
    {
      "cell_type": "markdown",
      "metadata": {
        "id": "view-in-github",
        "colab_type": "text"
      },
      "source": [
        "<a href=\"https://colab.research.google.com/github/smccracken13/Zestimate-Project/blob/main/Zestimate_Modeling_Linear%2C_KNN%2C_RF_(McCracken).ipynb\" target=\"_parent\"><img src=\"https://colab.research.google.com/assets/colab-badge.svg\" alt=\"Open In Colab\"/></a>"
      ]
    },
    {
      "cell_type": "markdown",
      "metadata": {
        "id": "3z6zerUH59zv"
      },
      "source": [
        "Pre-processing and Training Data Development\n",
        "\n",
        "The goals of this notebook are to:\n",
        "\n",
        "1. Create dummies for categorical data\n",
        "2. Split the data into train and test sets\n",
        "3. Scale the data\n",
        "4. Test out the following models: Linear Regression, KNN, Random Forest, XGBoost"
      ]
    },
    {
      "cell_type": "code",
      "execution_count": 1,
      "metadata": {
        "colab": {
          "base_uri": "https://localhost:8080/",
          "height": 74
        },
        "id": "DRwmd5WK6jqt",
        "outputId": "4dee788b-18e2-491c-9440-cc0b126c0f40"
      },
      "outputs": [
        {
          "output_type": "display_data",
          "data": {
            "text/plain": [
              "<IPython.core.display.HTML object>"
            ],
            "text/html": [
              "\n",
              "     <input type=\"file\" id=\"files-9862495b-8060-44a8-98c8-764ca5993bb5\" name=\"files[]\" multiple disabled\n",
              "        style=\"border:none\" />\n",
              "     <output id=\"result-9862495b-8060-44a8-98c8-764ca5993bb5\">\n",
              "      Upload widget is only available when the cell has been executed in the\n",
              "      current browser session. Please rerun this cell to enable.\n",
              "      </output>\n",
              "      <script>// Copyright 2017 Google LLC\n",
              "//\n",
              "// Licensed under the Apache License, Version 2.0 (the \"License\");\n",
              "// you may not use this file except in compliance with the License.\n",
              "// You may obtain a copy of the License at\n",
              "//\n",
              "//      http://www.apache.org/licenses/LICENSE-2.0\n",
              "//\n",
              "// Unless required by applicable law or agreed to in writing, software\n",
              "// distributed under the License is distributed on an \"AS IS\" BASIS,\n",
              "// WITHOUT WARRANTIES OR CONDITIONS OF ANY KIND, either express or implied.\n",
              "// See the License for the specific language governing permissions and\n",
              "// limitations under the License.\n",
              "\n",
              "/**\n",
              " * @fileoverview Helpers for google.colab Python module.\n",
              " */\n",
              "(function(scope) {\n",
              "function span(text, styleAttributes = {}) {\n",
              "  const element = document.createElement('span');\n",
              "  element.textContent = text;\n",
              "  for (const key of Object.keys(styleAttributes)) {\n",
              "    element.style[key] = styleAttributes[key];\n",
              "  }\n",
              "  return element;\n",
              "}\n",
              "\n",
              "// Max number of bytes which will be uploaded at a time.\n",
              "const MAX_PAYLOAD_SIZE = 100 * 1024;\n",
              "\n",
              "function _uploadFiles(inputId, outputId) {\n",
              "  const steps = uploadFilesStep(inputId, outputId);\n",
              "  const outputElement = document.getElementById(outputId);\n",
              "  // Cache steps on the outputElement to make it available for the next call\n",
              "  // to uploadFilesContinue from Python.\n",
              "  outputElement.steps = steps;\n",
              "\n",
              "  return _uploadFilesContinue(outputId);\n",
              "}\n",
              "\n",
              "// This is roughly an async generator (not supported in the browser yet),\n",
              "// where there are multiple asynchronous steps and the Python side is going\n",
              "// to poll for completion of each step.\n",
              "// This uses a Promise to block the python side on completion of each step,\n",
              "// then passes the result of the previous step as the input to the next step.\n",
              "function _uploadFilesContinue(outputId) {\n",
              "  const outputElement = document.getElementById(outputId);\n",
              "  const steps = outputElement.steps;\n",
              "\n",
              "  const next = steps.next(outputElement.lastPromiseValue);\n",
              "  return Promise.resolve(next.value.promise).then((value) => {\n",
              "    // Cache the last promise value to make it available to the next\n",
              "    // step of the generator.\n",
              "    outputElement.lastPromiseValue = value;\n",
              "    return next.value.response;\n",
              "  });\n",
              "}\n",
              "\n",
              "/**\n",
              " * Generator function which is called between each async step of the upload\n",
              " * process.\n",
              " * @param {string} inputId Element ID of the input file picker element.\n",
              " * @param {string} outputId Element ID of the output display.\n",
              " * @return {!Iterable<!Object>} Iterable of next steps.\n",
              " */\n",
              "function* uploadFilesStep(inputId, outputId) {\n",
              "  const inputElement = document.getElementById(inputId);\n",
              "  inputElement.disabled = false;\n",
              "\n",
              "  const outputElement = document.getElementById(outputId);\n",
              "  outputElement.innerHTML = '';\n",
              "\n",
              "  const pickedPromise = new Promise((resolve) => {\n",
              "    inputElement.addEventListener('change', (e) => {\n",
              "      resolve(e.target.files);\n",
              "    });\n",
              "  });\n",
              "\n",
              "  const cancel = document.createElement('button');\n",
              "  inputElement.parentElement.appendChild(cancel);\n",
              "  cancel.textContent = 'Cancel upload';\n",
              "  const cancelPromise = new Promise((resolve) => {\n",
              "    cancel.onclick = () => {\n",
              "      resolve(null);\n",
              "    };\n",
              "  });\n",
              "\n",
              "  // Wait for the user to pick the files.\n",
              "  const files = yield {\n",
              "    promise: Promise.race([pickedPromise, cancelPromise]),\n",
              "    response: {\n",
              "      action: 'starting',\n",
              "    }\n",
              "  };\n",
              "\n",
              "  cancel.remove();\n",
              "\n",
              "  // Disable the input element since further picks are not allowed.\n",
              "  inputElement.disabled = true;\n",
              "\n",
              "  if (!files) {\n",
              "    return {\n",
              "      response: {\n",
              "        action: 'complete',\n",
              "      }\n",
              "    };\n",
              "  }\n",
              "\n",
              "  for (const file of files) {\n",
              "    const li = document.createElement('li');\n",
              "    li.append(span(file.name, {fontWeight: 'bold'}));\n",
              "    li.append(span(\n",
              "        `(${file.type || 'n/a'}) - ${file.size} bytes, ` +\n",
              "        `last modified: ${\n",
              "            file.lastModifiedDate ? file.lastModifiedDate.toLocaleDateString() :\n",
              "                                    'n/a'} - `));\n",
              "    const percent = span('0% done');\n",
              "    li.appendChild(percent);\n",
              "\n",
              "    outputElement.appendChild(li);\n",
              "\n",
              "    const fileDataPromise = new Promise((resolve) => {\n",
              "      const reader = new FileReader();\n",
              "      reader.onload = (e) => {\n",
              "        resolve(e.target.result);\n",
              "      };\n",
              "      reader.readAsArrayBuffer(file);\n",
              "    });\n",
              "    // Wait for the data to be ready.\n",
              "    let fileData = yield {\n",
              "      promise: fileDataPromise,\n",
              "      response: {\n",
              "        action: 'continue',\n",
              "      }\n",
              "    };\n",
              "\n",
              "    // Use a chunked sending to avoid message size limits. See b/62115660.\n",
              "    let position = 0;\n",
              "    do {\n",
              "      const length = Math.min(fileData.byteLength - position, MAX_PAYLOAD_SIZE);\n",
              "      const chunk = new Uint8Array(fileData, position, length);\n",
              "      position += length;\n",
              "\n",
              "      const base64 = btoa(String.fromCharCode.apply(null, chunk));\n",
              "      yield {\n",
              "        response: {\n",
              "          action: 'append',\n",
              "          file: file.name,\n",
              "          data: base64,\n",
              "        },\n",
              "      };\n",
              "\n",
              "      let percentDone = fileData.byteLength === 0 ?\n",
              "          100 :\n",
              "          Math.round((position / fileData.byteLength) * 100);\n",
              "      percent.textContent = `${percentDone}% done`;\n",
              "\n",
              "    } while (position < fileData.byteLength);\n",
              "  }\n",
              "\n",
              "  // All done.\n",
              "  yield {\n",
              "    response: {\n",
              "      action: 'complete',\n",
              "    }\n",
              "  };\n",
              "}\n",
              "\n",
              "scope.google = scope.google || {};\n",
              "scope.google.colab = scope.google.colab || {};\n",
              "scope.google.colab._files = {\n",
              "  _uploadFiles,\n",
              "  _uploadFilesContinue,\n",
              "};\n",
              "})(self);\n",
              "</script> "
            ]
          },
          "metadata": {}
        },
        {
          "output_type": "stream",
          "name": "stdout",
          "text": [
            "Saving zillow_clean.csv to zillow_clean.csv\n"
          ]
        }
      ],
      "source": [
        "from google.colab import files\n",
        "# load zillow_clean.csv\n",
        "files.upload()"
      ]
    },
    {
      "cell_type": "code",
      "execution_count": 2,
      "metadata": {
        "id": "B-1ufwjY53k_"
      },
      "outputs": [],
      "source": [
        "import pandas as pd\n",
        "import numpy as np\n",
        "import matplotlib.pyplot as plt\n",
        "import seaborn as sns\n",
        "from sklearn.model_selection import train_test_split\n",
        "from sklearn.preprocessing import StandardScaler"
      ]
    },
    {
      "cell_type": "code",
      "execution_count": 3,
      "metadata": {
        "id": "QgXfv4hH6swT"
      },
      "outputs": [],
      "source": [
        "df = pd.read_csv('zillow_clean.csv', low_memory=False, index_col = 'Unnamed: 0')"
      ]
    },
    {
      "cell_type": "code",
      "execution_count": 4,
      "metadata": {
        "id": "qV6dgZMor5-r"
      },
      "outputs": [],
      "source": [
        "# Remove absolute log error column\n",
        "df.drop(columns=['fips', 'abs_log_error'], inplace = True)"
      ]
    },
    {
      "cell_type": "code",
      "execution_count": 5,
      "metadata": {
        "colab": {
          "base_uri": "https://localhost:8080/",
          "height": 623
        },
        "id": "-Yh_yWyl7P7w",
        "outputId": "d36ca6f5-a07e-4867-aaa0-ffd4b065ed9f"
      },
      "outputs": [
        {
          "output_type": "execute_result",
          "data": {
            "text/plain": [
              "          logerror transaction_month  transaction_day transaction_quarter  \\\n",
              "parcelid                                                                    \n",
              "11016594    0.0276               Jan                1                 1st   \n",
              "14366692   -0.1684               Jan                1                 1st   \n",
              "12098116   -0.0040               Jan                1                 1st   \n",
              "12643413    0.0218               Jan                2                 1st   \n",
              "14432541   -0.0050               Jan                2                 1st   \n",
              "...            ...               ...              ...                 ...   \n",
              "10774160   -0.0356               Dec               30                 4th   \n",
              "12046695    0.0070               Dec               30                 4th   \n",
              "12995401   -0.2679               Dec               30                 4th   \n",
              "11402105    0.0602               Dec               30                 4th   \n",
              "12566293    0.4207               Dec               30                 4th   \n",
              "\n",
              "             aircon architecture basementsqft  bathroomcnt  bedroomcnt  \\\n",
              "parcelid                                                                 \n",
              "11016594    Central    not given    not given          2.0         3.0   \n",
              "14366692  not given    not given    not given          3.5         4.0   \n",
              "12098116    Central    not given    not given          3.0         2.0   \n",
              "12643413    Central    not given    not given          2.0         2.0   \n",
              "14432541  not given    not given    not given          2.5         4.0   \n",
              "...             ...          ...          ...          ...         ...   \n",
              "10774160    Central    not given    not given          1.0         1.0   \n",
              "12046695  not given    not given    not given          3.0         3.0   \n",
              "12995401  not given    not given    not given          2.0         4.0   \n",
              "11402105  not given    not given    not given          2.0         2.0   \n",
              "12566293  not given    not given    not given          1.0         3.0   \n",
              "\n",
              "            framing  ...  numberofstories fireplaceflag  tav_built  \\\n",
              "parcelid             ...                                             \n",
              "11016594  not given  ...              1.0     not given   122754.0   \n",
              "14366692  not given  ...              1.0     not given   346458.0   \n",
              "12098116  not given  ...              1.0     not given    61994.0   \n",
              "12643413  not given  ...              1.0     not given   171518.0   \n",
              "14432541  not given  ...              2.0     not given   169574.0   \n",
              "...             ...  ...              ...           ...        ...   \n",
              "10774160  not given  ...              1.0     not given    43800.0   \n",
              "12046695  not given  ...              1.0     not given   117893.0   \n",
              "12995401  not given  ...              1.0     not given    22008.0   \n",
              "11402105  not given  ...              1.0     not given   132991.0   \n",
              "12566293  not given  ...              1.0     not given    66258.0   \n",
              "\n",
              "          tax_assessed_value  assessmentyear  tav_land property_tax  \\\n",
              "parcelid                                                              \n",
              "11016594            360170.0          2015.0  237416.0      6735.88   \n",
              "14366692            585529.0          2015.0  239071.0     10153.02   \n",
              "12098116            119906.0          2015.0   57912.0     11484.48   \n",
              "12643413            244880.0          2015.0   73362.0      3048.74   \n",
              "14432541            434551.0          2015.0  264977.0      5488.96   \n",
              "...                      ...             ...       ...          ...   \n",
              "10774160            191000.0          2015.0  147200.0      2495.24   \n",
              "12046695            161111.0          2015.0   43218.0      1886.54   \n",
              "12995401             38096.0          2015.0   16088.0      1925.70   \n",
              "11402105            165869.0          2015.0   32878.0      2285.57   \n",
              "12566293            163037.0          2015.0   96779.0      2560.96   \n",
              "\n",
              "         taxdelinquencyflag  taxdelinquencyyear   age  \n",
              "parcelid                                               \n",
              "11016594                0.0      not applicable  57.0  \n",
              "14366692                0.0      not applicable   2.0  \n",
              "12098116                0.0      not applicable  76.0  \n",
              "12643413                0.0      not applicable  29.0  \n",
              "14432541                0.0      not applicable  35.0  \n",
              "...                     ...                 ...   ...  \n",
              "10774160                0.0      not applicable  37.0  \n",
              "12046695                0.0      not applicable  51.0  \n",
              "12995401                1.0              2014.0  92.0  \n",
              "11402105                0.0      not applicable  35.0  \n",
              "12566293                0.0      not applicable  69.0  \n",
              "\n",
              "[90275 rows x 48 columns]"
            ],
            "text/html": [
              "\n",
              "  <div id=\"df-5ee0ad36-000e-4dc2-ae69-5d5b771a34c2\">\n",
              "    <div class=\"colab-df-container\">\n",
              "      <div>\n",
              "<style scoped>\n",
              "    .dataframe tbody tr th:only-of-type {\n",
              "        vertical-align: middle;\n",
              "    }\n",
              "\n",
              "    .dataframe tbody tr th {\n",
              "        vertical-align: top;\n",
              "    }\n",
              "\n",
              "    .dataframe thead th {\n",
              "        text-align: right;\n",
              "    }\n",
              "</style>\n",
              "<table border=\"1\" class=\"dataframe\">\n",
              "  <thead>\n",
              "    <tr style=\"text-align: right;\">\n",
              "      <th></th>\n",
              "      <th>logerror</th>\n",
              "      <th>transaction_month</th>\n",
              "      <th>transaction_day</th>\n",
              "      <th>transaction_quarter</th>\n",
              "      <th>aircon</th>\n",
              "      <th>architecture</th>\n",
              "      <th>basementsqft</th>\n",
              "      <th>bathroomcnt</th>\n",
              "      <th>bedroomcnt</th>\n",
              "      <th>framing</th>\n",
              "      <th>...</th>\n",
              "      <th>numberofstories</th>\n",
              "      <th>fireplaceflag</th>\n",
              "      <th>tav_built</th>\n",
              "      <th>tax_assessed_value</th>\n",
              "      <th>assessmentyear</th>\n",
              "      <th>tav_land</th>\n",
              "      <th>property_tax</th>\n",
              "      <th>taxdelinquencyflag</th>\n",
              "      <th>taxdelinquencyyear</th>\n",
              "      <th>age</th>\n",
              "    </tr>\n",
              "    <tr>\n",
              "      <th>parcelid</th>\n",
              "      <th></th>\n",
              "      <th></th>\n",
              "      <th></th>\n",
              "      <th></th>\n",
              "      <th></th>\n",
              "      <th></th>\n",
              "      <th></th>\n",
              "      <th></th>\n",
              "      <th></th>\n",
              "      <th></th>\n",
              "      <th></th>\n",
              "      <th></th>\n",
              "      <th></th>\n",
              "      <th></th>\n",
              "      <th></th>\n",
              "      <th></th>\n",
              "      <th></th>\n",
              "      <th></th>\n",
              "      <th></th>\n",
              "      <th></th>\n",
              "      <th></th>\n",
              "    </tr>\n",
              "  </thead>\n",
              "  <tbody>\n",
              "    <tr>\n",
              "      <th>11016594</th>\n",
              "      <td>0.0276</td>\n",
              "      <td>Jan</td>\n",
              "      <td>1</td>\n",
              "      <td>1st</td>\n",
              "      <td>Central</td>\n",
              "      <td>not given</td>\n",
              "      <td>not given</td>\n",
              "      <td>2.0</td>\n",
              "      <td>3.0</td>\n",
              "      <td>not given</td>\n",
              "      <td>...</td>\n",
              "      <td>1.0</td>\n",
              "      <td>not given</td>\n",
              "      <td>122754.0</td>\n",
              "      <td>360170.0</td>\n",
              "      <td>2015.0</td>\n",
              "      <td>237416.0</td>\n",
              "      <td>6735.88</td>\n",
              "      <td>0.0</td>\n",
              "      <td>not applicable</td>\n",
              "      <td>57.0</td>\n",
              "    </tr>\n",
              "    <tr>\n",
              "      <th>14366692</th>\n",
              "      <td>-0.1684</td>\n",
              "      <td>Jan</td>\n",
              "      <td>1</td>\n",
              "      <td>1st</td>\n",
              "      <td>not given</td>\n",
              "      <td>not given</td>\n",
              "      <td>not given</td>\n",
              "      <td>3.5</td>\n",
              "      <td>4.0</td>\n",
              "      <td>not given</td>\n",
              "      <td>...</td>\n",
              "      <td>1.0</td>\n",
              "      <td>not given</td>\n",
              "      <td>346458.0</td>\n",
              "      <td>585529.0</td>\n",
              "      <td>2015.0</td>\n",
              "      <td>239071.0</td>\n",
              "      <td>10153.02</td>\n",
              "      <td>0.0</td>\n",
              "      <td>not applicable</td>\n",
              "      <td>2.0</td>\n",
              "    </tr>\n",
              "    <tr>\n",
              "      <th>12098116</th>\n",
              "      <td>-0.0040</td>\n",
              "      <td>Jan</td>\n",
              "      <td>1</td>\n",
              "      <td>1st</td>\n",
              "      <td>Central</td>\n",
              "      <td>not given</td>\n",
              "      <td>not given</td>\n",
              "      <td>3.0</td>\n",
              "      <td>2.0</td>\n",
              "      <td>not given</td>\n",
              "      <td>...</td>\n",
              "      <td>1.0</td>\n",
              "      <td>not given</td>\n",
              "      <td>61994.0</td>\n",
              "      <td>119906.0</td>\n",
              "      <td>2015.0</td>\n",
              "      <td>57912.0</td>\n",
              "      <td>11484.48</td>\n",
              "      <td>0.0</td>\n",
              "      <td>not applicable</td>\n",
              "      <td>76.0</td>\n",
              "    </tr>\n",
              "    <tr>\n",
              "      <th>12643413</th>\n",
              "      <td>0.0218</td>\n",
              "      <td>Jan</td>\n",
              "      <td>2</td>\n",
              "      <td>1st</td>\n",
              "      <td>Central</td>\n",
              "      <td>not given</td>\n",
              "      <td>not given</td>\n",
              "      <td>2.0</td>\n",
              "      <td>2.0</td>\n",
              "      <td>not given</td>\n",
              "      <td>...</td>\n",
              "      <td>1.0</td>\n",
              "      <td>not given</td>\n",
              "      <td>171518.0</td>\n",
              "      <td>244880.0</td>\n",
              "      <td>2015.0</td>\n",
              "      <td>73362.0</td>\n",
              "      <td>3048.74</td>\n",
              "      <td>0.0</td>\n",
              "      <td>not applicable</td>\n",
              "      <td>29.0</td>\n",
              "    </tr>\n",
              "    <tr>\n",
              "      <th>14432541</th>\n",
              "      <td>-0.0050</td>\n",
              "      <td>Jan</td>\n",
              "      <td>2</td>\n",
              "      <td>1st</td>\n",
              "      <td>not given</td>\n",
              "      <td>not given</td>\n",
              "      <td>not given</td>\n",
              "      <td>2.5</td>\n",
              "      <td>4.0</td>\n",
              "      <td>not given</td>\n",
              "      <td>...</td>\n",
              "      <td>2.0</td>\n",
              "      <td>not given</td>\n",
              "      <td>169574.0</td>\n",
              "      <td>434551.0</td>\n",
              "      <td>2015.0</td>\n",
              "      <td>264977.0</td>\n",
              "      <td>5488.96</td>\n",
              "      <td>0.0</td>\n",
              "      <td>not applicable</td>\n",
              "      <td>35.0</td>\n",
              "    </tr>\n",
              "    <tr>\n",
              "      <th>...</th>\n",
              "      <td>...</td>\n",
              "      <td>...</td>\n",
              "      <td>...</td>\n",
              "      <td>...</td>\n",
              "      <td>...</td>\n",
              "      <td>...</td>\n",
              "      <td>...</td>\n",
              "      <td>...</td>\n",
              "      <td>...</td>\n",
              "      <td>...</td>\n",
              "      <td>...</td>\n",
              "      <td>...</td>\n",
              "      <td>...</td>\n",
              "      <td>...</td>\n",
              "      <td>...</td>\n",
              "      <td>...</td>\n",
              "      <td>...</td>\n",
              "      <td>...</td>\n",
              "      <td>...</td>\n",
              "      <td>...</td>\n",
              "      <td>...</td>\n",
              "    </tr>\n",
              "    <tr>\n",
              "      <th>10774160</th>\n",
              "      <td>-0.0356</td>\n",
              "      <td>Dec</td>\n",
              "      <td>30</td>\n",
              "      <td>4th</td>\n",
              "      <td>Central</td>\n",
              "      <td>not given</td>\n",
              "      <td>not given</td>\n",
              "      <td>1.0</td>\n",
              "      <td>1.0</td>\n",
              "      <td>not given</td>\n",
              "      <td>...</td>\n",
              "      <td>1.0</td>\n",
              "      <td>not given</td>\n",
              "      <td>43800.0</td>\n",
              "      <td>191000.0</td>\n",
              "      <td>2015.0</td>\n",
              "      <td>147200.0</td>\n",
              "      <td>2495.24</td>\n",
              "      <td>0.0</td>\n",
              "      <td>not applicable</td>\n",
              "      <td>37.0</td>\n",
              "    </tr>\n",
              "    <tr>\n",
              "      <th>12046695</th>\n",
              "      <td>0.0070</td>\n",
              "      <td>Dec</td>\n",
              "      <td>30</td>\n",
              "      <td>4th</td>\n",
              "      <td>not given</td>\n",
              "      <td>not given</td>\n",
              "      <td>not given</td>\n",
              "      <td>3.0</td>\n",
              "      <td>3.0</td>\n",
              "      <td>not given</td>\n",
              "      <td>...</td>\n",
              "      <td>1.0</td>\n",
              "      <td>not given</td>\n",
              "      <td>117893.0</td>\n",
              "      <td>161111.0</td>\n",
              "      <td>2015.0</td>\n",
              "      <td>43218.0</td>\n",
              "      <td>1886.54</td>\n",
              "      <td>0.0</td>\n",
              "      <td>not applicable</td>\n",
              "      <td>51.0</td>\n",
              "    </tr>\n",
              "    <tr>\n",
              "      <th>12995401</th>\n",
              "      <td>-0.2679</td>\n",
              "      <td>Dec</td>\n",
              "      <td>30</td>\n",
              "      <td>4th</td>\n",
              "      <td>not given</td>\n",
              "      <td>not given</td>\n",
              "      <td>not given</td>\n",
              "      <td>2.0</td>\n",
              "      <td>4.0</td>\n",
              "      <td>not given</td>\n",
              "      <td>...</td>\n",
              "      <td>1.0</td>\n",
              "      <td>not given</td>\n",
              "      <td>22008.0</td>\n",
              "      <td>38096.0</td>\n",
              "      <td>2015.0</td>\n",
              "      <td>16088.0</td>\n",
              "      <td>1925.70</td>\n",
              "      <td>1.0</td>\n",
              "      <td>2014.0</td>\n",
              "      <td>92.0</td>\n",
              "    </tr>\n",
              "    <tr>\n",
              "      <th>11402105</th>\n",
              "      <td>0.0602</td>\n",
              "      <td>Dec</td>\n",
              "      <td>30</td>\n",
              "      <td>4th</td>\n",
              "      <td>not given</td>\n",
              "      <td>not given</td>\n",
              "      <td>not given</td>\n",
              "      <td>2.0</td>\n",
              "      <td>2.0</td>\n",
              "      <td>not given</td>\n",
              "      <td>...</td>\n",
              "      <td>1.0</td>\n",
              "      <td>not given</td>\n",
              "      <td>132991.0</td>\n",
              "      <td>165869.0</td>\n",
              "      <td>2015.0</td>\n",
              "      <td>32878.0</td>\n",
              "      <td>2285.57</td>\n",
              "      <td>0.0</td>\n",
              "      <td>not applicable</td>\n",
              "      <td>35.0</td>\n",
              "    </tr>\n",
              "    <tr>\n",
              "      <th>12566293</th>\n",
              "      <td>0.4207</td>\n",
              "      <td>Dec</td>\n",
              "      <td>30</td>\n",
              "      <td>4th</td>\n",
              "      <td>not given</td>\n",
              "      <td>not given</td>\n",
              "      <td>not given</td>\n",
              "      <td>1.0</td>\n",
              "      <td>3.0</td>\n",
              "      <td>not given</td>\n",
              "      <td>...</td>\n",
              "      <td>1.0</td>\n",
              "      <td>not given</td>\n",
              "      <td>66258.0</td>\n",
              "      <td>163037.0</td>\n",
              "      <td>2015.0</td>\n",
              "      <td>96779.0</td>\n",
              "      <td>2560.96</td>\n",
              "      <td>0.0</td>\n",
              "      <td>not applicable</td>\n",
              "      <td>69.0</td>\n",
              "    </tr>\n",
              "  </tbody>\n",
              "</table>\n",
              "<p>90275 rows × 48 columns</p>\n",
              "</div>\n",
              "      <button class=\"colab-df-convert\" onclick=\"convertToInteractive('df-5ee0ad36-000e-4dc2-ae69-5d5b771a34c2')\"\n",
              "              title=\"Convert this dataframe to an interactive table.\"\n",
              "              style=\"display:none;\">\n",
              "        \n",
              "  <svg xmlns=\"http://www.w3.org/2000/svg\" height=\"24px\"viewBox=\"0 0 24 24\"\n",
              "       width=\"24px\">\n",
              "    <path d=\"M0 0h24v24H0V0z\" fill=\"none\"/>\n",
              "    <path d=\"M18.56 5.44l.94 2.06.94-2.06 2.06-.94-2.06-.94-.94-2.06-.94 2.06-2.06.94zm-11 1L8.5 8.5l.94-2.06 2.06-.94-2.06-.94L8.5 2.5l-.94 2.06-2.06.94zm10 10l.94 2.06.94-2.06 2.06-.94-2.06-.94-.94-2.06-.94 2.06-2.06.94z\"/><path d=\"M17.41 7.96l-1.37-1.37c-.4-.4-.92-.59-1.43-.59-.52 0-1.04.2-1.43.59L10.3 9.45l-7.72 7.72c-.78.78-.78 2.05 0 2.83L4 21.41c.39.39.9.59 1.41.59.51 0 1.02-.2 1.41-.59l7.78-7.78 2.81-2.81c.8-.78.8-2.07 0-2.86zM5.41 20L4 18.59l7.72-7.72 1.47 1.35L5.41 20z\"/>\n",
              "  </svg>\n",
              "      </button>\n",
              "      \n",
              "  <style>\n",
              "    .colab-df-container {\n",
              "      display:flex;\n",
              "      flex-wrap:wrap;\n",
              "      gap: 12px;\n",
              "    }\n",
              "\n",
              "    .colab-df-convert {\n",
              "      background-color: #E8F0FE;\n",
              "      border: none;\n",
              "      border-radius: 50%;\n",
              "      cursor: pointer;\n",
              "      display: none;\n",
              "      fill: #1967D2;\n",
              "      height: 32px;\n",
              "      padding: 0 0 0 0;\n",
              "      width: 32px;\n",
              "    }\n",
              "\n",
              "    .colab-df-convert:hover {\n",
              "      background-color: #E2EBFA;\n",
              "      box-shadow: 0px 1px 2px rgba(60, 64, 67, 0.3), 0px 1px 3px 1px rgba(60, 64, 67, 0.15);\n",
              "      fill: #174EA6;\n",
              "    }\n",
              "\n",
              "    [theme=dark] .colab-df-convert {\n",
              "      background-color: #3B4455;\n",
              "      fill: #D2E3FC;\n",
              "    }\n",
              "\n",
              "    [theme=dark] .colab-df-convert:hover {\n",
              "      background-color: #434B5C;\n",
              "      box-shadow: 0px 1px 3px 1px rgba(0, 0, 0, 0.15);\n",
              "      filter: drop-shadow(0px 1px 2px rgba(0, 0, 0, 0.3));\n",
              "      fill: #FFFFFF;\n",
              "    }\n",
              "  </style>\n",
              "\n",
              "      <script>\n",
              "        const buttonEl =\n",
              "          document.querySelector('#df-5ee0ad36-000e-4dc2-ae69-5d5b771a34c2 button.colab-df-convert');\n",
              "        buttonEl.style.display =\n",
              "          google.colab.kernel.accessAllowed ? 'block' : 'none';\n",
              "\n",
              "        async function convertToInteractive(key) {\n",
              "          const element = document.querySelector('#df-5ee0ad36-000e-4dc2-ae69-5d5b771a34c2');\n",
              "          const dataTable =\n",
              "            await google.colab.kernel.invokeFunction('convertToInteractive',\n",
              "                                                     [key], {});\n",
              "          if (!dataTable) return;\n",
              "\n",
              "          const docLinkHtml = 'Like what you see? Visit the ' +\n",
              "            '<a target=\"_blank\" href=https://colab.research.google.com/notebooks/data_table.ipynb>data table notebook</a>'\n",
              "            + ' to learn more about interactive tables.';\n",
              "          element.innerHTML = '';\n",
              "          dataTable['output_type'] = 'display_data';\n",
              "          await google.colab.output.renderOutput(dataTable, element);\n",
              "          const docLink = document.createElement('div');\n",
              "          docLink.innerHTML = docLinkHtml;\n",
              "          element.appendChild(docLink);\n",
              "        }\n",
              "      </script>\n",
              "    </div>\n",
              "  </div>\n",
              "  "
            ]
          },
          "metadata": {},
          "execution_count": 5
        }
      ],
      "source": [
        "# set index to parcelid\n",
        "df.set_index('parcelid')"
      ]
    },
    {
      "cell_type": "markdown",
      "metadata": {
        "id": "AKiFw2Cw7S8u"
      },
      "source": [
        "# One-hot encoding"
      ]
    },
    {
      "cell_type": "code",
      "execution_count": 6,
      "metadata": {
        "id": "8zE6X31P65W9"
      },
      "outputs": [],
      "source": [
        "# get list of categorical columns\n",
        "cat_cols = ['transaction_month', 'transaction_day','transaction_quarter','aircon',\n",
        "            'architecture', 'basementsqft', 'framing', 'deck', 'heating',\n",
        "            'poolsizesum', 'county_land_use_code', 'land_use_code','zoning_code',\n",
        "            'city', 'county', 'neighborhood','zipcode', 'storytypeid', 'material',\n",
        "            'patio_sqft', 'shed_sqft','assessmentyear', 'taxdelinquencyyear','has_spa',\n",
        "            'pool_with_spa', 'pool_without_spa', 'fireplaceflag']\n",
        "\n",
        "prefix_list = ['tm', 'td', 'tq', 'air', 'arch', 'bsqft', 'fram', 'deck', 'heat',\n",
        "               'poolsize', 'county_lu_code', 'lu_code', 'zoning', 'city',\n",
        "               'county', 'neigh', 'zip', 'storyid', 'material', 'patiosqft', 'shedsqft',\n",
        "               'assessyear', 'taxdelyear', 'has_spa', 'pool_with_spa', 'pool_without_spa', 'fireplaceflag']\n",
        "\n",
        "prefix_dict = dict(zip(cat_cols, prefix_list))"
      ]
    },
    {
      "cell_type": "code",
      "execution_count": 7,
      "metadata": {
        "colab": {
          "base_uri": "https://localhost:8080/"
        },
        "id": "v-329PTlwwqh",
        "outputId": "7c545472-970d-4eb0-dfa0-5af4a1f1e0ad"
      },
      "outputs": [
        {
          "output_type": "stream",
          "name": "stdout",
          "text": [
            "Index(['aircon', 'architecture', 'basementsqft', 'framing', 'deck', 'has_spa',\n",
            "       'heating', 'poolsizesum', 'pool_with_spa', 'pool_without_spa',\n",
            "       'zoning_code', 'city', 'neighborhood', 'storytypeid', 'material',\n",
            "       'patio_sqft', 'shed_sqft', 'fireplaceflag'],\n",
            "      dtype='object')\n"
          ]
        }
      ],
      "source": [
        "# Identify columns that have 'not given' to make sure the get one-hot encoded\n",
        "not_given_cols = df.columns[df.isin(['not given']).any()]\n",
        "print(not_given_cols)"
      ]
    },
    {
      "cell_type": "code",
      "execution_count": 8,
      "metadata": {
        "colab": {
          "base_uri": "https://localhost:8080/"
        },
        "id": "evcz4htk7nWs",
        "outputId": "8ae0b20a-c769-4739-9c89-ac3ce0108a18"
      },
      "outputs": [
        {
          "output_type": "stream",
          "name": "stdout",
          "text": [
            "984\n"
          ]
        }
      ],
      "source": [
        "# one-hot encode cat cols\n",
        "df = pd.get_dummies(df, columns = cat_cols, prefix= prefix_dict, drop_first=True)\n",
        "print(len(df.columns))"
      ]
    },
    {
      "cell_type": "markdown",
      "metadata": {
        "id": "aPxEVkg69nbR"
      },
      "source": [
        "# Train and Test Split"
      ]
    },
    {
      "cell_type": "code",
      "execution_count": 9,
      "metadata": {
        "id": "nnWY4oJH9rkr"
      },
      "outputs": [],
      "source": [
        "# Create train_test_split\n",
        "X = df.loc[:, df.columns != 'logerror']\n",
        "y = df['logerror']\n",
        "X_train, X_test, y_train, y_test = train_test_split(X, y, test_size=0.2, random_state=1)"
      ]
    },
    {
      "cell_type": "markdown",
      "metadata": {
        "id": "j3VCP9mR-LDd"
      },
      "source": [
        "#Scaling\n",
        "\n"
      ]
    },
    {
      "cell_type": "code",
      "execution_count": 10,
      "metadata": {
        "id": "LFTyvxo_ogNl"
      },
      "outputs": [],
      "source": [
        "num_cols = ['bathroomcnt', 'bedroomcnt', 'quality', 'home_sqft', 'fireplacecnt', 'garagecarcnt',\n",
        "            'garage_sqft', 'latitude', 'longitude', 'lot_sqft', 'poolcnt', 'roomcnt', 'unitcnt',\n",
        "            'numberofstories','tav_built','tax_assessed_value','tav_land','property_tax','age']"
      ]
    },
    {
      "cell_type": "code",
      "execution_count": 11,
      "metadata": {
        "id": "RytaycBv-Kmo"
      },
      "outputs": [],
      "source": [
        "# Instantiate StandardScaler\n",
        "scaler = StandardScaler()\n",
        "\n",
        "# Fit scaler to the training data\n",
        "scaler.fit(X_train)\n",
        "\n",
        "# Transform the train and test data\n",
        "X_train_scaled = scaler.transform(X_train)\n",
        "X_test_scaled = scaler.transform(X_test)"
      ]
    },
    {
      "cell_type": "code",
      "execution_count": 12,
      "metadata": {
        "id": "XiQG6JCo2BnG"
      },
      "outputs": [],
      "source": [
        "# Instantiate StandardScaler on num_cols only\n",
        "scaler_num = StandardScaler()\n",
        "\n",
        "# Fit scaler to the training data\n",
        "scaler_num.fit(X_train[num_cols])\n",
        "\n",
        "# Transform the train and test data\n",
        "X_train_scaled_num = scaler_num.transform(X_train[num_cols])\n",
        "X_test_scaled_num = scaler_num.transform(X_test[num_cols])"
      ]
    },
    {
      "cell_type": "code",
      "execution_count": 13,
      "metadata": {
        "colab": {
          "base_uri": "https://localhost:8080/"
        },
        "id": "GljN6tbNuQix",
        "outputId": "968ebf3b-6a1a-4650-f1e8-ad1d4cf3ffad"
      },
      "outputs": [
        {
          "output_type": "stream",
          "name": "stdout",
          "text": [
            "X_train shape: (72220, 983)\n",
            "X_train_scaled shape: (72220, 983)\n",
            "y_train shape: (72220,)\n",
            "X_test shape: (18055, 983)\n",
            "X_test_scaled shape: (18055, 983)\n",
            "y_test shape: (18055,)\n"
          ]
        }
      ],
      "source": [
        "print('X_train shape:', X_train.shape)\n",
        "print('X_train_scaled shape:', X_train_scaled.shape)\n",
        "print('y_train shape:', y_train.shape)\n",
        "\n",
        "print('X_test shape:', X_test.shape)\n",
        "print('X_test_scaled shape:', X_test_scaled.shape)\n",
        "print('y_test shape:', y_test.shape)"
      ]
    },
    {
      "cell_type": "markdown",
      "metadata": {
        "id": "R1IBLMdC-cTi"
      },
      "source": [
        "# Modeling\n",
        "\n",
        "1. Linear Regression\n",
        "2. K Nearest Neighbors\n",
        "3. Random Forest"
      ]
    },
    {
      "cell_type": "code",
      "execution_count": 14,
      "metadata": {
        "id": "IGfRfShhp8Fq"
      },
      "outputs": [],
      "source": [
        "# load modeling packages\n",
        "from sklearn.linear_model import LinearRegression\n",
        "from sklearn.neighbors import KNeighborsRegressor\n",
        "from sklearn.ensemble import RandomForestRegressor\n",
        "import xgboost as xgb\n",
        "\n",
        "# load metrics\n",
        "from sklearn.metrics import confusion_matrix, classification_report\n",
        "from sklearn.metrics import mean_squared_error, mean_absolute_error"
      ]
    },
    {
      "cell_type": "markdown",
      "metadata": {
        "id": "LCiZ8DChp5_Z"
      },
      "source": [
        "1. Linear Regression"
      ]
    },
    {
      "cell_type": "code",
      "execution_count": 15,
      "metadata": {
        "colab": {
          "base_uri": "https://localhost:8080/"
        },
        "id": "LsjcChdYrtv_",
        "outputId": "ef45ece4-371f-4e75-8d9d-bf2beebbfabc"
      },
      "outputs": [
        {
          "output_type": "stream",
          "name": "stdout",
          "text": [
            "Linear Regression Model (all cols)\n",
            "MSE : 1.2180978301552139e+20\n",
            "RMSE : 11036746939.90586\n",
            "MAE : 145131378.3934689\n"
          ]
        }
      ],
      "source": [
        "# Create linear regression model\n",
        "lin_reg = LinearRegression()\n",
        "\n",
        "# fit and predict\n",
        "lin_reg.fit(X_train_scaled, y_train)\n",
        "y_pred = lin_reg.predict(X_test_scaled)\n",
        "\n",
        "# model evaluation\n",
        "print('Linear Regression Model (all cols)')\n",
        "print('MSE :', mean_squared_error(y_test, y_pred))\n",
        "print('RMSE :', np.sqrt(mean_squared_error(y_test, y_pred)))\n",
        "print('MAE :', mean_absolute_error(y_test, y_pred))"
      ]
    },
    {
      "cell_type": "code",
      "execution_count": 16,
      "metadata": {
        "colab": {
          "base_uri": "https://localhost:8080/"
        },
        "id": "dNfOmiCo2Ksp",
        "outputId": "5c0c65ea-3953-4ca9-ce80-0c78c5aba228"
      },
      "outputs": [
        {
          "output_type": "stream",
          "name": "stdout",
          "text": [
            "Linear Regression Model (numeric only)\n",
            "MSE : 0.023877017503954212\n",
            "RMSE : 0.15452189975519395\n",
            "MAE : 0.06717579397639704\n"
          ]
        }
      ],
      "source": [
        "# Create linear regression model for numeric columns only\n",
        "# Use only numerical data (that is scaled)\n",
        "lin_reg = LinearRegression()\n",
        "\n",
        "# fit and predict\n",
        "lin_reg.fit(X_train_scaled_num, y_train)\n",
        "y_pred = lin_reg.predict(X_test_scaled_num)\n",
        "\n",
        "# model evaluation\n",
        "print('Linear Regression Model (numeric only)')\n",
        "print('MSE :', mean_squared_error(y_test, y_pred))\n",
        "print('RMSE :', np.sqrt(mean_squared_error(y_test, y_pred)))\n",
        "print('MAE :', mean_absolute_error(y_test, y_pred))"
      ]
    },
    {
      "cell_type": "markdown",
      "metadata": {
        "id": "fnlz4X4gYCAV"
      },
      "source": [
        "2. K Nearest Neighbors"
      ]
    },
    {
      "cell_type": "code",
      "execution_count": 17,
      "metadata": {
        "colab": {
          "base_uri": "https://localhost:8080/"
        },
        "id": "UO475VI1Yhy0",
        "outputId": "1be208f3-f937-47ab-cb80-3435685365f7"
      },
      "outputs": [
        {
          "output_type": "stream",
          "name": "stdout",
          "text": [
            "KNN Regression Model (all cols)\n",
            "MSE : 0.028453071250711715\n",
            "RMSE : 0.16868038193788784\n",
            "MAE : 0.08334299086125727\n"
          ]
        }
      ],
      "source": [
        "# Create KNN regression model\n",
        "knn_reg = KNeighborsRegressor()\n",
        "\n",
        "# fit and predict\n",
        "knn_reg.fit(X_train_scaled, y_train)\n",
        "y_pred = knn_reg.predict(X_test_scaled)\n",
        "\n",
        "# model evaluation\n",
        "print('KNN Regression Model (all cols)')\n",
        "print('MSE :', mean_squared_error(y_test, y_pred))\n",
        "print('RMSE :', np.sqrt(mean_squared_error(y_test, y_pred)))\n",
        "print('MAE :', mean_absolute_error(y_test, y_pred))"
      ]
    },
    {
      "cell_type": "code",
      "execution_count": 18,
      "metadata": {
        "colab": {
          "base_uri": "https://localhost:8080/"
        },
        "id": "nRcQrCF42VuF",
        "outputId": "15cc4c8c-a7f5-4dd0-c17d-cd3311251ccd"
      },
      "outputs": [
        {
          "output_type": "stream",
          "name": "stdout",
          "text": [
            "KNN Regression Model (numeric only)\n",
            "MSE : 0.027959422561107724\n",
            "RMSE : 0.16721071305723126\n",
            "MAE : 0.08199119357518693\n"
          ]
        }
      ],
      "source": [
        "# Create KNN regression model for numeric columns only\n",
        "# Use only numerical data (that is scaled)\n",
        "knn_reg = KNeighborsRegressor()\n",
        "\n",
        "# fit and predict\n",
        "knn_reg.fit(X_train_scaled_num, y_train)\n",
        "y_pred = knn_reg.predict(X_test_scaled_num)\n",
        "\n",
        "# model evaluation\n",
        "print('KNN Regression Model (numeric only)')\n",
        "print('MSE :', mean_squared_error(y_test, y_pred))\n",
        "print('RMSE :', np.sqrt(mean_squared_error(y_test, y_pred)))\n",
        "print('MAE :', mean_absolute_error(y_test, y_pred))"
      ]
    },
    {
      "cell_type": "markdown",
      "metadata": {
        "id": "YGxEqY77Y3dT"
      },
      "source": [
        "3. Random Forest Regressor"
      ]
    },
    {
      "cell_type": "code",
      "execution_count": 19,
      "metadata": {
        "colab": {
          "base_uri": "https://localhost:8080/"
        },
        "id": "_pFGcIsrY6_v",
        "outputId": "f627a5ce-201d-4a12-f0f9-fe8778981565"
      },
      "outputs": [
        {
          "output_type": "stream",
          "name": "stdout",
          "text": [
            "Random Forest Regression Model\n",
            "MSE : 0.025152852861078868\n",
            "RMSE : 0.15859650961190436\n",
            "MAE : 0.07276532013292716\n"
          ]
        }
      ],
      "source": [
        "# Create Random Forest Regression Model\n",
        "# Use all data, not scaled\n",
        "rfc_reg = RandomForestRegressor()\n",
        "\n",
        "# fit and predict\n",
        "rfc_reg.fit(X_train, y_train)\n",
        "y_pred = rfc_reg.predict(X_test)\n",
        "\n",
        "# model evaluation\n",
        "print('Random Forest Regression Model')\n",
        "print('MSE :', mean_squared_error(y_test, y_pred))\n",
        "print('RMSE :', np.sqrt(mean_squared_error(y_test, y_pred)))\n",
        "print('MAE :', mean_absolute_error(y_test, y_pred))"
      ]
    }
  ],
  "metadata": {
    "colab": {
      "machine_shape": "hm",
      "provenance": [],
      "authorship_tag": "ABX9TyMayxHCsc1lTuoJYiNbCxrU",
      "include_colab_link": true
    },
    "gpuClass": "standard",
    "kernelspec": {
      "display_name": "Python 3",
      "name": "python3"
    },
    "language_info": {
      "name": "python"
    }
  },
  "nbformat": 4,
  "nbformat_minor": 0
}