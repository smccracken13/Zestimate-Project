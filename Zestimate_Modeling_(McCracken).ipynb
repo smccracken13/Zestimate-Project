{
  "cells": [
    {
      "cell_type": "markdown",
      "metadata": {
        "id": "view-in-github",
        "colab_type": "text"
      },
      "source": [
        "<a href=\"https://colab.research.google.com/github/smccracken13/Zestimate-Project/blob/main/Zestimate_Modeling_(McCracken).ipynb\" target=\"_parent\"><img src=\"https://colab.research.google.com/assets/colab-badge.svg\" alt=\"Open In Colab\"/></a>"
      ]
    },
    {
      "cell_type": "markdown",
      "metadata": {
        "id": "3z6zerUH59zv"
      },
      "source": [
        "Pre-processing and Training Data Development\n",
        "\n",
        "The goals of this notebook are to:\n",
        "\n",
        "1. Create dummies for categorical data\n",
        "2. Split the data into train and test sets\n",
        "3. Scale the data\n",
        "4. Test out the following models: Linear Regression, KNN, Random Forest, XGBoost"
      ]
    },
    {
      "cell_type": "code",
      "execution_count": 1,
      "metadata": {
        "id": "B-1ufwjY53k_"
      },
      "outputs": [],
      "source": [
        "import pandas as pd\n",
        "import numpy as np\n",
        "import matplotlib.pyplot as plt\n",
        "import seaborn as sns\n",
        "from sklearn.model_selection import train_test_split\n",
        "from sklearn.preprocessing import StandardScaler\n",
        "from google.colab import files"
      ]
    },
    {
      "cell_type": "code",
      "execution_count": 3,
      "metadata": {
        "colab": {
          "base_uri": "https://localhost:8080/",
          "height": 73
        },
        "id": "DRwmd5WK6jqt",
        "outputId": "8ff903a7-e17e-4f3b-92ff-08b3dbcb3273"
      },
      "outputs": [
        {
          "output_type": "display_data",
          "data": {
            "text/plain": [
              "<IPython.core.display.HTML object>"
            ],
            "text/html": [
              "\n",
              "     <input type=\"file\" id=\"files-460af20a-fba5-4423-9679-8e09f1d46287\" name=\"files[]\" multiple disabled\n",
              "        style=\"border:none\" />\n",
              "     <output id=\"result-460af20a-fba5-4423-9679-8e09f1d46287\">\n",
              "      Upload widget is only available when the cell has been executed in the\n",
              "      current browser session. Please rerun this cell to enable.\n",
              "      </output>\n",
              "      <script>// Copyright 2017 Google LLC\n",
              "//\n",
              "// Licensed under the Apache License, Version 2.0 (the \"License\");\n",
              "// you may not use this file except in compliance with the License.\n",
              "// You may obtain a copy of the License at\n",
              "//\n",
              "//      http://www.apache.org/licenses/LICENSE-2.0\n",
              "//\n",
              "// Unless required by applicable law or agreed to in writing, software\n",
              "// distributed under the License is distributed on an \"AS IS\" BASIS,\n",
              "// WITHOUT WARRANTIES OR CONDITIONS OF ANY KIND, either express or implied.\n",
              "// See the License for the specific language governing permissions and\n",
              "// limitations under the License.\n",
              "\n",
              "/**\n",
              " * @fileoverview Helpers for google.colab Python module.\n",
              " */\n",
              "(function(scope) {\n",
              "function span(text, styleAttributes = {}) {\n",
              "  const element = document.createElement('span');\n",
              "  element.textContent = text;\n",
              "  for (const key of Object.keys(styleAttributes)) {\n",
              "    element.style[key] = styleAttributes[key];\n",
              "  }\n",
              "  return element;\n",
              "}\n",
              "\n",
              "// Max number of bytes which will be uploaded at a time.\n",
              "const MAX_PAYLOAD_SIZE = 100 * 1024;\n",
              "\n",
              "function _uploadFiles(inputId, outputId) {\n",
              "  const steps = uploadFilesStep(inputId, outputId);\n",
              "  const outputElement = document.getElementById(outputId);\n",
              "  // Cache steps on the outputElement to make it available for the next call\n",
              "  // to uploadFilesContinue from Python.\n",
              "  outputElement.steps = steps;\n",
              "\n",
              "  return _uploadFilesContinue(outputId);\n",
              "}\n",
              "\n",
              "// This is roughly an async generator (not supported in the browser yet),\n",
              "// where there are multiple asynchronous steps and the Python side is going\n",
              "// to poll for completion of each step.\n",
              "// This uses a Promise to block the python side on completion of each step,\n",
              "// then passes the result of the previous step as the input to the next step.\n",
              "function _uploadFilesContinue(outputId) {\n",
              "  const outputElement = document.getElementById(outputId);\n",
              "  const steps = outputElement.steps;\n",
              "\n",
              "  const next = steps.next(outputElement.lastPromiseValue);\n",
              "  return Promise.resolve(next.value.promise).then((value) => {\n",
              "    // Cache the last promise value to make it available to the next\n",
              "    // step of the generator.\n",
              "    outputElement.lastPromiseValue = value;\n",
              "    return next.value.response;\n",
              "  });\n",
              "}\n",
              "\n",
              "/**\n",
              " * Generator function which is called between each async step of the upload\n",
              " * process.\n",
              " * @param {string} inputId Element ID of the input file picker element.\n",
              " * @param {string} outputId Element ID of the output display.\n",
              " * @return {!Iterable<!Object>} Iterable of next steps.\n",
              " */\n",
              "function* uploadFilesStep(inputId, outputId) {\n",
              "  const inputElement = document.getElementById(inputId);\n",
              "  inputElement.disabled = false;\n",
              "\n",
              "  const outputElement = document.getElementById(outputId);\n",
              "  outputElement.innerHTML = '';\n",
              "\n",
              "  const pickedPromise = new Promise((resolve) => {\n",
              "    inputElement.addEventListener('change', (e) => {\n",
              "      resolve(e.target.files);\n",
              "    });\n",
              "  });\n",
              "\n",
              "  const cancel = document.createElement('button');\n",
              "  inputElement.parentElement.appendChild(cancel);\n",
              "  cancel.textContent = 'Cancel upload';\n",
              "  const cancelPromise = new Promise((resolve) => {\n",
              "    cancel.onclick = () => {\n",
              "      resolve(null);\n",
              "    };\n",
              "  });\n",
              "\n",
              "  // Wait for the user to pick the files.\n",
              "  const files = yield {\n",
              "    promise: Promise.race([pickedPromise, cancelPromise]),\n",
              "    response: {\n",
              "      action: 'starting',\n",
              "    }\n",
              "  };\n",
              "\n",
              "  cancel.remove();\n",
              "\n",
              "  // Disable the input element since further picks are not allowed.\n",
              "  inputElement.disabled = true;\n",
              "\n",
              "  if (!files) {\n",
              "    return {\n",
              "      response: {\n",
              "        action: 'complete',\n",
              "      }\n",
              "    };\n",
              "  }\n",
              "\n",
              "  for (const file of files) {\n",
              "    const li = document.createElement('li');\n",
              "    li.append(span(file.name, {fontWeight: 'bold'}));\n",
              "    li.append(span(\n",
              "        `(${file.type || 'n/a'}) - ${file.size} bytes, ` +\n",
              "        `last modified: ${\n",
              "            file.lastModifiedDate ? file.lastModifiedDate.toLocaleDateString() :\n",
              "                                    'n/a'} - `));\n",
              "    const percent = span('0% done');\n",
              "    li.appendChild(percent);\n",
              "\n",
              "    outputElement.appendChild(li);\n",
              "\n",
              "    const fileDataPromise = new Promise((resolve) => {\n",
              "      const reader = new FileReader();\n",
              "      reader.onload = (e) => {\n",
              "        resolve(e.target.result);\n",
              "      };\n",
              "      reader.readAsArrayBuffer(file);\n",
              "    });\n",
              "    // Wait for the data to be ready.\n",
              "    let fileData = yield {\n",
              "      promise: fileDataPromise,\n",
              "      response: {\n",
              "        action: 'continue',\n",
              "      }\n",
              "    };\n",
              "\n",
              "    // Use a chunked sending to avoid message size limits. See b/62115660.\n",
              "    let position = 0;\n",
              "    do {\n",
              "      const length = Math.min(fileData.byteLength - position, MAX_PAYLOAD_SIZE);\n",
              "      const chunk = new Uint8Array(fileData, position, length);\n",
              "      position += length;\n",
              "\n",
              "      const base64 = btoa(String.fromCharCode.apply(null, chunk));\n",
              "      yield {\n",
              "        response: {\n",
              "          action: 'append',\n",
              "          file: file.name,\n",
              "          data: base64,\n",
              "        },\n",
              "      };\n",
              "\n",
              "      let percentDone = fileData.byteLength === 0 ?\n",
              "          100 :\n",
              "          Math.round((position / fileData.byteLength) * 100);\n",
              "      percent.textContent = `${percentDone}% done`;\n",
              "\n",
              "    } while (position < fileData.byteLength);\n",
              "  }\n",
              "\n",
              "  // All done.\n",
              "  yield {\n",
              "    response: {\n",
              "      action: 'complete',\n",
              "    }\n",
              "  };\n",
              "}\n",
              "\n",
              "scope.google = scope.google || {};\n",
              "scope.google.colab = scope.google.colab || {};\n",
              "scope.google.colab._files = {\n",
              "  _uploadFiles,\n",
              "  _uploadFilesContinue,\n",
              "};\n",
              "})(self);\n",
              "</script> "
            ]
          },
          "metadata": {}
        },
        {
          "output_type": "stream",
          "name": "stdout",
          "text": [
            "Saving zillow_clean.csv to zillow_clean.csv\n"
          ]
        }
      ],
      "source": [
        "# load zillow_clean.csv\n",
        "files.upload()"
      ]
    },
    {
      "cell_type": "code",
      "execution_count": 19,
      "metadata": {
        "id": "QgXfv4hH6swT"
      },
      "outputs": [],
      "source": [
        "df = pd.read_csv('zillow_clean.csv', low_memory=False, index_col = 'Unnamed: 0')"
      ]
    },
    {
      "cell_type": "code",
      "execution_count": null,
      "metadata": {
        "id": "qV6dgZMor5-r"
      },
      "outputs": [],
      "source": [
        "# Remove absolute log error column\n",
        "df.drop(columns=['fips', 'abs_log_error'], inplace = True)"
      ]
    },
    {
      "cell_type": "code",
      "execution_count": null,
      "metadata": {
        "id": "-Yh_yWyl7P7w"
      },
      "outputs": [],
      "source": [
        "# set index to parcelid\n",
        "df.set_index('parcelid')"
      ]
    },
    {
      "cell_type": "markdown",
      "metadata": {
        "id": "AKiFw2Cw7S8u"
      },
      "source": [
        "# One-hot encoding"
      ]
    },
    {
      "cell_type": "code",
      "execution_count": 20,
      "metadata": {
        "id": "8zE6X31P65W9"
      },
      "outputs": [],
      "source": [
        "# get list of categorical columns\n",
        "cat_cols = ['transaction_month', 'transaction_day','transaction_quarter','aircon',\n",
        "            'architecture', 'basementsqft', 'framing', 'deck', 'heating',\n",
        "            'poolsizesum', 'county_land_use_code', 'land_use_code','zoning_code',\n",
        "            'city', 'county', 'neighborhood','zipcode', 'storytypeid', 'material',\n",
        "            'patio_sqft', 'shed_sqft','assessmentyear', 'taxdelinquencyyear','has_spa',\n",
        "            'pool_with_spa', 'pool_without_spa', 'fireplaceflag']\n",
        "\n",
        "prefix_list = ['tm', 'td', 'tq', 'air', 'arch', 'bsqft', 'fram', 'deck', 'heat',\n",
        "               'poolsize', 'county_lu_code', 'lu_code', 'zoning', 'city',\n",
        "               'county', 'neigh', 'zip', 'storyid', 'material', 'patiosqft', 'shedsqft',\n",
        "               'assessyear', 'taxdelyear', 'has_spa', 'pool_with_spa', 'pool_without_spa', 'fireplaceflag']\n",
        "\n",
        "prefix_dict = dict(zip(cat_cols, prefix_list))"
      ]
    },
    {
      "cell_type": "code",
      "execution_count": null,
      "metadata": {
        "id": "v-329PTlwwqh"
      },
      "outputs": [],
      "source": [
        "not_given_cols = df.columns[df.isin(['not given']).any()]\n",
        "print(not_given_cols)"
      ]
    },
    {
      "cell_type": "code",
      "execution_count": null,
      "metadata": {
        "id": "evcz4htk7nWs"
      },
      "outputs": [],
      "source": [
        "# one-hot encode cat cols\n",
        "df = pd.get_dummies(df, columns = cat_cols, prefix= prefix_dict, drop_first=True)\n",
        "print(len(df.columns))"
      ]
    },
    {
      "cell_type": "markdown",
      "metadata": {
        "id": "aPxEVkg69nbR"
      },
      "source": [
        "# Train and Test Split"
      ]
    },
    {
      "cell_type": "code",
      "execution_count": null,
      "metadata": {
        "id": "nnWY4oJH9rkr"
      },
      "outputs": [],
      "source": [
        "# Create train_test_split\n",
        "X = df.loc[:, df.columns != 'logerror']\n",
        "y = df['logerror']\n",
        "X_train, X_test, y_train, y_test = train_test_split(X, y, test_size=0.2, random_state=1)"
      ]
    },
    {
      "cell_type": "markdown",
      "metadata": {
        "id": "j3VCP9mR-LDd"
      },
      "source": [
        "#Scaling\n",
        "\n"
      ]
    },
    {
      "cell_type": "code",
      "execution_count": null,
      "metadata": {
        "id": "LFTyvxo_ogNl"
      },
      "outputs": [],
      "source": [
        "num_cols = ['bathroomcnt', 'bedroomcnt', 'quality', 'home_sqft', 'fireplacecnt', 'garagecarcnt',\n",
        "            'garage_sqft', 'latitude', 'longitude', 'lot_sqft', 'poolcnt', 'roomcnt', 'unitcnt',\n",
        "            'numberofstories','tav_built','tax_assessed_value','tav_land','property_tax','age']"
      ]
    },
    {
      "cell_type": "code",
      "execution_count": null,
      "metadata": {
        "id": "RytaycBv-Kmo"
      },
      "outputs": [],
      "source": [
        "# Instantiate StandardScaler\n",
        "scaler = StandardScaler()\n",
        "\n",
        "# Fit scaler to the training data\n",
        "scaler.fit(X_train)\n",
        "\n",
        "# Transform the train and test data\n",
        "X_train_scaled = scaler.transform(X_train)\n",
        "X_test_scaled = scaler.transform(X_test)"
      ]
    },
    {
      "cell_type": "code",
      "execution_count": null,
      "metadata": {
        "id": "XiQG6JCo2BnG"
      },
      "outputs": [],
      "source": [
        "# Instantiate StandardScaler on num_cols only\n",
        "scaler_num = StandardScaler()\n",
        "\n",
        "# Fit scaler to the training data\n",
        "scaler_num.fit(X_train[num_cols])\n",
        "\n",
        "# Transform the train and test data\n",
        "X_train_scaled_num = scaler_num.transform(X_train[num_cols])\n",
        "X_test_scaled_num = scaler_num.transform(X_test[num_cols])"
      ]
    },
    {
      "cell_type": "code",
      "execution_count": null,
      "metadata": {
        "id": "GljN6tbNuQix"
      },
      "outputs": [],
      "source": [
        "print('X_train shape:', X_train.shape)\n",
        "print('X_train_scaled shape:', X_train_scaled.shape)\n",
        "print('y_train shape:', y_train.shape)\n",
        "\n",
        "print('X_test shape:', X_test.shape)\n",
        "print('X_test_scaled shape:', X_test_scaled.shape)\n",
        "print('y_test shape:', y_test.shape)"
      ]
    },
    {
      "cell_type": "markdown",
      "metadata": {
        "id": "R1IBLMdC-cTi"
      },
      "source": [
        "# Modeling\n",
        "\n",
        "1. Linear Regression\n",
        "2. K Nearest Neighbors\n",
        "3. Random Forest\n",
        "4. XGBoost"
      ]
    },
    {
      "cell_type": "code",
      "execution_count": null,
      "metadata": {
        "id": "IGfRfShhp8Fq"
      },
      "outputs": [],
      "source": [
        "# load modeling packages\n",
        "from sklearn.linear_model import LinearRegression\n",
        "from sklearn.neighbors import KNeighborsRegressor\n",
        "from sklearn.ensemble import RandomForestRegressor\n",
        "import xgboost as xgb\n",
        "\n",
        "# load metrics\n",
        "from sklearn.metrics import confusion_matrix, classification_report\n",
        "from sklearn.metrics import mean_squared_error, mean_absolute_error"
      ]
    },
    {
      "cell_type": "markdown",
      "metadata": {
        "id": "LCiZ8DChp5_Z"
      },
      "source": [
        "1. Linear Regression"
      ]
    },
    {
      "cell_type": "code",
      "execution_count": 21,
      "metadata": {
        "id": "LsjcChdYrtv_",
        "colab": {
          "base_uri": "https://localhost:8080/"
        },
        "outputId": "4fbda3bb-5d63-4561-888f-5db29315b849"
      },
      "outputs": [
        {
          "output_type": "stream",
          "name": "stdout",
          "text": [
            "Linear Regression Model (all cols)\n",
            "MSE :  1.8465567909347742e+21\n",
            "MAE :  679009761.0687196\n"
          ]
        }
      ],
      "source": [
        "# Create linear regression model\n",
        "lin_reg = LinearRegression()\n",
        "\n",
        "# fit and predict\n",
        "lin_reg.fit(X_train_scaled, y_train)\n",
        "y_pred = lin_reg.predict(X_test_scaled)\n",
        "\n",
        "# model evaluation\n",
        "print('Linear Regression Model (all cols)')\n",
        "print('MSE : ', mean_squared_error(y_test, y_pred))\n",
        "print('MAE : ', mean_absolute_error(y_test, y_pred))"
      ]
    },
    {
      "cell_type": "code",
      "execution_count": 22,
      "metadata": {
        "id": "dNfOmiCo2Ksp",
        "colab": {
          "base_uri": "https://localhost:8080/"
        },
        "outputId": "3c158d35-3aa4-401c-d38f-d1affddf78e4"
      },
      "outputs": [
        {
          "output_type": "stream",
          "name": "stdout",
          "text": [
            "Linear Regression Model (numeric only)\n",
            "MSE :  0.023877017503954212\n",
            "MAE :  0.06717579397639704\n"
          ]
        }
      ],
      "source": [
        "# Create linear regression model for numeric columns only\n",
        "# Use only numerical data (that is scaled)\n",
        "lin_reg = LinearRegression()\n",
        "\n",
        "# fit and predict\n",
        "lin_reg.fit(X_train_scaled_num, y_train)\n",
        "y_pred = lin_reg.predict(X_test_scaled_num)\n",
        "\n",
        "# model evaluation\n",
        "print('Linear Regression Model (numeric only)')\n",
        "print('MSE : ', mean_squared_error(y_test, y_pred))\n",
        "print('MAE : ', mean_absolute_error(y_test, y_pred))"
      ]
    },
    {
      "cell_type": "markdown",
      "metadata": {
        "id": "fnlz4X4gYCAV"
      },
      "source": [
        "2. K Nearest Neighbors"
      ]
    },
    {
      "cell_type": "code",
      "execution_count": 23,
      "metadata": {
        "id": "UO475VI1Yhy0",
        "colab": {
          "base_uri": "https://localhost:8080/"
        },
        "outputId": "deee665a-d66e-4f3e-b2b4-93637f83992c"
      },
      "outputs": [
        {
          "output_type": "stream",
          "name": "stdout",
          "text": [
            "KNN Regression Model (all cols)\n",
            "MSE :  0.028453071250711715\n",
            "MAE :  0.08334299086125727\n"
          ]
        }
      ],
      "source": [
        "# Create KNN regression model\n",
        "knn_reg = KNeighborsRegressor()\n",
        "\n",
        "# fit and predict\n",
        "knn_reg.fit(X_train_scaled, y_train)\n",
        "y_pred = knn_reg.predict(X_test_scaled)\n",
        "\n",
        "# model evaluation\n",
        "print('KNN Regression Model (all cols)')\n",
        "print('MSE : ', mean_squared_error(y_test, y_pred))\n",
        "print('MAE : ', mean_absolute_error(y_test, y_pred))"
      ]
    },
    {
      "cell_type": "code",
      "execution_count": 24,
      "metadata": {
        "id": "nRcQrCF42VuF",
        "colab": {
          "base_uri": "https://localhost:8080/"
        },
        "outputId": "b08bc63a-0711-4412-e8c7-aa82fd0df246"
      },
      "outputs": [
        {
          "output_type": "stream",
          "name": "stdout",
          "text": [
            "KNN Regression Model (numeric only)\n",
            "MSE :  0.027959422561107724\n",
            "MAE :  0.08199119357518693\n"
          ]
        }
      ],
      "source": [
        "# Create KNN regression model for numeric columns only\n",
        "# Use only numerical data (that is scaled)\n",
        "knn_reg = KNeighborsRegressor()\n",
        "\n",
        "# fit and predict\n",
        "knn_reg.fit(X_train_scaled_num, y_train)\n",
        "y_pred = knn_reg.predict(X_test_scaled_num)\n",
        "\n",
        "# model evaluation\n",
        "print('KNN Regression Model (numeric only)')\n",
        "print('MSE : ', mean_squared_error(y_test, y_pred))\n",
        "print('MAE : ', mean_absolute_error(y_test, y_pred))"
      ]
    },
    {
      "cell_type": "markdown",
      "metadata": {
        "id": "YGxEqY77Y3dT"
      },
      "source": [
        "3. Random Forest Regressor"
      ]
    },
    {
      "cell_type": "code",
      "execution_count": 25,
      "metadata": {
        "id": "_pFGcIsrY6_v",
        "colab": {
          "base_uri": "https://localhost:8080/"
        },
        "outputId": "67d3e313-7b9a-4c06-9e28-3f4c850751ef"
      },
      "outputs": [
        {
          "output_type": "stream",
          "name": "stdout",
          "text": [
            "Random Forest Regression Model\n",
            "MSE :  0.025097058371440988\n",
            "MAE :  0.07279008811963446\n"
          ]
        }
      ],
      "source": [
        "# Create Random Forest Regression Model\n",
        "# Use all data, not scaled\n",
        "rfc_reg = RandomForestRegressor()\n",
        "\n",
        "# fit and predict\n",
        "rfc_reg.fit(X_train, y_train)\n",
        "y_pred = rfc_reg.predict(X_test)\n",
        "\n",
        "# model evaluation\n",
        "print('Random Forest Regression Model')\n",
        "print('MSE : ', mean_squared_error(y_test, y_pred))\n",
        "print('MAE : ', mean_absolute_error(y_test, y_pred))"
      ]
    },
    {
      "cell_type": "markdown",
      "source": [
        "4. XGBoost"
      ],
      "metadata": {
        "id": "92zRZxgUHMfM"
      }
    },
    {
      "cell_type": "code",
      "source": [
        "# Create XGBoost regression model\n",
        "xgb_reg = xgb.XGBRegressor(objective='reg:squarederror', n_estimators = 10, seed=1)\n",
        "\n",
        "# fit and predict\n",
        "xgb_reg.fit(X_train_scaled_num, y_train)\n",
        "y_pred = xgb_reg.predict(X_test_scaled_num)\n",
        "\n",
        "# model evaluation\n",
        "print('XGBoost Regression Model')\n",
        "print('MSE : ', mean_squared_error(y_test, y_pred))\n",
        "print('MAE : ', mean_absolute_error(y_test, y_pred))"
      ],
      "metadata": {
        "colab": {
          "base_uri": "https://localhost:8080/"
        },
        "id": "EfZAGQOEe29k",
        "outputId": "4a01db78-489c-4166-eff5-f7df195d84f3"
      },
      "execution_count": 28,
      "outputs": [
        {
          "output_type": "stream",
          "name": "stdout",
          "text": [
            "XGBoost Squared Error Model\n",
            "MSE :  0.02416183620303665\n",
            "MAE :  0.07049195631184317\n"
          ]
        }
      ]
    }
  ],
  "metadata": {
    "colab": {
      "machine_shape": "hm",
      "provenance": [],
      "gpuType": "A100",
      "authorship_tag": "ABX9TyPjNwIeVTSX5vX6273gic5y",
      "include_colab_link": true
    },
    "gpuClass": "standard",
    "kernelspec": {
      "display_name": "Python 3",
      "name": "python3"
    },
    "language_info": {
      "name": "python"
    }
  },
  "nbformat": 4,
  "nbformat_minor": 0
}